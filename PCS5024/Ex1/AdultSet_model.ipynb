{
 "cells": [
  {
   "cell_type": "markdown",
   "metadata": {},
   "source": [
    "# Exercício Adult data set\n",
    "\n",
    "Este notebook se refere à modelagem feita para a máteria PCS5024 - Aprendizado estatístico e tinha como objetivo utilizar alguns modelos de aprendizado supervisionado para modelar o conjunto de dados AdultSet."
   ]
  },
  {
   "cell_type": "raw",
   "metadata": {
    "colab": {
     "base_uri": "https://localhost:8080/"
    },
    "executionInfo": {
     "elapsed": 23559,
     "status": "ok",
     "timestamp": 1620934099982,
     "user": {
      "displayName": "Igor Henrique Freitas",
      "photoUrl": "https://lh3.googleusercontent.com/a-/AOh14Ghp0wTnkb2AoRPWp8uyAFD4BEnmwdo7HKpDy0Qt-g=s64",
      "userId": "12416640750855436245"
     },
     "user_tz": 180
    },
    "id": "8I7Z_7Izh9Ps",
    "outputId": "9563e461-ae89-4d10-b34f-ef653f71745d"
   },
   "source": [
    "! pip install https://github.com/pandas-profiling/pandas-profiling/archive/master.zip "
   ]
  },
  {
   "cell_type": "raw",
   "metadata": {
    "colab": {
     "base_uri": "https://localhost:8080/"
    },
    "executionInfo": {
     "elapsed": 27028,
     "status": "ok",
     "timestamp": 1620934103471,
     "user": {
      "displayName": "Igor Henrique Freitas",
      "photoUrl": "https://lh3.googleusercontent.com/a-/AOh14Ghp0wTnkb2AoRPWp8uyAFD4BEnmwdo7HKpDy0Qt-g=s64",
      "userId": "12416640750855436245"
     },
     "user_tz": 180
    },
    "id": "dRrXJ4CK-bF1",
    "outputId": "d9a66f55-c80b-4a3a-b3e9-4c7740a884bd"
   },
   "source": [
    "! pip install category_encoders"
   ]
  },
  {
   "cell_type": "code",
   "execution_count": 1,
   "metadata": {
    "colab": {
     "base_uri": "https://localhost:8080/"
    },
    "executionInfo": {
     "elapsed": 31296,
     "status": "ok",
     "timestamp": 1620934107751,
     "user": {
      "displayName": "Igor Henrique Freitas",
      "photoUrl": "https://lh3.googleusercontent.com/a-/AOh14Ghp0wTnkb2AoRPWp8uyAFD4BEnmwdo7HKpDy0Qt-g=s64",
      "userId": "12416640750855436245"
     },
     "user_tz": 180
    },
    "id": "hTieo8hMU8xC",
    "outputId": "98814fa7-8303-4aaf-d6f7-270467035e2f"
   },
   "outputs": [],
   "source": [
    "import pandas as pd\n",
    "import numpy as np\n",
    "from pandas_profiling import ProfileReport\n",
    "import unicodedata\n",
    "\n",
    "from sklearn.neighbors import KNeighborsClassifier\n",
    "from sklearn.ensemble import RandomForestClassifier\n",
    "\n",
    "import category_encoders as ce\n",
    "from sklearn.preprocessing import LabelBinarizer\n",
    "from sklearn import model_selection\n",
    "from sklearn import preprocessing\n",
    "from sklearn import metrics\n",
    "from sklearn.pipeline import Pipeline\n",
    "\n",
    "from sklearn.model_selection import learning_curve, validation_curve\n",
    "\n",
    "import matplotlib.pyplot as plt\n",
    "from matplotlib.ticker import *\n",
    "import seaborn as sns\n",
    "\n",
    "import os\n",
    "\n",
    "#master_add=\"drive/My Drive/Edu/Mestrado/PCS5024 - Aprendizado estátistico/Predict_adult\"\n",
    "#if master_add not in os.getcwd():\n",
    "#  os.chdir(master_add)\n",
    "\n",
    "pd.set_option(\"display.max_columns\",None)\n",
    "pd.options.display.float_format = '{:,.2f}'.format"
   ]
  },
  {
   "cell_type": "code",
   "execution_count": 2,
   "metadata": {
    "executionInfo": {
     "elapsed": 31296,
     "status": "ok",
     "timestamp": 1620934107753,
     "user": {
      "displayName": "Igor Henrique Freitas",
      "photoUrl": "https://lh3.googleusercontent.com/a-/AOh14Ghp0wTnkb2AoRPWp8uyAFD4BEnmwdo7HKpDy0Qt-g=s64",
      "userId": "12416640750855436245"
     },
     "user_tz": 180
    },
    "id": "KygoA3DunPXz"
   },
   "outputs": [],
   "source": [
    "def plot_learning_curve(estimator, title, X, y, axes=None, ylim=None, cv=None,\n",
    "                        n_jobs=None, train_sizes=np.linspace(.1, 1.0, 5)):\n",
    "    if axes is None:\n",
    "        _, axes = plt.subplots(1, 3, figsize=(20, 5))\n",
    "\n",
    "    axes[0].set_title(title)\n",
    "    if ylim is not None:\n",
    "        axes[0].set_ylim(*ylim)\n",
    "    axes[0].set_xlabel(\"Training examples\")\n",
    "    axes[0].set_ylabel(\"Score\")\n",
    "\n",
    "    train_sizes, train_scores, test_scores, fit_times, _ = \\\n",
    "        learning_curve(estimator, X, y, cv=cv, n_jobs=n_jobs,\n",
    "                       train_sizes=train_sizes,\n",
    "                       return_times=True)\n",
    "    train_scores_mean = np.mean(train_scores, axis=1)\n",
    "    train_scores_std = np.std(train_scores, axis=1)\n",
    "    test_scores_mean = np.mean(test_scores, axis=1)\n",
    "    test_scores_std = np.std(test_scores, axis=1)\n",
    "    fit_times_mean = np.mean(fit_times, axis=1)\n",
    "    fit_times_std = np.std(fit_times, axis=1)\n",
    "\n",
    "    # Plot learning curve\n",
    "    axes[0].grid()\n",
    "    axes[0].fill_between(train_sizes, train_scores_mean - train_scores_std,\n",
    "                         train_scores_mean + train_scores_std, alpha=0.1,\n",
    "                         color=\"r\")\n",
    "    axes[0].fill_between(train_sizes, test_scores_mean - test_scores_std,\n",
    "                         test_scores_mean + test_scores_std, alpha=0.1,\n",
    "                         color=\"g\")\n",
    "    axes[0].plot(train_sizes, train_scores_mean, 'o-', color=\"r\",\n",
    "                 label=\"Training score\")\n",
    "    axes[0].plot(train_sizes, test_scores_mean, 'o-', color=\"g\",\n",
    "                 label=\"Cross-validation score\")\n",
    "    axes[0].legend(loc=\"best\")\n",
    "\n",
    "    # Plot n_samples vs fit_times\n",
    "    axes[1].grid()\n",
    "    axes[1].plot(train_sizes, fit_times_mean, 'o-')\n",
    "    axes[1].fill_between(train_sizes, fit_times_mean - fit_times_std,\n",
    "                         fit_times_mean + fit_times_std, alpha=0.1)\n",
    "    axes[1].set_xlabel(\"Training examples\")\n",
    "    axes[1].set_ylabel(\"fit_times\")\n",
    "    axes[1].set_title(\"Scalability of the model\")\n",
    "\n",
    "    # Plot fit_time vs score\n",
    "    axes[2].grid()\n",
    "    axes[2].plot(fit_times_mean, test_scores_mean, 'o-')\n",
    "    axes[2].fill_between(fit_times_mean, test_scores_mean - test_scores_std,\n",
    "                         test_scores_mean + test_scores_std, alpha=0.1)\n",
    "    axes[2].set_xlabel(\"fit_times\")\n",
    "    axes[2].set_ylabel(\"Score\")\n",
    "    axes[2].set_title(\"Performance of the model\")\n"
   ]
  },
  {
   "cell_type": "code",
   "execution_count": 3,
   "metadata": {
    "executionInfo": {
     "elapsed": 31295,
     "status": "ok",
     "timestamp": 1620934107755,
     "user": {
      "displayName": "Igor Henrique Freitas",
      "photoUrl": "https://lh3.googleusercontent.com/a-/AOh14Ghp0wTnkb2AoRPWp8uyAFD4BEnmwdo7HKpDy0Qt-g=s64",
      "userId": "12416640750855436245"
     },
     "user_tz": 180
    },
    "id": "Gd13PXARnQ4b"
   },
   "outputs": [],
   "source": [
    "def plot_validation_curve(estimator,X,y,param_name,param_range,cv=3,scoring=\"neg_mean_squared_error\"):\n",
    "    train_scores, test_scores = validation_curve(estimator=estimator, X=X, y=y, \n",
    "                                                 param_name=param_name, param_range=param_range,\n",
    "                                                 cv=cv, scoring=scoring, n_jobs=-1)\n",
    "    \n",
    "    train_scores_mean = np.mean(train_scores, axis=1)\n",
    "    train_scores_std = np.std(train_scores, axis=1)\n",
    "    test_scores_mean = np.mean(test_scores, axis=1)\n",
    "    test_scores_std = np.std(test_scores, axis=1)\n",
    "    \n",
    "    sns.set()\n",
    "    fig,ax= plt.subplots(nrows=1, ncols=1, figsize=(20,5))\n",
    "    plt.title(\"Validation Curve\")\n",
    "    plt.xlabel(param_name)\n",
    "    plt.ylabel(\"Score\")\n",
    "    lw = 2\n",
    "    sns.lineplot(param_range, train_scores_mean, label=\"Training score\",\n",
    "                 color=\"darkorange\", lw=lw)\n",
    "    ax.fill_between(param_range, train_scores_mean - train_scores_std,\n",
    "                    train_scores_mean + train_scores_std, alpha=0.2,\n",
    "                    color=\"darkorange\", lw=lw)\n",
    "    sns.lineplot(param_range, test_scores_mean, label=\"Cross-validation score\",\n",
    "                 color=\"navy\", lw=lw)\n",
    "    ax.fill_between(param_range, test_scores_mean - test_scores_std,\n",
    "                    test_scores_mean + test_scores_std, alpha=0.2,\n",
    "                    color=\"navy\", lw=lw)\n",
    "    plt.legend(loc=\"best\")\n",
    "    plt.show()"
   ]
  },
  {
   "cell_type": "code",
   "execution_count": 4,
   "metadata": {
    "executionInfo": {
     "elapsed": 31606,
     "status": "ok",
     "timestamp": 1620934108068,
     "user": {
      "displayName": "Igor Henrique Freitas",
      "photoUrl": "https://lh3.googleusercontent.com/a-/AOh14Ghp0wTnkb2AoRPWp8uyAFD4BEnmwdo7HKpDy0Qt-g=s64",
      "userId": "12416640750855436245"
     },
     "user_tz": 180
    },
    "id": "IHFpJzSBalX_"
   },
   "outputs": [],
   "source": [
    "def norm_string(x):\n",
    "    if x is None:\n",
    "        return x\n",
    "    try:\n",
    "        tmp=unicodedata.normalize('NFKD', x).encode('ASCII', 'ignore').decode('ASCII').encode('utf8', 'replace').decode()\n",
    "    except:\n",
    "        tmp=''\n",
    "    item_norm=tmp.upper().strip()\n",
    "    return item_norm\n"
   ]
  },
  {
   "cell_type": "code",
   "execution_count": 5,
   "metadata": {
    "executionInfo": {
     "elapsed": 33791,
     "status": "ok",
     "timestamp": 1620934110258,
     "user": {
      "displayName": "Igor Henrique Freitas",
      "photoUrl": "https://lh3.googleusercontent.com/a-/AOh14Ghp0wTnkb2AoRPWp8uyAFD4BEnmwdo7HKpDy0Qt-g=s64",
      "userId": "12416640750855436245"
     },
     "user_tz": 180
    },
    "id": "2QHd7rrI8FfI"
   },
   "outputs": [
    {
     "name": "stderr",
     "output_type": "stream",
     "text": [
      "<ipython-input-5-9dba2e55ec65>:15: FutureWarning: The default value of regex will change from True to False in a future version. In addition, single character regular expressions will*not* be treated as literal strings when regex=True.\n",
      "  df[col]=df[col].str.replace('.','')\n"
     ]
    }
   ],
   "source": [
    "columns_name=['age', 'workclass', 'fnlwgt', 'education', 'education-num',\n",
    "       'marital-status', 'occupation', 'relationship', 'race', 'sex',\n",
    "       'capital-gain', 'capital-loss', 'hours-per-week', 'native-country',\n",
    "       'Target']\n",
    "\n",
    "target=\"Target\"\n",
    "train=pd.read_csv(\"adult.data\",sep=',',header=None,names=columns_name)\n",
    "test=pd.read_csv(\"adult.test\",sep=',',header=None,names=columns_name).drop(0)\n",
    "\n",
    "def norm_cols(df,target):\n",
    "  for col in df.columns:\n",
    "    if df[col].dtype==\"O\":\n",
    "      df[col]=df[col].apply(lambda x: norm_string(x))\n",
    "    if col==target:\n",
    "      df[col]=df[col].str.replace('.','')\n",
    "  \n",
    "  return df\n",
    "\n",
    "train=norm_cols(train,target)\n",
    "test=norm_cols(test,target)"
   ]
  },
  {
   "cell_type": "code",
   "execution_count": 6,
   "metadata": {
    "colab": {
     "base_uri": "https://localhost:8080/",
     "height": 395
    },
    "executionInfo": {
     "elapsed": 33776,
     "status": "ok",
     "timestamp": 1620934110260,
     "user": {
      "displayName": "Igor Henrique Freitas",
      "photoUrl": "https://lh3.googleusercontent.com/a-/AOh14Ghp0wTnkb2AoRPWp8uyAFD4BEnmwdo7HKpDy0Qt-g=s64",
      "userId": "12416640750855436245"
     },
     "user_tz": 180
    },
    "id": "y3wWabnBbNRO",
    "outputId": "48a982cf-22dc-447c-85bb-625d5db17137"
   },
   "outputs": [
    {
     "data": {
      "text/html": [
       "<div>\n",
       "<style scoped>\n",
       "    .dataframe tbody tr th:only-of-type {\n",
       "        vertical-align: middle;\n",
       "    }\n",
       "\n",
       "    .dataframe tbody tr th {\n",
       "        vertical-align: top;\n",
       "    }\n",
       "\n",
       "    .dataframe thead th {\n",
       "        text-align: right;\n",
       "    }\n",
       "</style>\n",
       "<table border=\"1\" class=\"dataframe\">\n",
       "  <thead>\n",
       "    <tr style=\"text-align: right;\">\n",
       "      <th></th>\n",
       "      <th>age</th>\n",
       "      <th>workclass</th>\n",
       "      <th>fnlwgt</th>\n",
       "      <th>education</th>\n",
       "      <th>education-num</th>\n",
       "      <th>marital-status</th>\n",
       "      <th>occupation</th>\n",
       "      <th>relationship</th>\n",
       "      <th>race</th>\n",
       "      <th>sex</th>\n",
       "      <th>capital-gain</th>\n",
       "      <th>capital-loss</th>\n",
       "      <th>hours-per-week</th>\n",
       "      <th>native-country</th>\n",
       "      <th>Target</th>\n",
       "    </tr>\n",
       "  </thead>\n",
       "  <tbody>\n",
       "    <tr>\n",
       "      <th>0</th>\n",
       "      <td>39</td>\n",
       "      <td>STATE-GOV</td>\n",
       "      <td>77516</td>\n",
       "      <td>BACHELORS</td>\n",
       "      <td>13</td>\n",
       "      <td>NEVER-MARRIED</td>\n",
       "      <td>ADM-CLERICAL</td>\n",
       "      <td>NOT-IN-FAMILY</td>\n",
       "      <td>WHITE</td>\n",
       "      <td>MALE</td>\n",
       "      <td>2174</td>\n",
       "      <td>0</td>\n",
       "      <td>40</td>\n",
       "      <td>UNITED-STATES</td>\n",
       "      <td>&lt;=50K</td>\n",
       "    </tr>\n",
       "    <tr>\n",
       "      <th>1</th>\n",
       "      <td>50</td>\n",
       "      <td>SELF-EMP-NOT-INC</td>\n",
       "      <td>83311</td>\n",
       "      <td>BACHELORS</td>\n",
       "      <td>13</td>\n",
       "      <td>MARRIED-CIV-SPOUSE</td>\n",
       "      <td>EXEC-MANAGERIAL</td>\n",
       "      <td>HUSBAND</td>\n",
       "      <td>WHITE</td>\n",
       "      <td>MALE</td>\n",
       "      <td>0</td>\n",
       "      <td>0</td>\n",
       "      <td>13</td>\n",
       "      <td>UNITED-STATES</td>\n",
       "      <td>&lt;=50K</td>\n",
       "    </tr>\n",
       "    <tr>\n",
       "      <th>2</th>\n",
       "      <td>38</td>\n",
       "      <td>PRIVATE</td>\n",
       "      <td>215646</td>\n",
       "      <td>HS-GRAD</td>\n",
       "      <td>9</td>\n",
       "      <td>DIVORCED</td>\n",
       "      <td>HANDLERS-CLEANERS</td>\n",
       "      <td>NOT-IN-FAMILY</td>\n",
       "      <td>WHITE</td>\n",
       "      <td>MALE</td>\n",
       "      <td>0</td>\n",
       "      <td>0</td>\n",
       "      <td>40</td>\n",
       "      <td>UNITED-STATES</td>\n",
       "      <td>&lt;=50K</td>\n",
       "    </tr>\n",
       "    <tr>\n",
       "      <th>3</th>\n",
       "      <td>53</td>\n",
       "      <td>PRIVATE</td>\n",
       "      <td>234721</td>\n",
       "      <td>11TH</td>\n",
       "      <td>7</td>\n",
       "      <td>MARRIED-CIV-SPOUSE</td>\n",
       "      <td>HANDLERS-CLEANERS</td>\n",
       "      <td>HUSBAND</td>\n",
       "      <td>BLACK</td>\n",
       "      <td>MALE</td>\n",
       "      <td>0</td>\n",
       "      <td>0</td>\n",
       "      <td>40</td>\n",
       "      <td>UNITED-STATES</td>\n",
       "      <td>&lt;=50K</td>\n",
       "    </tr>\n",
       "    <tr>\n",
       "      <th>4</th>\n",
       "      <td>28</td>\n",
       "      <td>PRIVATE</td>\n",
       "      <td>338409</td>\n",
       "      <td>BACHELORS</td>\n",
       "      <td>13</td>\n",
       "      <td>MARRIED-CIV-SPOUSE</td>\n",
       "      <td>PROF-SPECIALTY</td>\n",
       "      <td>WIFE</td>\n",
       "      <td>BLACK</td>\n",
       "      <td>FEMALE</td>\n",
       "      <td>0</td>\n",
       "      <td>0</td>\n",
       "      <td>40</td>\n",
       "      <td>CUBA</td>\n",
       "      <td>&lt;=50K</td>\n",
       "    </tr>\n",
       "  </tbody>\n",
       "</table>\n",
       "</div>"
      ],
      "text/plain": [
       "   age         workclass  fnlwgt  education  education-num  \\\n",
       "0   39         STATE-GOV   77516  BACHELORS             13   \n",
       "1   50  SELF-EMP-NOT-INC   83311  BACHELORS             13   \n",
       "2   38           PRIVATE  215646    HS-GRAD              9   \n",
       "3   53           PRIVATE  234721       11TH              7   \n",
       "4   28           PRIVATE  338409  BACHELORS             13   \n",
       "\n",
       "       marital-status         occupation   relationship   race     sex  \\\n",
       "0       NEVER-MARRIED       ADM-CLERICAL  NOT-IN-FAMILY  WHITE    MALE   \n",
       "1  MARRIED-CIV-SPOUSE    EXEC-MANAGERIAL        HUSBAND  WHITE    MALE   \n",
       "2            DIVORCED  HANDLERS-CLEANERS  NOT-IN-FAMILY  WHITE    MALE   \n",
       "3  MARRIED-CIV-SPOUSE  HANDLERS-CLEANERS        HUSBAND  BLACK    MALE   \n",
       "4  MARRIED-CIV-SPOUSE     PROF-SPECIALTY           WIFE  BLACK  FEMALE   \n",
       "\n",
       "   capital-gain  capital-loss  hours-per-week native-country Target  \n",
       "0          2174             0              40  UNITED-STATES  <=50K  \n",
       "1             0             0              13  UNITED-STATES  <=50K  \n",
       "2             0             0              40  UNITED-STATES  <=50K  \n",
       "3             0             0              40  UNITED-STATES  <=50K  \n",
       "4             0             0              40           CUBA  <=50K  "
      ]
     },
     "execution_count": 6,
     "metadata": {},
     "output_type": "execute_result"
    }
   ],
   "source": [
    "train.head()"
   ]
  },
  {
   "cell_type": "code",
   "execution_count": 7,
   "metadata": {
    "colab": {
     "base_uri": "https://localhost:8080/",
     "height": 395
    },
    "executionInfo": {
     "elapsed": 33761,
     "status": "ok",
     "timestamp": 1620934110261,
     "user": {
      "displayName": "Igor Henrique Freitas",
      "photoUrl": "https://lh3.googleusercontent.com/a-/AOh14Ghp0wTnkb2AoRPWp8uyAFD4BEnmwdo7HKpDy0Qt-g=s64",
      "userId": "12416640750855436245"
     },
     "user_tz": 180
    },
    "id": "mAbOBhjKopoY",
    "outputId": "f8bf6ddf-01b2-4466-98f7-b4e414727daa"
   },
   "outputs": [
    {
     "data": {
      "text/html": [
       "<div>\n",
       "<style scoped>\n",
       "    .dataframe tbody tr th:only-of-type {\n",
       "        vertical-align: middle;\n",
       "    }\n",
       "\n",
       "    .dataframe tbody tr th {\n",
       "        vertical-align: top;\n",
       "    }\n",
       "\n",
       "    .dataframe thead th {\n",
       "        text-align: right;\n",
       "    }\n",
       "</style>\n",
       "<table border=\"1\" class=\"dataframe\">\n",
       "  <thead>\n",
       "    <tr style=\"text-align: right;\">\n",
       "      <th></th>\n",
       "      <th>age</th>\n",
       "      <th>workclass</th>\n",
       "      <th>fnlwgt</th>\n",
       "      <th>education</th>\n",
       "      <th>education-num</th>\n",
       "      <th>marital-status</th>\n",
       "      <th>occupation</th>\n",
       "      <th>relationship</th>\n",
       "      <th>race</th>\n",
       "      <th>sex</th>\n",
       "      <th>capital-gain</th>\n",
       "      <th>capital-loss</th>\n",
       "      <th>hours-per-week</th>\n",
       "      <th>native-country</th>\n",
       "      <th>Target</th>\n",
       "    </tr>\n",
       "  </thead>\n",
       "  <tbody>\n",
       "    <tr>\n",
       "      <th>1</th>\n",
       "      <td>25</td>\n",
       "      <td>PRIVATE</td>\n",
       "      <td>226,802.00</td>\n",
       "      <td>11TH</td>\n",
       "      <td>7.00</td>\n",
       "      <td>NEVER-MARRIED</td>\n",
       "      <td>MACHINE-OP-INSPCT</td>\n",
       "      <td>OWN-CHILD</td>\n",
       "      <td>BLACK</td>\n",
       "      <td>MALE</td>\n",
       "      <td>0.00</td>\n",
       "      <td>0.00</td>\n",
       "      <td>40.00</td>\n",
       "      <td>UNITED-STATES</td>\n",
       "      <td>&lt;=50K</td>\n",
       "    </tr>\n",
       "    <tr>\n",
       "      <th>2</th>\n",
       "      <td>38</td>\n",
       "      <td>PRIVATE</td>\n",
       "      <td>89,814.00</td>\n",
       "      <td>HS-GRAD</td>\n",
       "      <td>9.00</td>\n",
       "      <td>MARRIED-CIV-SPOUSE</td>\n",
       "      <td>FARMING-FISHING</td>\n",
       "      <td>HUSBAND</td>\n",
       "      <td>WHITE</td>\n",
       "      <td>MALE</td>\n",
       "      <td>0.00</td>\n",
       "      <td>0.00</td>\n",
       "      <td>50.00</td>\n",
       "      <td>UNITED-STATES</td>\n",
       "      <td>&lt;=50K</td>\n",
       "    </tr>\n",
       "    <tr>\n",
       "      <th>3</th>\n",
       "      <td>28</td>\n",
       "      <td>LOCAL-GOV</td>\n",
       "      <td>336,951.00</td>\n",
       "      <td>ASSOC-ACDM</td>\n",
       "      <td>12.00</td>\n",
       "      <td>MARRIED-CIV-SPOUSE</td>\n",
       "      <td>PROTECTIVE-SERV</td>\n",
       "      <td>HUSBAND</td>\n",
       "      <td>WHITE</td>\n",
       "      <td>MALE</td>\n",
       "      <td>0.00</td>\n",
       "      <td>0.00</td>\n",
       "      <td>40.00</td>\n",
       "      <td>UNITED-STATES</td>\n",
       "      <td>&gt;50K</td>\n",
       "    </tr>\n",
       "    <tr>\n",
       "      <th>4</th>\n",
       "      <td>44</td>\n",
       "      <td>PRIVATE</td>\n",
       "      <td>160,323.00</td>\n",
       "      <td>SOME-COLLEGE</td>\n",
       "      <td>10.00</td>\n",
       "      <td>MARRIED-CIV-SPOUSE</td>\n",
       "      <td>MACHINE-OP-INSPCT</td>\n",
       "      <td>HUSBAND</td>\n",
       "      <td>BLACK</td>\n",
       "      <td>MALE</td>\n",
       "      <td>7,688.00</td>\n",
       "      <td>0.00</td>\n",
       "      <td>40.00</td>\n",
       "      <td>UNITED-STATES</td>\n",
       "      <td>&gt;50K</td>\n",
       "    </tr>\n",
       "    <tr>\n",
       "      <th>5</th>\n",
       "      <td>18</td>\n",
       "      <td>?</td>\n",
       "      <td>103,497.00</td>\n",
       "      <td>SOME-COLLEGE</td>\n",
       "      <td>10.00</td>\n",
       "      <td>NEVER-MARRIED</td>\n",
       "      <td>?</td>\n",
       "      <td>OWN-CHILD</td>\n",
       "      <td>WHITE</td>\n",
       "      <td>FEMALE</td>\n",
       "      <td>0.00</td>\n",
       "      <td>0.00</td>\n",
       "      <td>30.00</td>\n",
       "      <td>UNITED-STATES</td>\n",
       "      <td>&lt;=50K</td>\n",
       "    </tr>\n",
       "  </tbody>\n",
       "</table>\n",
       "</div>"
      ],
      "text/plain": [
       "  age  workclass     fnlwgt     education  education-num      marital-status  \\\n",
       "1  25    PRIVATE 226,802.00          11TH           7.00       NEVER-MARRIED   \n",
       "2  38    PRIVATE  89,814.00       HS-GRAD           9.00  MARRIED-CIV-SPOUSE   \n",
       "3  28  LOCAL-GOV 336,951.00    ASSOC-ACDM          12.00  MARRIED-CIV-SPOUSE   \n",
       "4  44    PRIVATE 160,323.00  SOME-COLLEGE          10.00  MARRIED-CIV-SPOUSE   \n",
       "5  18          ? 103,497.00  SOME-COLLEGE          10.00       NEVER-MARRIED   \n",
       "\n",
       "          occupation relationship   race     sex  capital-gain  capital-loss  \\\n",
       "1  MACHINE-OP-INSPCT    OWN-CHILD  BLACK    MALE          0.00          0.00   \n",
       "2    FARMING-FISHING      HUSBAND  WHITE    MALE          0.00          0.00   \n",
       "3    PROTECTIVE-SERV      HUSBAND  WHITE    MALE          0.00          0.00   \n",
       "4  MACHINE-OP-INSPCT      HUSBAND  BLACK    MALE      7,688.00          0.00   \n",
       "5                  ?    OWN-CHILD  WHITE  FEMALE          0.00          0.00   \n",
       "\n",
       "   hours-per-week native-country Target  \n",
       "1           40.00  UNITED-STATES  <=50K  \n",
       "2           50.00  UNITED-STATES  <=50K  \n",
       "3           40.00  UNITED-STATES   >50K  \n",
       "4           40.00  UNITED-STATES   >50K  \n",
       "5           30.00  UNITED-STATES  <=50K  "
      ]
     },
     "execution_count": 7,
     "metadata": {},
     "output_type": "execute_result"
    }
   ],
   "source": [
    "test.head()"
   ]
  },
  {
   "cell_type": "markdown",
   "metadata": {
    "id": "-SsrZ-8ncwn7"
   },
   "source": [
    "# EDA"
   ]
  },
  {
   "cell_type": "code",
   "execution_count": 8,
   "metadata": {
    "executionInfo": {
     "elapsed": 33758,
     "status": "ok",
     "timestamp": 1620934110263,
     "user": {
      "displayName": "Igor Henrique Freitas",
      "photoUrl": "https://lh3.googleusercontent.com/a-/AOh14Ghp0wTnkb2AoRPWp8uyAFD4BEnmwdo7HKpDy0Qt-g=s64",
      "userId": "12416640750855436245"
     },
     "user_tz": 180
    },
    "id": "py-r8qSUrQE9"
   },
   "outputs": [],
   "source": [
    "def create_report(df):\n",
    "  col=df.columns[0]\n",
    "  temp=pd.DataFrame()\n",
    "  temp.at[\"nulls\",col]=df[df[col].isna()][col].count()\n",
    "  temp=pd.concat([temp,df[[col]].describe()])\n",
    "  return temp\n",
    "\n",
    "def deep_describing(df):\n",
    "  print(\"Entradas duplicadas neste conjunto são: {}\".format(df[df.duplicated()][\"age\"].count()))\n",
    "  report=pd.DataFrame()\n",
    "  i=0\n",
    "  for col in df.columns:\n",
    "    if df[col].dtype in [\"float64\",\"int64\"]:\n",
    "      report=report.merge(create_report(df[[col]]),right_index=True,left_index=True,how='outer')\n",
    "  print(\"\\nEstatísticas básicas para as colunas númericas:\")\n",
    "  display(report)\n",
    "  print(\"\")\n",
    "  report=pd.DataFrame()\n",
    "  for col in df.columns:\n",
    "    if df[col].dtype==\"O\":\n",
    "      report=report.merge(create_report(df[[col]]),right_index=True,left_index=True,how='outer')\n",
    "  print(\"\\nEstatísticas básicas para as colunas categóricas:\")\n",
    "  display(report)"
   ]
  },
  {
   "cell_type": "code",
   "execution_count": 9,
   "metadata": {
    "colab": {
     "base_uri": "https://localhost:8080/",
     "height": 703
    },
    "executionInfo": {
     "elapsed": 33742,
     "status": "ok",
     "timestamp": 1620934110264,
     "user": {
      "displayName": "Igor Henrique Freitas",
      "photoUrl": "https://lh3.googleusercontent.com/a-/AOh14Ghp0wTnkb2AoRPWp8uyAFD4BEnmwdo7HKpDy0Qt-g=s64",
      "userId": "12416640750855436245"
     },
     "user_tz": 180
    },
    "id": "fUxRn2uRran1",
    "outputId": "0ed2ff40-d48f-4895-b411-cd1f714f93d9"
   },
   "outputs": [
    {
     "name": "stdout",
     "output_type": "stream",
     "text": [
      "Entradas duplicadas neste conjunto são: 24\n",
      "\n",
      "Estatísticas básicas para as colunas númericas:\n"
     ]
    },
    {
     "data": {
      "text/html": [
       "<div>\n",
       "<style scoped>\n",
       "    .dataframe tbody tr th:only-of-type {\n",
       "        vertical-align: middle;\n",
       "    }\n",
       "\n",
       "    .dataframe tbody tr th {\n",
       "        vertical-align: top;\n",
       "    }\n",
       "\n",
       "    .dataframe thead th {\n",
       "        text-align: right;\n",
       "    }\n",
       "</style>\n",
       "<table border=\"1\" class=\"dataframe\">\n",
       "  <thead>\n",
       "    <tr style=\"text-align: right;\">\n",
       "      <th></th>\n",
       "      <th>age</th>\n",
       "      <th>fnlwgt</th>\n",
       "      <th>education-num</th>\n",
       "      <th>capital-gain</th>\n",
       "      <th>capital-loss</th>\n",
       "      <th>hours-per-week</th>\n",
       "    </tr>\n",
       "  </thead>\n",
       "  <tbody>\n",
       "    <tr>\n",
       "      <th>nulls</th>\n",
       "      <td>0.00</td>\n",
       "      <td>0.00</td>\n",
       "      <td>0.00</td>\n",
       "      <td>0.00</td>\n",
       "      <td>0.00</td>\n",
       "      <td>0.00</td>\n",
       "    </tr>\n",
       "    <tr>\n",
       "      <th>count</th>\n",
       "      <td>32,561.00</td>\n",
       "      <td>32,561.00</td>\n",
       "      <td>32,561.00</td>\n",
       "      <td>32,561.00</td>\n",
       "      <td>32,561.00</td>\n",
       "      <td>32,561.00</td>\n",
       "    </tr>\n",
       "    <tr>\n",
       "      <th>mean</th>\n",
       "      <td>38.58</td>\n",
       "      <td>189,778.37</td>\n",
       "      <td>10.08</td>\n",
       "      <td>1,077.65</td>\n",
       "      <td>87.30</td>\n",
       "      <td>40.44</td>\n",
       "    </tr>\n",
       "    <tr>\n",
       "      <th>std</th>\n",
       "      <td>13.64</td>\n",
       "      <td>105,549.98</td>\n",
       "      <td>2.57</td>\n",
       "      <td>7,385.29</td>\n",
       "      <td>402.96</td>\n",
       "      <td>12.35</td>\n",
       "    </tr>\n",
       "    <tr>\n",
       "      <th>min</th>\n",
       "      <td>17.00</td>\n",
       "      <td>12,285.00</td>\n",
       "      <td>1.00</td>\n",
       "      <td>0.00</td>\n",
       "      <td>0.00</td>\n",
       "      <td>1.00</td>\n",
       "    </tr>\n",
       "    <tr>\n",
       "      <th>25%</th>\n",
       "      <td>28.00</td>\n",
       "      <td>117,827.00</td>\n",
       "      <td>9.00</td>\n",
       "      <td>0.00</td>\n",
       "      <td>0.00</td>\n",
       "      <td>40.00</td>\n",
       "    </tr>\n",
       "    <tr>\n",
       "      <th>50%</th>\n",
       "      <td>37.00</td>\n",
       "      <td>178,356.00</td>\n",
       "      <td>10.00</td>\n",
       "      <td>0.00</td>\n",
       "      <td>0.00</td>\n",
       "      <td>40.00</td>\n",
       "    </tr>\n",
       "    <tr>\n",
       "      <th>75%</th>\n",
       "      <td>48.00</td>\n",
       "      <td>237,051.00</td>\n",
       "      <td>12.00</td>\n",
       "      <td>0.00</td>\n",
       "      <td>0.00</td>\n",
       "      <td>45.00</td>\n",
       "    </tr>\n",
       "    <tr>\n",
       "      <th>max</th>\n",
       "      <td>90.00</td>\n",
       "      <td>1,484,705.00</td>\n",
       "      <td>16.00</td>\n",
       "      <td>99,999.00</td>\n",
       "      <td>4,356.00</td>\n",
       "      <td>99.00</td>\n",
       "    </tr>\n",
       "  </tbody>\n",
       "</table>\n",
       "</div>"
      ],
      "text/plain": [
       "            age       fnlwgt  education-num  capital-gain  capital-loss  \\\n",
       "nulls      0.00         0.00           0.00          0.00          0.00   \n",
       "count 32,561.00    32,561.00      32,561.00     32,561.00     32,561.00   \n",
       "mean      38.58   189,778.37          10.08      1,077.65         87.30   \n",
       "std       13.64   105,549.98           2.57      7,385.29        402.96   \n",
       "min       17.00    12,285.00           1.00          0.00          0.00   \n",
       "25%       28.00   117,827.00           9.00          0.00          0.00   \n",
       "50%       37.00   178,356.00          10.00          0.00          0.00   \n",
       "75%       48.00   237,051.00          12.00          0.00          0.00   \n",
       "max       90.00 1,484,705.00          16.00     99,999.00      4,356.00   \n",
       "\n",
       "       hours-per-week  \n",
       "nulls            0.00  \n",
       "count       32,561.00  \n",
       "mean            40.44  \n",
       "std             12.35  \n",
       "min              1.00  \n",
       "25%             40.00  \n",
       "50%             40.00  \n",
       "75%             45.00  \n",
       "max             99.00  "
      ]
     },
     "metadata": {},
     "output_type": "display_data"
    },
    {
     "name": "stdout",
     "output_type": "stream",
     "text": [
      "\n",
      "\n",
      "Estatísticas básicas para as colunas categóricas:\n"
     ]
    },
    {
     "data": {
      "text/html": [
       "<div>\n",
       "<style scoped>\n",
       "    .dataframe tbody tr th:only-of-type {\n",
       "        vertical-align: middle;\n",
       "    }\n",
       "\n",
       "    .dataframe tbody tr th {\n",
       "        vertical-align: top;\n",
       "    }\n",
       "\n",
       "    .dataframe thead th {\n",
       "        text-align: right;\n",
       "    }\n",
       "</style>\n",
       "<table border=\"1\" class=\"dataframe\">\n",
       "  <thead>\n",
       "    <tr style=\"text-align: right;\">\n",
       "      <th></th>\n",
       "      <th>workclass</th>\n",
       "      <th>education</th>\n",
       "      <th>marital-status</th>\n",
       "      <th>occupation</th>\n",
       "      <th>relationship</th>\n",
       "      <th>race</th>\n",
       "      <th>sex</th>\n",
       "      <th>native-country</th>\n",
       "      <th>Target</th>\n",
       "    </tr>\n",
       "  </thead>\n",
       "  <tbody>\n",
       "    <tr>\n",
       "      <th>nulls</th>\n",
       "      <td>0.00</td>\n",
       "      <td>0.00</td>\n",
       "      <td>0.00</td>\n",
       "      <td>0.00</td>\n",
       "      <td>0.00</td>\n",
       "      <td>0.00</td>\n",
       "      <td>0.00</td>\n",
       "      <td>0.00</td>\n",
       "      <td>0.00</td>\n",
       "    </tr>\n",
       "    <tr>\n",
       "      <th>count</th>\n",
       "      <td>32561</td>\n",
       "      <td>32561</td>\n",
       "      <td>32561</td>\n",
       "      <td>32561</td>\n",
       "      <td>32561</td>\n",
       "      <td>32561</td>\n",
       "      <td>32561</td>\n",
       "      <td>32561</td>\n",
       "      <td>32561</td>\n",
       "    </tr>\n",
       "    <tr>\n",
       "      <th>unique</th>\n",
       "      <td>9</td>\n",
       "      <td>16</td>\n",
       "      <td>7</td>\n",
       "      <td>15</td>\n",
       "      <td>6</td>\n",
       "      <td>5</td>\n",
       "      <td>2</td>\n",
       "      <td>42</td>\n",
       "      <td>2</td>\n",
       "    </tr>\n",
       "    <tr>\n",
       "      <th>top</th>\n",
       "      <td>PRIVATE</td>\n",
       "      <td>HS-GRAD</td>\n",
       "      <td>MARRIED-CIV-SPOUSE</td>\n",
       "      <td>PROF-SPECIALTY</td>\n",
       "      <td>HUSBAND</td>\n",
       "      <td>WHITE</td>\n",
       "      <td>MALE</td>\n",
       "      <td>UNITED-STATES</td>\n",
       "      <td>&lt;=50K</td>\n",
       "    </tr>\n",
       "    <tr>\n",
       "      <th>freq</th>\n",
       "      <td>22696</td>\n",
       "      <td>10501</td>\n",
       "      <td>14976</td>\n",
       "      <td>4140</td>\n",
       "      <td>13193</td>\n",
       "      <td>27816</td>\n",
       "      <td>21790</td>\n",
       "      <td>29170</td>\n",
       "      <td>24720</td>\n",
       "    </tr>\n",
       "  </tbody>\n",
       "</table>\n",
       "</div>"
      ],
      "text/plain": [
       "       workclass education      marital-status      occupation relationship  \\\n",
       "nulls       0.00      0.00                0.00            0.00         0.00   \n",
       "count      32561     32561               32561           32561        32561   \n",
       "unique         9        16                   7              15            6   \n",
       "top      PRIVATE   HS-GRAD  MARRIED-CIV-SPOUSE  PROF-SPECIALTY      HUSBAND   \n",
       "freq       22696     10501               14976            4140        13193   \n",
       "\n",
       "         race    sex native-country Target  \n",
       "nulls    0.00   0.00           0.00   0.00  \n",
       "count   32561  32561          32561  32561  \n",
       "unique      5      2             42      2  \n",
       "top     WHITE   MALE  UNITED-STATES  <=50K  \n",
       "freq    27816  21790          29170  24720  "
      ]
     },
     "metadata": {},
     "output_type": "display_data"
    }
   ],
   "source": [
    "deep_describing(train)"
   ]
  },
  {
   "cell_type": "code",
   "execution_count": 10,
   "metadata": {
    "colab": {
     "base_uri": "https://localhost:8080/",
     "height": 0
    },
    "executionInfo": {
     "elapsed": 34164,
     "status": "ok",
     "timestamp": 1620934110702,
     "user": {
      "displayName": "Igor Henrique Freitas",
      "photoUrl": "https://lh3.googleusercontent.com/a-/AOh14Ghp0wTnkb2AoRPWp8uyAFD4BEnmwdo7HKpDy0Qt-g=s64",
      "userId": "12416640750855436245"
     },
     "user_tz": 180
    },
    "id": "58B5UGpK6rqv",
    "outputId": "1a148e1c-5e6f-4853-d7bb-692d3c152487"
   },
   "outputs": [
    {
     "name": "stdout",
     "output_type": "stream",
     "text": [
      "Entradas duplicadas neste conjunto são: 5\n",
      "\n",
      "Estatísticas básicas para as colunas númericas:\n"
     ]
    },
    {
     "data": {
      "text/html": [
       "<div>\n",
       "<style scoped>\n",
       "    .dataframe tbody tr th:only-of-type {\n",
       "        vertical-align: middle;\n",
       "    }\n",
       "\n",
       "    .dataframe tbody tr th {\n",
       "        vertical-align: top;\n",
       "    }\n",
       "\n",
       "    .dataframe thead th {\n",
       "        text-align: right;\n",
       "    }\n",
       "</style>\n",
       "<table border=\"1\" class=\"dataframe\">\n",
       "  <thead>\n",
       "    <tr style=\"text-align: right;\">\n",
       "      <th></th>\n",
       "      <th>fnlwgt</th>\n",
       "      <th>education-num</th>\n",
       "      <th>capital-gain</th>\n",
       "      <th>capital-loss</th>\n",
       "      <th>hours-per-week</th>\n",
       "    </tr>\n",
       "  </thead>\n",
       "  <tbody>\n",
       "    <tr>\n",
       "      <th>nulls</th>\n",
       "      <td>0.00</td>\n",
       "      <td>0.00</td>\n",
       "      <td>0.00</td>\n",
       "      <td>0.00</td>\n",
       "      <td>0.00</td>\n",
       "    </tr>\n",
       "    <tr>\n",
       "      <th>count</th>\n",
       "      <td>16,281.00</td>\n",
       "      <td>16,281.00</td>\n",
       "      <td>16,281.00</td>\n",
       "      <td>16,281.00</td>\n",
       "      <td>16,281.00</td>\n",
       "    </tr>\n",
       "    <tr>\n",
       "      <th>mean</th>\n",
       "      <td>189,435.68</td>\n",
       "      <td>10.07</td>\n",
       "      <td>1,081.91</td>\n",
       "      <td>87.90</td>\n",
       "      <td>40.39</td>\n",
       "    </tr>\n",
       "    <tr>\n",
       "      <th>std</th>\n",
       "      <td>105,714.91</td>\n",
       "      <td>2.57</td>\n",
       "      <td>7,583.94</td>\n",
       "      <td>403.11</td>\n",
       "      <td>12.48</td>\n",
       "    </tr>\n",
       "    <tr>\n",
       "      <th>min</th>\n",
       "      <td>13,492.00</td>\n",
       "      <td>1.00</td>\n",
       "      <td>0.00</td>\n",
       "      <td>0.00</td>\n",
       "      <td>1.00</td>\n",
       "    </tr>\n",
       "    <tr>\n",
       "      <th>25%</th>\n",
       "      <td>116,736.00</td>\n",
       "      <td>9.00</td>\n",
       "      <td>0.00</td>\n",
       "      <td>0.00</td>\n",
       "      <td>40.00</td>\n",
       "    </tr>\n",
       "    <tr>\n",
       "      <th>50%</th>\n",
       "      <td>177,831.00</td>\n",
       "      <td>10.00</td>\n",
       "      <td>0.00</td>\n",
       "      <td>0.00</td>\n",
       "      <td>40.00</td>\n",
       "    </tr>\n",
       "    <tr>\n",
       "      <th>75%</th>\n",
       "      <td>238,384.00</td>\n",
       "      <td>12.00</td>\n",
       "      <td>0.00</td>\n",
       "      <td>0.00</td>\n",
       "      <td>45.00</td>\n",
       "    </tr>\n",
       "    <tr>\n",
       "      <th>max</th>\n",
       "      <td>1,490,400.00</td>\n",
       "      <td>16.00</td>\n",
       "      <td>99,999.00</td>\n",
       "      <td>3,770.00</td>\n",
       "      <td>99.00</td>\n",
       "    </tr>\n",
       "  </tbody>\n",
       "</table>\n",
       "</div>"
      ],
      "text/plain": [
       "            fnlwgt  education-num  capital-gain  capital-loss  hours-per-week\n",
       "nulls         0.00           0.00          0.00          0.00            0.00\n",
       "count    16,281.00      16,281.00     16,281.00     16,281.00       16,281.00\n",
       "mean    189,435.68          10.07      1,081.91         87.90           40.39\n",
       "std     105,714.91           2.57      7,583.94        403.11           12.48\n",
       "min      13,492.00           1.00          0.00          0.00            1.00\n",
       "25%     116,736.00           9.00          0.00          0.00           40.00\n",
       "50%     177,831.00          10.00          0.00          0.00           40.00\n",
       "75%     238,384.00          12.00          0.00          0.00           45.00\n",
       "max   1,490,400.00          16.00     99,999.00      3,770.00           99.00"
      ]
     },
     "metadata": {},
     "output_type": "display_data"
    },
    {
     "name": "stdout",
     "output_type": "stream",
     "text": [
      "\n",
      "\n",
      "Estatísticas básicas para as colunas categóricas:\n"
     ]
    },
    {
     "data": {
      "text/html": [
       "<div>\n",
       "<style scoped>\n",
       "    .dataframe tbody tr th:only-of-type {\n",
       "        vertical-align: middle;\n",
       "    }\n",
       "\n",
       "    .dataframe tbody tr th {\n",
       "        vertical-align: top;\n",
       "    }\n",
       "\n",
       "    .dataframe thead th {\n",
       "        text-align: right;\n",
       "    }\n",
       "</style>\n",
       "<table border=\"1\" class=\"dataframe\">\n",
       "  <thead>\n",
       "    <tr style=\"text-align: right;\">\n",
       "      <th></th>\n",
       "      <th>age</th>\n",
       "      <th>workclass</th>\n",
       "      <th>education</th>\n",
       "      <th>marital-status</th>\n",
       "      <th>occupation</th>\n",
       "      <th>relationship</th>\n",
       "      <th>race</th>\n",
       "      <th>sex</th>\n",
       "      <th>native-country</th>\n",
       "      <th>Target</th>\n",
       "    </tr>\n",
       "  </thead>\n",
       "  <tbody>\n",
       "    <tr>\n",
       "      <th>nulls</th>\n",
       "      <td>0.00</td>\n",
       "      <td>0.00</td>\n",
       "      <td>0.00</td>\n",
       "      <td>0.00</td>\n",
       "      <td>0.00</td>\n",
       "      <td>0.00</td>\n",
       "      <td>0.00</td>\n",
       "      <td>0.00</td>\n",
       "      <td>0.00</td>\n",
       "      <td>0.00</td>\n",
       "    </tr>\n",
       "    <tr>\n",
       "      <th>count</th>\n",
       "      <td>16281</td>\n",
       "      <td>16281</td>\n",
       "      <td>16281</td>\n",
       "      <td>16281</td>\n",
       "      <td>16281</td>\n",
       "      <td>16281</td>\n",
       "      <td>16281</td>\n",
       "      <td>16281</td>\n",
       "      <td>16281</td>\n",
       "      <td>16281</td>\n",
       "    </tr>\n",
       "    <tr>\n",
       "      <th>unique</th>\n",
       "      <td>73</td>\n",
       "      <td>9</td>\n",
       "      <td>16</td>\n",
       "      <td>7</td>\n",
       "      <td>15</td>\n",
       "      <td>6</td>\n",
       "      <td>5</td>\n",
       "      <td>2</td>\n",
       "      <td>41</td>\n",
       "      <td>2</td>\n",
       "    </tr>\n",
       "    <tr>\n",
       "      <th>top</th>\n",
       "      <td>35</td>\n",
       "      <td>PRIVATE</td>\n",
       "      <td>HS-GRAD</td>\n",
       "      <td>MARRIED-CIV-SPOUSE</td>\n",
       "      <td>PROF-SPECIALTY</td>\n",
       "      <td>HUSBAND</td>\n",
       "      <td>WHITE</td>\n",
       "      <td>MALE</td>\n",
       "      <td>UNITED-STATES</td>\n",
       "      <td>&lt;=50K</td>\n",
       "    </tr>\n",
       "    <tr>\n",
       "      <th>freq</th>\n",
       "      <td>461</td>\n",
       "      <td>11210</td>\n",
       "      <td>5283</td>\n",
       "      <td>7403</td>\n",
       "      <td>2032</td>\n",
       "      <td>6523</td>\n",
       "      <td>13946</td>\n",
       "      <td>10860</td>\n",
       "      <td>14662</td>\n",
       "      <td>12435</td>\n",
       "    </tr>\n",
       "  </tbody>\n",
       "</table>\n",
       "</div>"
      ],
      "text/plain": [
       "          age workclass education      marital-status      occupation  \\\n",
       "nulls    0.00      0.00      0.00                0.00            0.00   \n",
       "count   16281     16281     16281               16281           16281   \n",
       "unique     73         9        16                   7              15   \n",
       "top        35   PRIVATE   HS-GRAD  MARRIED-CIV-SPOUSE  PROF-SPECIALTY   \n",
       "freq      461     11210      5283                7403            2032   \n",
       "\n",
       "       relationship   race    sex native-country Target  \n",
       "nulls          0.00   0.00   0.00           0.00   0.00  \n",
       "count         16281  16281  16281          16281  16281  \n",
       "unique            6      5      2             41      2  \n",
       "top         HUSBAND  WHITE   MALE  UNITED-STATES  <=50K  \n",
       "freq           6523  13946  10860          14662  12435  "
      ]
     },
     "metadata": {},
     "output_type": "display_data"
    }
   ],
   "source": [
    "deep_describing(test)"
   ]
  },
  {
   "cell_type": "code",
   "execution_count": 11,
   "metadata": {
    "colab": {
     "base_uri": "https://localhost:8080/",
     "height": 145,
     "referenced_widgets": [
      "f04f5d11cbd945fe8ad151a0b01f73fa",
      "5eb77d979a1945bfacfe304abb7fe7b8",
      "b99e2eaa53974a28bb0f7dc39581e6ca",
      "92c5af86634f470a80bca386a9359d84",
      "c28b5ad9404a4fe882664285cb33dff0",
      "309af91ec8254593af008c44706f10b8",
      "e2b63f875eab4fd18912f46dfd5f4e92",
      "48d50abe1b9b4ac88a43b2fe461079c0",
      "f8ee7a1fe75c41708dd656ca5a058177",
      "39da7a23ac584a72bab4792c529f4839",
      "319d9fa13591441294d61256cd0af158",
      "1ea5bd749ca04f139c5b8e402ce107f3",
      "4cfc2e0623434b68957f4e6c07c5574c",
      "53e46d0e96724df3b2eb264ded46f7d3",
      "66773440477b4d7d805e1f859f1374a3",
      "08e50926f65847cf8f69b95953c5d7e8",
      "3bcc37a00be14c858e8509e1334acbf9",
      "a11d92d104184abb855786a45238c732",
      "1c8f6817fc36496195d9e7c506eea6e8",
      "97ad607109a547859a9a05244f25f810",
      "2257e53962c84815a285b177d9afedad",
      "a870cbd6402c4a9da97d7879a27a1f90",
      "fd13d802f0334aa99f5317778455709c",
      "1fc65bfda4ba4c3ebca9104c7663ace5",
      "8c758363f39b40748acc81048641fd86",
      "3c31b45e638e4e679a58a0ce3605e2b5",
      "6654d16500f94a68b915cc3eaf7b0705",
      "b0b21341f99246fc9f071d29afedb166",
      "e466b616e3ba43fbb03dc357755d243c",
      "0aac062d2f0b443daf30b5f10e2e75a0",
      "a075dc90fc8643548e0ddaccc447a254",
      "a585221650134f229f3ec9412453d751",
      "e16dd9e1a40d4e2c956852ccfe98514c",
      "8509c46c61ea4124a3a2eea4c3880126",
      "9163fb949cb64a268500125ce956ea92",
      "5692970492214da68fdde24660392e91",
      "8c85abb991744e8590b3fd45ce7a73bd",
      "39de64e130ae44efa04f8bf649ec584b",
      "41f66f67d5c8491e853089f59b0f3fb4",
      "7c525a9f699e460589818f65bea3afa7",
      "6d42419b29b54e8a90ba77e6f17f64f4",
      "9aad827f343e4dd0822d03e615aefd96",
      "46f758f7a341487095eb7726de429358",
      "0a0c526a11834f69b67eed4f50ae09f7"
     ]
    },
    "executionInfo": {
     "elapsed": 64640,
     "status": "ok",
     "timestamp": 1620934141194,
     "user": {
      "displayName": "Igor Henrique Freitas",
      "photoUrl": "https://lh3.googleusercontent.com/a-/AOh14Ghp0wTnkb2AoRPWp8uyAFD4BEnmwdo7HKpDy0Qt-g=s64",
      "userId": "12416640750855436245"
     },
     "user_tz": 180
    },
    "id": "VZ7HRiJrcphF",
    "outputId": "2d2b54f9-9643-4416-8dd3-b50f47da0372"
   },
   "outputs": [
    {
     "data": {
      "application/vnd.jupyter.widget-view+json": {
       "model_id": "32eca78ab62e4e4b8b5c82feb9177641",
       "version_major": 2,
       "version_minor": 0
      },
      "text/plain": [
       "HBox(children=(HTML(value='Summarize dataset'), FloatProgress(value=0.0, max=29.0), HTML(value='')))"
      ]
     },
     "metadata": {},
     "output_type": "display_data"
    },
    {
     "name": "stdout",
     "output_type": "stream",
     "text": [
      "\n"
     ]
    },
    {
     "data": {
      "application/vnd.jupyter.widget-view+json": {
       "model_id": "14bb273ce4c84f20a5b27379a5221bd2",
       "version_major": 2,
       "version_minor": 0
      },
      "text/plain": [
       "HBox(children=(HTML(value='Generate report structure'), FloatProgress(value=0.0, max=1.0), HTML(value='')))"
      ]
     },
     "metadata": {},
     "output_type": "display_data"
    },
    {
     "name": "stdout",
     "output_type": "stream",
     "text": [
      "\n"
     ]
    },
    {
     "data": {
      "application/vnd.jupyter.widget-view+json": {
       "model_id": "4f3ee73c44f24008a6616db9f979fcce",
       "version_major": 2,
       "version_minor": 0
      },
      "text/plain": [
       "HBox(children=(HTML(value='Render HTML'), FloatProgress(value=0.0, max=1.0), HTML(value='')))"
      ]
     },
     "metadata": {},
     "output_type": "display_data"
    },
    {
     "name": "stdout",
     "output_type": "stream",
     "text": [
      "\n"
     ]
    },
    {
     "data": {
      "application/vnd.jupyter.widget-view+json": {
       "model_id": "26df595084104662b27294d980d7b9fe",
       "version_major": 2,
       "version_minor": 0
      },
      "text/plain": [
       "HBox(children=(HTML(value='Export report to file'), FloatProgress(value=0.0, max=1.0), HTML(value='')))"
      ]
     },
     "metadata": {},
     "output_type": "display_data"
    },
    {
     "name": "stdout",
     "output_type": "stream",
     "text": [
      "\n"
     ]
    }
   ],
   "source": [
    "TrainProfile = ProfileReport(train, title=\"Pandas Train Profiling Report\", explorative=True)\n",
    "TrainProfile.to_file(\"train.html\")\n"
   ]
  },
  {
   "cell_type": "code",
   "execution_count": 12,
   "metadata": {
    "colab": {
     "base_uri": "https://localhost:8080/",
     "height": 145,
     "referenced_widgets": [
      "18ec62a0ac944cff89df5c3e55d85026",
      "48658815432b462da88c2950bc06c1bd",
      "b708548052404c9c89792646e3d303d7",
      "6468a7c719684003b2a7cdc098495ac3",
      "659370d2c47b48d5a75f182b82fa1b14",
      "e8745fd44d374a31847798daaaa0a03a",
      "51dfd972afcc48489b0470fe6a460874",
      "04d2d83ea9da431cb995f533e78d74d8",
      "0e464246b9524edd82033651eaf4220b",
      "f9195d1b73eb43d4b71e6790de0943a7",
      "2b5af668b90c4ad48d54f39e559ddebb",
      "58240d0c0d9b48978a9e35c4453a3e43",
      "975b359610f7481b8708595b7add5987",
      "246636dc0f094e299af7690282cbbd00",
      "da0beaab858d4b669991eb0cc6d10534",
      "fe83ce05fa3349ab987179628fe85842",
      "39bd2c8679fb49e39d4ca467da6b6c2f",
      "7a124253917c46c7a9eec0650c5e06b0",
      "705656966a584a7b80cb77df73365376",
      "6b624cef841b44d885b6d7625f823858",
      "74981665a69844c3a4f377c61cdbe44f",
      "8c125133926e445b9dd7151efc1cc559",
      "cc424da47cac419a8de01a6e3b1353c8",
      "01ed83aed43e401aa95eca7498aa4120",
      "3ee988a51ebd4ef5958b62f911fab9fe",
      "e6971a2a46594f6cb8a3b7aaabccb715",
      "2f22767f08aa4bc9b13818099ebfd26d",
      "7d8095cabadc4fdeae4dde590e9e1609",
      "b453f781d0ce4d73ade963aa8d4abff0",
      "72ba661e434b4a9e809658f19f4b59d9",
      "c20415002b284cc3900aa524d74b29a8",
      "bbf3dbe2ce9d4f1ca8498bdb6c43e8f1",
      "624d9891b83142329c41ff73c7161660",
      "69f2a47895fb4c1abaaafe72e7a13d1f",
      "40ab8af00e624395aec7fa3a3f15fb6f",
      "12f4f197a9f24833a9989fbf1b616cb9",
      "aa06b5635d334ba7866e12d1d15c7416",
      "f98f9692888e4896b74f36c590eebf57",
      "be33105c388f440bbac26b44db17d342",
      "7f1cebe83cb1407ba38db7a04daef813",
      "3b026b6bbadc486aacc71ce4cd952cbd",
      "56debe9bb3594fd8b412a7e804a7bb84",
      "1ca60689ad364ebcbda65f32c342a55c",
      "849bf205dd204e68a5d2da513d474545"
     ]
    },
    "executionInfo": {
     "elapsed": 98030,
     "status": "ok",
     "timestamp": 1620934174599,
     "user": {
      "displayName": "Igor Henrique Freitas",
      "photoUrl": "https://lh3.googleusercontent.com/a-/AOh14Ghp0wTnkb2AoRPWp8uyAFD4BEnmwdo7HKpDy0Qt-g=s64",
      "userId": "12416640750855436245"
     },
     "user_tz": 180
    },
    "id": "OiUPBU9enzFn",
    "outputId": "8e3d9212-f1e9-4a9d-8a20-4086c36e879f"
   },
   "outputs": [
    {
     "data": {
      "application/vnd.jupyter.widget-view+json": {
       "model_id": "c8385694d9ce41478d29f35838ec9058",
       "version_major": 2,
       "version_minor": 0
      },
      "text/plain": [
       "HBox(children=(HTML(value='Summarize dataset'), FloatProgress(value=0.0, max=30.0), HTML(value='')))"
      ]
     },
     "metadata": {},
     "output_type": "display_data"
    },
    {
     "name": "stdout",
     "output_type": "stream",
     "text": [
      "\n"
     ]
    },
    {
     "data": {
      "application/vnd.jupyter.widget-view+json": {
       "model_id": "1157372796354148900bcfc92eeaa8e5",
       "version_major": 2,
       "version_minor": 0
      },
      "text/plain": [
       "HBox(children=(HTML(value='Generate report structure'), FloatProgress(value=0.0, max=1.0), HTML(value='')))"
      ]
     },
     "metadata": {},
     "output_type": "display_data"
    },
    {
     "name": "stdout",
     "output_type": "stream",
     "text": [
      "\n"
     ]
    },
    {
     "data": {
      "application/vnd.jupyter.widget-view+json": {
       "model_id": "707cfdbd61624725985884d6ea6e1107",
       "version_major": 2,
       "version_minor": 0
      },
      "text/plain": [
       "HBox(children=(HTML(value='Render HTML'), FloatProgress(value=0.0, max=1.0), HTML(value='')))"
      ]
     },
     "metadata": {},
     "output_type": "display_data"
    },
    {
     "name": "stdout",
     "output_type": "stream",
     "text": [
      "\n"
     ]
    },
    {
     "data": {
      "application/vnd.jupyter.widget-view+json": {
       "model_id": "ef407012d2584538ba09658ac5f27c7a",
       "version_major": 2,
       "version_minor": 0
      },
      "text/plain": [
       "HBox(children=(HTML(value='Export report to file'), FloatProgress(value=0.0, max=1.0), HTML(value='')))"
      ]
     },
     "metadata": {},
     "output_type": "display_data"
    },
    {
     "name": "stdout",
     "output_type": "stream",
     "text": [
      "\n"
     ]
    }
   ],
   "source": [
    "TestProfile = ProfileReport(test, title=\"Pandas Test Profiling Report\", explorative=True)\n",
    "TestProfile.to_file(\"test.html\")"
   ]
  },
  {
   "cell_type": "code",
   "execution_count": 13,
   "metadata": {
    "colab": {
     "base_uri": "https://localhost:8080/"
    },
    "executionInfo": {
     "elapsed": 98381,
     "status": "ok",
     "timestamp": 1620934174961,
     "user": {
      "displayName": "Igor Henrique Freitas",
      "photoUrl": "https://lh3.googleusercontent.com/a-/AOh14Ghp0wTnkb2AoRPWp8uyAFD4BEnmwdo7HKpDy0Qt-g=s64",
      "userId": "12416640750855436245"
     },
     "user_tz": 180
    },
    "id": "Pyqa7Qm6EhVy",
    "outputId": "fc827c25-6101-4a1c-acff-0ea968557f1b"
   },
   "outputs": [
    {
     "name": "stdout",
     "output_type": "stream",
     "text": [
      "['<=50K' '>50K']\n"
     ]
    }
   ],
   "source": [
    "lb=LabelBinarizer()\n",
    "train[target]=lb.fit_transform(train[target])\n",
    "test[target]=lb.transform(test[target])\n",
    "\n",
    "print(lb.classes_)"
   ]
  },
  {
   "cell_type": "code",
   "execution_count": 14,
   "metadata": {
    "colab": {
     "base_uri": "https://localhost:8080/"
    },
    "executionInfo": {
     "elapsed": 98372,
     "status": "ok",
     "timestamp": 1620934174962,
     "user": {
      "displayName": "Igor Henrique Freitas",
      "photoUrl": "https://lh3.googleusercontent.com/a-/AOh14Ghp0wTnkb2AoRPWp8uyAFD4BEnmwdo7HKpDy0Qt-g=s64",
      "userId": "12416640750855436245"
     },
     "user_tz": 180
    },
    "id": "y9EJ2RYBnAHn",
    "outputId": "877d7697-70b4-45b5-b260-25e79707c32e"
   },
   "outputs": [
    {
     "name": "stdout",
     "output_type": "stream",
     "text": [
      "age = 0\n",
      "workclass = 1836\n",
      "fnlwgt = 0\n",
      "education = 0\n",
      "education-num = 0\n",
      "marital-status = 0\n",
      "occupation = 1843\n",
      "relationship = 0\n",
      "race = 0\n",
      "sex = 0\n",
      "capital-gain = 0\n",
      "capital-loss = 0\n",
      "hours-per-week = 0\n",
      "native-country = 583\n",
      "Target = 0\n"
     ]
    }
   ],
   "source": [
    "for col in train.columns:\n",
    "  print(\"{} = {}\".format(col,train[(train[col]==\"?\")|(train[col].isna())][col].count()))"
   ]
  },
  {
   "cell_type": "code",
   "execution_count": 15,
   "metadata": {
    "colab": {
     "base_uri": "https://localhost:8080/"
    },
    "executionInfo": {
     "elapsed": 98360,
     "status": "ok",
     "timestamp": 1620934174963,
     "user": {
      "displayName": "Igor Henrique Freitas",
      "photoUrl": "https://lh3.googleusercontent.com/a-/AOh14Ghp0wTnkb2AoRPWp8uyAFD4BEnmwdo7HKpDy0Qt-g=s64",
      "userId": "12416640750855436245"
     },
     "user_tz": 180
    },
    "id": "qpTk4TDJno0p",
    "outputId": "f2d84bfb-18c1-40e5-914d-4bb5f1d08ef4"
   },
   "outputs": [
    {
     "name": "stdout",
     "output_type": "stream",
     "text": [
      "age = 0\n",
      "workclass = 963\n",
      "fnlwgt = 0\n",
      "education = 0\n",
      "education-num = 0\n",
      "marital-status = 0\n",
      "occupation = 966\n",
      "relationship = 0\n",
      "race = 0\n",
      "sex = 0\n",
      "capital-gain = 0\n",
      "capital-loss = 0\n",
      "hours-per-week = 0\n",
      "native-country = 274\n",
      "Target = 0\n"
     ]
    }
   ],
   "source": [
    "for col in test.columns:\n",
    "  print(\"{} = {}\".format(col,test[(test[col]==\"?\")|(test[col].isna())][col].count()))"
   ]
  },
  {
   "cell_type": "markdown",
   "metadata": {
    "id": "lOoYefA5ll_g"
   },
   "source": [
    "## Model\n",
    "\n",
    "Os conjuntos de treino e teste estão bem balanceados, sendo que as estatíticas dos dois conjuntos se assemelham muito, conforme tabelas acima.\n",
    "\n",
    "Foi necessário um tratamento nos dados alvo para normalizar a o texto nos dois campos de forma a manter a mesma função de codificação de texto para campo númerico.\n",
    "\n",
    "Há duplicatas no conjunto de treino (23 entradas) e no conjunto de teste (5 entradas), porém por se tratar de dados anonimizados obtidos pelo Censo Americano, faz sentido termos dados idênticos, apesar de baixa probabilidade. Dessa forma, iremos manter os dados duplicados e excluí-los posteriormente para vermos o impacto.\n",
    "\n",
    "Em algumas coluna há dados nulos ou inválidos (valor \"?\") nas colunas:\n",
    "- workclass (1836 entradas no conjunto de treino e 963 no conjunto de teste)\n",
    "- occupation (1843 entradas no conjunto de treino e 966 no conjunto de teste)\n",
    "- native-country (583 entradas no conjunto de treino e 274 no conjunto de teste)\n",
    "Represetam aproximadamente 5% dos conjuntos de treino e teste, o que não impactaria muito no modelo se fossem excluídas. Porém com a finalidade de teste e imaginando um cenário de aplicação real do modelo, seria interessante aplicar um tratamento nestes casos para que a predição fosse gerada mesmo com nulos ou inválidos.\n",
    "Este tratamento será testado, porém pode englobar:\n",
    "1 - Usar dados inválidos como uma nova categoria;\n",
    "2 - Aplicar a moda da coluna;\n",
    "3 - Aplicar um modelo supervisionado nas demais variáveis independentes para prencher os faltantes;\n",
    "4 - Aplicar um modelo supervisionado usando a variável Target para preencher os faltantes.  \n",
    "\n",
    "A hipotese 3 pode incluir co-linearidade nas variáveis independentes, o que em modelos parâmetricos não é ideal. Como usaremos modelos não parâmetricos, essa co-linearidade pode não ser problema.\n",
    "\n",
    "A Hipotese 4 deve ser feita considerando a possibilidade de \"vazamento de dados\" (*data likeage*) pois usando a variável alvo para preencher os valores dos campos faltantes irá acarretar no acréscimo de peso desta variável independente como preditor da variável alvo. Visto isso, é recomendado que ao fazermos isso, separamos um novo conjunto de dados a partir do conjunto de treino para treinar este modelo de preenchimento. Estes dados do conjunto de preenchimento devem ser excluídos da base de treino e teste para não gerar vazamento de dados.\n",
    "\n",
    "A correlação phi indica uma boa associação da variável alvo com os campos:\n",
    "- Relationship\n",
    "- education\n",
    "- marital status\n",
    "- sex\n",
    "\n",
    "estas correlações nos indicam algo, porém devem ser validadas no modelo.\n",
    "\n",
    "\n",
    "A variável target possui 2 classes que estão desbalanceadas, aproximadamente 24% do conjunto de treino e do conjunto de teste são pertencentes à classe \">50K\", os demais 76% representam a classe \"<=50K\". Como o desbalanceamento existe porém não é critico, méticas como área sobre a curva do operador receptor (ROC AUC) podem ser utilizadas já que é resistente ao desbalanceamento, entretanto ainda podemos utilizar métricas mais recomendadas e mais robustas a esse problema, como F1, MCC (*Mathew's Cohen Kappa*) e *Area under the Average Precision Curve*\n",
    "\n",
    "Para pré-processamento, devemos olha para o encoding dos dados categóricos, partindo do uso de *One-Hot Encoding*, mais básico, até mesmo o uso de *Target encoding*.\n",
    "\n",
    "A outra etapa de pré-processamento é a normalização dos dados númericos. Seguindo o mesmo princípio de teste, começamos usando *Min-Max Scaler* e normalização, entre outros.\n",
    "\n",
    "Cabe salientar que algumas colunas como *capital-gain* e *capital-loss* estão com aproximadamente 90% e 95%, respectivamente, de entradas com valor 0, tanto no conjunto de treino quanto no conjunto de teste, o que pode gerar um impacto negativo. Portanto, provavelmente esta feature poderá ser excluída do modelo.\n",
    "\n",
    "Aparentemente o país \"HOLAND-NETHERLANDS\" não existe no conjunto de teste."
   ]
  },
  {
   "cell_type": "code",
   "execution_count": 74,
   "metadata": {
    "executionInfo": {
     "elapsed": 98358,
     "status": "ok",
     "timestamp": 1620934174964,
     "user": {
      "displayName": "Igor Henrique Freitas",
      "photoUrl": "https://lh3.googleusercontent.com/a-/AOh14Ghp0wTnkb2AoRPWp8uyAFD4BEnmwdo7HKpDy0Qt-g=s64",
      "userId": "12416640750855436245"
     },
     "user_tz": 180
    },
    "id": "Tht9pyx-9gCf"
   },
   "outputs": [],
   "source": [
    "Knn=KNeighborsClassifier()\n",
    "rndmForest=RandomForestClassifier()\n",
    "\n",
    "encoding=ce.OneHotEncoder()\n",
    "cv=model_selection.KFold(n_splits=5,shuffle=True, random_state=0)\n",
    "scaler=preprocessing.MinMaxScaler()\n",
    "metrics_={\"f1\":metrics.f1_score,\n",
    "         \"Accuracy\":metrics.accuracy_score,\n",
    "         \"Precision\":metrics.precision_score,\n",
    "         \"Recall\":metrics.recall_score}"
   ]
  },
  {
   "cell_type": "code",
   "execution_count": 66,
   "metadata": {
    "executionInfo": {
     "elapsed": 98359,
     "status": "ok",
     "timestamp": 1620934174967,
     "user": {
      "displayName": "Igor Henrique Freitas",
      "photoUrl": "https://lh3.googleusercontent.com/a-/AOh14Ghp0wTnkb2AoRPWp8uyAFD4BEnmwdo7HKpDy0Qt-g=s64",
      "userId": "12416640750855436245"
     },
     "user_tz": 180
    },
    "id": "G-1YmMJUGfcN"
   },
   "outputs": [],
   "source": [
    "from sklearn.compose import ColumnTransformer"
   ]
  },
  {
   "cell_type": "code",
   "execution_count": 67,
   "metadata": {
    "executionInfo": {
     "elapsed": 98356,
     "status": "ok",
     "timestamp": 1620934174968,
     "user": {
      "displayName": "Igor Henrique Freitas",
      "photoUrl": "https://lh3.googleusercontent.com/a-/AOh14Ghp0wTnkb2AoRPWp8uyAFD4BEnmwdo7HKpDy0Qt-g=s64",
      "userId": "12416640750855436245"
     },
     "user_tz": 180
    },
    "id": "EewhylUhEMV4"
   },
   "outputs": [],
   "source": [
    "cat_feat=['workclass','education','marital-status','occupation','relationship','race','sex','native-country']\n",
    "numeric_feat=['age','fnlwgt','education-num','capital-gain','capital-loss','hours-per-week']"
   ]
  },
  {
   "cell_type": "code",
   "execution_count": 68,
   "metadata": {
    "executionInfo": {
     "elapsed": 98355,
     "status": "ok",
     "timestamp": 1620934174969,
     "user": {
      "displayName": "Igor Henrique Freitas",
      "photoUrl": "https://lh3.googleusercontent.com/a-/AOh14Ghp0wTnkb2AoRPWp8uyAFD4BEnmwdo7HKpDy0Qt-g=s64",
      "userId": "12416640750855436245"
     },
     "user_tz": 180
    },
    "id": "FsHQSJbW9p4W"
   },
   "outputs": [],
   "source": [
    "def fit_cv(model,df,target_var,encoding,cat_feat,scaler,numeric_feat,cv,metrics):\n",
    "  X=encoding.fit_transform(df[cat_feat])\n",
    "  X[numeric_feat]=scaler.fit_transform(df[numeric_feat])\n",
    "  Y=df[target_var]\n",
    "  performance_df=pd.DataFrame()\n",
    "  print(X.shape)\n",
    "  for i,(train_idx, val_idx) in enumerate(cv.split(X)):\n",
    "    model.fit(X.iloc[train_idx],Y.iloc[train_idx])\n",
    "    y_hat_train=model.predict(X.iloc[train_idx])\n",
    "    y_hat_test=model.predict(X.iloc[val_idx])\n",
    "    for name,metric in metrics.items():\n",
    "      performance_df.at[i,\"{}_train\".format(name)]=metric(Y.iloc[train_idx],y_hat_train)\n",
    "      performance_df.at[i,\"{}_val\".format(name)]=metric(Y.iloc[val_idx],y_hat_test)\n",
    "      print(\"Metrica = {}\".format(name))\n",
    "      print(\"run = {} | metrica treino = {} | metrica val = {}\".format(i,performance_df.loc[i,\"{}_train\".format(name)],\n",
    "                                                                       performance_df.loc[i,\"{}_val\".format(name)]))\n",
    "  \n",
    "  model.fit(X,Y)\n",
    "  return model,encoding,scaler,performance_df\n"
   ]
  },
  {
   "cell_type": "code",
   "execution_count": 69,
   "metadata": {
    "colab": {
     "base_uri": "https://localhost:8080/"
    },
    "executionInfo": {
     "elapsed": 98346,
     "status": "ok",
     "timestamp": 1620934174970,
     "user": {
      "displayName": "Igor Henrique Freitas",
      "photoUrl": "https://lh3.googleusercontent.com/a-/AOh14Ghp0wTnkb2AoRPWp8uyAFD4BEnmwdo7HKpDy0Qt-g=s64",
      "userId": "12416640750855436245"
     },
     "user_tz": 180
    },
    "id": "4jnDZTQEToye",
    "outputId": "aec01120-f793-4f2f-a0e6-52c5bcc05bfd"
   },
   "outputs": [
    {
     "data": {
      "text/plain": [
       "Index(['age', 'workclass', 'fnlwgt', 'education', 'education-num',\n",
       "       'marital-status', 'occupation', 'relationship', 'race', 'sex',\n",
       "       'capital-gain', 'capital-loss', 'hours-per-week', 'native-country',\n",
       "       'Target'],\n",
       "      dtype='object')"
      ]
     },
     "execution_count": 69,
     "metadata": {},
     "output_type": "execute_result"
    }
   ],
   "source": [
    "train.columns"
   ]
  },
  {
   "cell_type": "markdown",
   "metadata": {
    "id": "Y4pEBr3svnZt"
   },
   "source": [
    "## KNearestNeighboors"
   ]
  },
  {
   "cell_type": "code",
   "execution_count": 75,
   "metadata": {
    "colab": {
     "base_uri": "https://localhost:8080/"
    },
    "executionInfo": {
     "elapsed": 771469,
     "status": "ok",
     "timestamp": 1620934848103,
     "user": {
      "displayName": "Igor Henrique Freitas",
      "photoUrl": "https://lh3.googleusercontent.com/a-/AOh14Ghp0wTnkb2AoRPWp8uyAFD4BEnmwdo7HKpDy0Qt-g=s64",
      "userId": "12416640750855436245"
     },
     "user_tz": 180
    },
    "id": "Ffr1z9RHDjNb",
    "outputId": "9f55f5b7-47ed-4841-af13-f9074e339ac8"
   },
   "outputs": [
    {
     "name": "stderr",
     "output_type": "stream",
     "text": [
      "C:\\Users\\99823827\\Anaconda3\\envs\\GFAF_model\\lib\\site-packages\\category_encoders\\utils.py:21: FutureWarning: is_categorical is deprecated and will be removed in a future version.  Use is_categorical_dtype instead\n",
      "  elif pd.api.types.is_categorical(cols):\n"
     ]
    },
    {
     "name": "stdout",
     "output_type": "stream",
     "text": [
      "(32561, 108)\n",
      "Metrica = f1\n",
      "run = 0 | metrica treino = 0.7269789983844911 | metrica val = 0.6145624582498329\n",
      "Metrica = Accuracy\n",
      "run = 0 | metrica treino = 0.8767275798525799 | metrica val = 0.822815906648242\n",
      "Metrica = Precision\n",
      "run = 0 | metrica treino = 0.7751586582048957 | metrica val = 0.6576125804145818\n",
      "Metrica = Recall\n",
      "run = 0 | metrica treino = 0.6844380403458213 | metrica val = 0.5768025078369906\n",
      "Metrica = f1\n",
      "run = 1 | metrica treino = 0.7216842105263158 | metrica val = 0.6356801093643198\n",
      "Metrica = Accuracy\n",
      "run = 1 | metrica treino = 0.8731237283580944 | metrica val = 0.8363022113022113\n",
      "Metrica = Precision\n",
      "run = 1 | metrica treino = 0.7664103022715077 | metrica val = 0.6793279766252739\n",
      "Metrica = Recall\n",
      "run = 1 | metrica treino = 0.6818905155951623 | metrica val = 0.5973025048169557\n",
      "Metrica = f1\n",
      "run = 2 | metrica treino = 0.723183096191531 | metrica val = 0.6289350301406563\n",
      "Metrica = Accuracy\n",
      "run = 2 | metrica treino = 0.87527352297593 | metrica val = 0.8298525798525799\n",
      "Metrica = Precision\n",
      "run = 2 | metrica treino = 0.7717766866703037 | metrica val = 0.6789587852494577\n",
      "Metrica = Recall\n",
      "run = 2 | metrica treino = 0.6803462648284707 | metrica val = 0.585776668746101\n",
      "Metrica = f1\n",
      "run = 3 | metrica treino = 0.7332437426507644 | metrica val = 0.5964079972890546\n",
      "Metrica = Accuracy\n",
      "run = 3 | metrica treino = 0.8780759338170371 | metrica val = 0.8171068796068796\n",
      "Metrica = Precision\n",
      "run = 3 | metrica treino = 0.7753108348134992 | metrica val = 0.6349206349206349\n",
      "Metrica = Recall\n",
      "run = 3 | metrica treino = 0.6955066921606119 | metrica val = 0.5623003194888179\n",
      "Metrica = f1\n",
      "run = 4 | metrica treino = 0.7279751406735533 | metrica val = 0.6166609056342897\n",
      "Metrica = Accuracy\n",
      "run = 4 | metrica treino = 0.875657414871972 | metrica val = 0.8296990171990172\n",
      "Metrica = Precision\n",
      "run = 4 | metrica treino = 0.7757293717558619 | metrica val = 0.6501457725947521\n",
      "Metrica = Recall\n",
      "run = 4 | metrica treino = 0.6857594936708861 | metrica val = 0.5864562787639711\n"
     ]
    }
   ],
   "source": [
    "knn,encoding,scaler,rslt=fit_cv(Knn,train,target,encoding,cat_feat,scaler,numeric_feat,cv,metrics_)"
   ]
  },
  {
   "cell_type": "code",
   "execution_count": 76,
   "metadata": {
    "colab": {
     "base_uri": "https://localhost:8080/"
    },
    "executionInfo": {
     "elapsed": 771461,
     "status": "ok",
     "timestamp": 1620934848104,
     "user": {
      "displayName": "Igor Henrique Freitas",
      "photoUrl": "https://lh3.googleusercontent.com/a-/AOh14Ghp0wTnkb2AoRPWp8uyAFD4BEnmwdo7HKpDy0Qt-g=s64",
      "userId": "12416640750855436245"
     },
     "user_tz": 180
    },
    "id": "j18yBxItGnZp",
    "outputId": "5af2d128-d0e0-43ed-e026-9685a6f08f38"
   },
   "outputs": [
    {
     "data": {
      "text/plain": [
       "f1_train          0.73\n",
       "f1_val            0.62\n",
       "Accuracy_train    0.88\n",
       "Accuracy_val      0.83\n",
       "Precision_train   0.77\n",
       "Precision_val     0.66\n",
       "Recall_train      0.69\n",
       "Recall_val        0.58\n",
       "dtype: float64"
      ]
     },
     "execution_count": 76,
     "metadata": {},
     "output_type": "execute_result"
    }
   ],
   "source": [
    "rslt.mean()"
   ]
  },
  {
   "cell_type": "code",
   "execution_count": 77,
   "metadata": {
    "colab": {
     "base_uri": "https://localhost:8080/"
    },
    "executionInfo": {
     "elapsed": 913425,
     "status": "ok",
     "timestamp": 1620934990079,
     "user": {
      "displayName": "Igor Henrique Freitas",
      "photoUrl": "https://lh3.googleusercontent.com/a-/AOh14Ghp0wTnkb2AoRPWp8uyAFD4BEnmwdo7HKpDy0Qt-g=s64",
      "userId": "12416640750855436245"
     },
     "user_tz": 180
    },
    "id": "TpGYfxzQDr5E",
    "outputId": "5501b113-4b12-49b3-8a41-8dce569f2b12"
   },
   "outputs": [
    {
     "name": "stderr",
     "output_type": "stream",
     "text": [
      "C:\\Users\\99823827\\Anaconda3\\envs\\GFAF_model\\lib\\site-packages\\category_encoders\\utils.py:21: FutureWarning: is_categorical is deprecated and will be removed in a future version.  Use is_categorical_dtype instead\n",
      "  elif pd.api.types.is_categorical(cols):\n",
      "C:\\Users\\99823827\\Anaconda3\\envs\\GFAF_model\\lib\\site-packages\\category_encoders\\utils.py:21: FutureWarning: is_categorical is deprecated and will be removed in a future version.  Use is_categorical_dtype instead\n",
      "  elif pd.api.types.is_categorical(cols):\n"
     ]
    },
    {
     "name": "stdout",
     "output_type": "stream",
     "text": [
      "================== Test Performance =================\n",
      "metric f1 = 0.2454317448943031\n",
      "================== Test Performance =================\n",
      "metric Accuracy = 0.7412935323383084\n",
      "================== Test Performance =================\n",
      "metric Precision = 0.3945852534562212\n",
      "================== Test Performance =================\n",
      "metric Recall = 0.17810712428497139\n"
     ]
    }
   ],
   "source": [
    "X_train=encoding.fit_transform(train[cat_feat])\n",
    "X_train[numeric_feat]=scaler.fit_transform(train[numeric_feat])\n",
    "\n",
    "X_test=encoding.fit_transform(test[cat_feat])\n",
    "X_test[numeric_feat]=scaler.fit_transform(test[numeric_feat])\n",
    "\n",
    "missing_cols=list(set(X_train.columns)-set(X_test.columns))\n",
    "X_test[missing_cols]=0\n",
    "\n",
    "y_hat_test=knn.predict(X_test)\n",
    "for name,metric in metrics_.items():\n",
    "  metric_test=metric(test[target],y_hat_test)\n",
    "  print(\"================== Test Performance =================\")\n",
    "  print(\"metric {} = {}\".format(name,metric_test))"
   ]
  },
  {
   "cell_type": "code",
   "execution_count": 78,
   "metadata": {
    "colab": {
     "base_uri": "https://localhost:8080/"
    },
    "executionInfo": {
     "elapsed": 915427,
     "status": "ok",
     "timestamp": 1620934992095,
     "user": {
      "displayName": "Igor Henrique Freitas",
      "photoUrl": "https://lh3.googleusercontent.com/a-/AOh14Ghp0wTnkb2AoRPWp8uyAFD4BEnmwdo7HKpDy0Qt-g=s64",
      "userId": "12416640750855436245"
     },
     "user_tz": 180
    },
    "id": "C66-ReOJJRQp",
    "outputId": "fb2ff08c-89db-4cd1-fc45-e93ac73cfda1"
   },
   "outputs": [
    {
     "name": "stderr",
     "output_type": "stream",
     "text": [
      "C:\\Users\\99823827\\Anaconda3\\envs\\GFAF_model\\lib\\site-packages\\sklearn\\neighbors\\_classification.py:179: DataConversionWarning: A column-vector y was passed when a 1d array was expected. Please change the shape of y to (n_samples,), for example using ravel().\n",
      "  return self._fit(X, y)\n"
     ]
    },
    {
     "data": {
      "text/plain": [
       "KNeighborsClassifier()"
      ]
     },
     "execution_count": 78,
     "metadata": {},
     "output_type": "execute_result"
    }
   ],
   "source": [
    "knn.fit(X_train,train[[target]].fillna(0))"
   ]
  },
  {
   "cell_type": "code",
   "execution_count": null,
   "metadata": {
    "id": "lreVu8jZnXG7"
   },
   "outputs": [],
   "source": [
    "param_test={\"param_range\":list(range(1,100,10)),\n",
    "            \"param_name\":\"n_neighbors\"}\n",
    "  \n",
    "plot_validation_curve(knn,\n",
    "                      X_train,\n",
    "                      train[[target]].fillna(0),\n",
    "                      scoring=\"roc_auc\",\n",
    "                      **param_test)"
   ]
  },
  {
   "cell_type": "code",
   "execution_count": 54,
   "metadata": {
    "id": "mQyBMmiN757s"
   },
   "outputs": [
    {
     "name": "stderr",
     "output_type": "stream",
     "text": [
      "C:\\Users\\99823827\\Anaconda3\\envs\\GFAF_model\\lib\\site-packages\\seaborn\\_decorators.py:36: FutureWarning: Pass the following variables as keyword args: x, y. From version 0.12, the only valid positional argument will be `data`, and passing other arguments without an explicit keyword will result in an error or misinterpretation.\n",
      "  warnings.warn(\n",
      "C:\\Users\\99823827\\Anaconda3\\envs\\GFAF_model\\lib\\site-packages\\seaborn\\_decorators.py:36: FutureWarning: Pass the following variables as keyword args: x, y. From version 0.12, the only valid positional argument will be `data`, and passing other arguments without an explicit keyword will result in an error or misinterpretation.\n",
      "  warnings.warn(\n"
     ]
    },
    {
     "data": {
      "image/png": "[encoded data removed]",
      "text/plain": [
       "<Figure size 1440x360 with 1 Axes>"
      ]
     },
     "metadata": {},
     "output_type": "display_data"
    }
   ],
   "source": [
    "knn.n_neighbors=50\n",
    "param_test={\"param_range\":[\"uniform\", \"distance\"],\n",
    "            \"param_name\":\"weights\"}\n",
    "\n",
    "plot_validation_curve(knn,\n",
    "                      X_train,\n",
    "                      train[[target]].fillna(0),\n",
    "                      scoring=\"roc_auc\",\n",
    "                      **param_test)"
   ]
  },
  {
   "cell_type": "code",
   "execution_count": 27,
   "metadata": {
    "colab": {
     "background_save": true
    },
    "id": "01GipRkjnHxx"
   },
   "outputs": [
    {
     "name": "stderr",
     "output_type": "stream",
     "text": [
      "C:\\Users\\99823827\\Anaconda3\\envs\\GFAF_model\\lib\\site-packages\\seaborn\\_decorators.py:36: FutureWarning: Pass the following variables as keyword args: x, y. From version 0.12, the only valid positional argument will be `data`, and passing other arguments without an explicit keyword will result in an error or misinterpretation.\n",
      "  warnings.warn(\n",
      "C:\\Users\\99823827\\Anaconda3\\envs\\GFAF_model\\lib\\site-packages\\seaborn\\_decorators.py:36: FutureWarning: Pass the following variables as keyword args: x, y. From version 0.12, the only valid positional argument will be `data`, and passing other arguments without an explicit keyword will result in an error or misinterpretation.\n",
      "  warnings.warn(\n"
     ]
    },
    {
     "data": {
      "image/png": "[encoded data removed]",
      "text/plain": [
       "<Figure size 1440x360 with 1 Axes>"
      ]
     },
     "metadata": {},
     "output_type": "display_data"
    }
   ],
   "source": [
    "param_test={\"param_range\":[1,2,3,4,5],\n",
    "            \"param_name\":\"p\"}\n",
    "\n",
    "plot_validation_curve(knn,\n",
    "                      X_train,\n",
    "                      train[[target]].fillna(0),\n",
    "                      scoring=\"roc_auc\",\n",
    "                      **param_test)"
   ]
  },
  {
   "cell_type": "code",
   "execution_count": 32,
   "metadata": {
    "colab": {
     "background_save": true
    },
    "id": "C1PSmGMZ-zA-"
   },
   "outputs": [],
   "source": [
    "knn.p=1"
   ]
  },
  {
   "cell_type": "code",
   "execution_count": 33,
   "metadata": {
    "colab": {
     "background_save": true
    },
    "id": "4IKdnJ3y-6KQ"
   },
   "outputs": [
    {
     "name": "stderr",
     "output_type": "stream",
     "text": [
      "C:\\Users\\99823827\\Anaconda3\\envs\\GFAF_model\\lib\\site-packages\\category_encoders\\utils.py:21: FutureWarning: is_categorical is deprecated and will be removed in a future version.  Use is_categorical_dtype instead\n",
      "  elif pd.api.types.is_categorical(cols):\n"
     ]
    },
    {
     "name": "stdout",
     "output_type": "stream",
     "text": [
      "(32561, 108)\n",
      "Metrica = ROC_AUC\n",
      "run = 0 | metrica treino = 0.809893077554889 | metrica val = 0.7386435345305646\n",
      "Metrica = Accuracy\n",
      "run = 0 | metrica treino = 0.8767659705159705 | metrica val = 0.822815906648242\n",
      "Metrica = Precision\n",
      "run = 0 | metrica treino = 0.7772096420745069 | metrica val = 0.6587473002159827\n",
      "Metrica = Recall\n",
      "run = 0 | metrica treino = 0.6813960934998399 | metrica val = 0.5736677115987461\n",
      "Metrica = ROC_AUC\n",
      "run = 1 | metrica treino = 0.8092943011318704 | metrica val = 0.7496365167042885\n",
      "Metrica = Accuracy\n",
      "run = 1 | metrica treino = 0.8758877500095973 | metrica val = 0.8341523341523341\n",
      "Metrica = Precision\n",
      "run = 1 | metrica treino = 0.7772124295838634 | metrica val = 0.6762749445676275\n",
      "Metrica = Recall\n",
      "run = 1 | metrica treino = 0.6806174411203055 | metrica val = 0.5876685934489403\n",
      "Metrica = ROC_AUC\n",
      "run = 2 | metrica treino = 0.8072046873735901 | metrica val = 0.7484737506460374\n",
      "Metrica = Accuracy\n",
      "run = 2 | metrica treino = 0.8758109716303889 | metrica val = 0.8313882063882064\n",
      "Metrica = Precision\n",
      "run = 2 | metrica treino = 0.7767741935483871 | metrica val = 0.6841721371261853\n",
      "Metrica = Recall\n",
      "run = 2 | metrica treino = 0.6755370310997114 | metrica val = 0.5851528384279476\n",
      "Metrica = ROC_AUC\n",
      "run = 3 | metrica treino = 0.8124393148081587 | metrica val = 0.7336954464932114\n",
      "Metrica = Accuracy\n",
      "run = 3 | metrica treino = 0.8771545932665361 | metrica val = 0.8217137592137592\n",
      "Metrica = Precision\n",
      "run = 3 | metrica treino = 0.7769175369103349 | metrica val = 0.6483113069016153\n",
      "Metrica = Recall\n",
      "run = 3 | metrica treino = 0.6875398342893563 | metrica val = 0.5642172523961662\n",
      "Metrica = ROC_AUC\n",
      "run = 4 | metrica treino = 0.809612720720189 | metrica val = 0.7468290391475202\n",
      "Metrica = Accuracy\n",
      "run = 4 | metrica treino = 0.8758109716303889 | metrica val = 0.8312346437346437\n",
      "Metrica = Precision\n",
      "run = 4 | metrica treino = 0.7792866195908021 | metrica val = 0.6542397660818714\n",
      "Metrica = Recall\n",
      "run = 4 | metrica treino = 0.6810126582278481 | metrica val = 0.5884286653517423\n"
     ]
    }
   ],
   "source": [
    "knn,encoding,scaler,rslt=fit_cv(Knn,train,target,encoding,cat_feat,scaler,numeric_feat,cv,metrics_)"
   ]
  },
  {
   "cell_type": "code",
   "execution_count": 55,
   "metadata": {
    "colab": {
     "background_save": true
    },
    "id": "WdWiUoBxnPba"
   },
   "outputs": [
    {
     "data": {
      "text/plain": [
       "KNeighborsClassifier(n_neighbors=50, p=1)"
      ]
     },
     "execution_count": 55,
     "metadata": {},
     "output_type": "execute_result"
    }
   ],
   "source": [
    "knn"
   ]
  },
  {
   "cell_type": "code",
   "execution_count": 35,
   "metadata": {
    "colab": {
     "background_save": true
    },
    "id": "ZvXnGYVq-6KR"
   },
   "outputs": [
    {
     "data": {
      "text/plain": [
       "ROC_AUC_train     0.81\n",
       "ROC_AUC_val       0.74\n",
       "Accuracy_train    0.88\n",
       "Accuracy_val      0.83\n",
       "Precision_train   0.78\n",
       "Precision_val     0.66\n",
       "Recall_train      0.68\n",
       "Recall_val        0.58\n",
       "dtype: float64"
      ]
     },
     "execution_count": 35,
     "metadata": {},
     "output_type": "execute_result"
    }
   ],
   "source": [
    "rslt.mean()"
   ]
  },
  {
   "cell_type": "code",
   "execution_count": 36,
   "metadata": {
    "id": "PfzDTO73-6KR"
   },
   "outputs": [
    {
     "name": "stderr",
     "output_type": "stream",
     "text": [
      "C:\\Users\\99823827\\Anaconda3\\envs\\GFAF_model\\lib\\site-packages\\category_encoders\\utils.py:21: FutureWarning: is_categorical is deprecated and will be removed in a future version.  Use is_categorical_dtype instead\n",
      "  elif pd.api.types.is_categorical(cols):\n",
      "C:\\Users\\99823827\\Anaconda3\\envs\\GFAF_model\\lib\\site-packages\\category_encoders\\utils.py:21: FutureWarning: is_categorical is deprecated and will be removed in a future version.  Use is_categorical_dtype instead\n",
      "  elif pd.api.types.is_categorical(cols):\n"
     ]
    },
    {
     "name": "stdout",
     "output_type": "stream",
     "text": [
      "================== Test Performance =================\n",
      "metric ROC_AUC = 0.5399946178788044\n",
      "================== Test Performance =================\n",
      "metric Accuracy = 0.7362569866715803\n",
      "================== Test Performance =================\n",
      "metric Precision = 0.37126436781609196\n",
      "================== Test Performance =================\n",
      "metric Recall = 0.16796671866874674\n"
     ]
    }
   ],
   "source": [
    "X_train=encoding.fit_transform(train[cat_feat])\n",
    "X_train[numeric_feat]=scaler.fit_transform(train[numeric_feat])\n",
    "\n",
    "X_test=encoding.fit_transform(test[cat_feat])\n",
    "X_test[numeric_feat]=scaler.fit_transform(test[numeric_feat])\n",
    "\n",
    "missing_cols=list(set(X_train.columns)-set(X_test.columns))\n",
    "X_test[missing_cols]=0\n",
    "\n",
    "y_hat_test=knn.predict(X_test)\n",
    "for name,metric in metrics_.items():\n",
    "  metric_test=metric(test[target],y_hat_test)\n",
    "  print(\"================== Test Performance =================\")\n",
    "  print(\"metric {} = {}\".format(name,metric_test))"
   ]
  },
  {
   "cell_type": "markdown",
   "metadata": {
    "id": "ffVvTdRdvaxp"
   },
   "source": [
    "## Random Forest\n"
   ]
  },
  {
   "cell_type": "code",
   "execution_count": 37,
   "metadata": {
    "id": "t7QYnUuWvgNx"
   },
   "outputs": [
    {
     "name": "stderr",
     "output_type": "stream",
     "text": [
      "C:\\Users\\99823827\\Anaconda3\\envs\\GFAF_model\\lib\\site-packages\\category_encoders\\utils.py:21: FutureWarning: is_categorical is deprecated and will be removed in a future version.  Use is_categorical_dtype instead\n",
      "  elif pd.api.types.is_categorical(cols):\n"
     ]
    },
    {
     "name": "stdout",
     "output_type": "stream",
     "text": [
      "(32561, 108)\n",
      "Metrica = ROC_AUC\n",
      "run = 0 | metrica treino = 1.0 | metrica val = 0.7700506488225073\n",
      "Metrica = Accuracy\n",
      "run = 0 | metrica treino = 1.0 | metrica val = 0.8475356978350991\n",
      "Metrica = Precision\n",
      "run = 0 | metrica treino = 1.0 | metrica val = 0.7197080291970803\n",
      "Metrica = Recall\n",
      "run = 0 | metrica treino = 1.0 | metrica val = 0.6181818181818182\n",
      "Metrica = ROC_AUC\n",
      "run = 1 | metrica treino = 0.9999747027573995 | metrica val = 0.7842798416318477\n",
      "Metrica = Accuracy\n",
      "run = 1 | metrica treino = 0.9999616108103958 | metrica val = 0.8624078624078624\n",
      "Metrica = Precision\n",
      "run = 1 | metrica treino = 0.9998408910103421 | metrica val = 0.7513307984790875\n",
      "Metrica = Recall\n",
      "run = 1 | metrica treino = 1.0 | metrica val = 0.6345536287732819\n",
      "Metrica = ROC_AUC\n",
      "run = 2 | metrica treino = 0.999759538313562 | metrica val = 0.7702063392800751\n",
      "Metrica = Accuracy\n",
      "run = 2 | metrica treino = 0.9998848324311874 | metrica val = 0.8521191646191646\n",
      "Metrica = Precision\n",
      "run = 2 | metrica treino = 1.0 | metrica val = 0.7439024390243902\n",
      "Metrica = Recall\n",
      "run = 2 | metrica treino = 0.999519076627124 | metrica val = 0.6088583905177791\n",
      "Metrica = ROC_AUC\n",
      "run = 3 | metrica treino = 0.9999747129924645 | metrica val = 0.776928347835297\n",
      "Metrica = Accuracy\n",
      "run = 3 | metrica treino = 0.9999616108103958 | metrica val = 0.8528869778869779\n",
      "Metrica = Precision\n",
      "run = 3 | metrica treino = 0.99984068822686 | metrica val = 0.7220190197512801\n",
      "Metrica = Recall\n",
      "run = 3 | metrica treino = 1.0 | metrica val = 0.6306709265175718\n",
      "Metrica = ROC_AUC\n",
      "run = 4 | metrica treino = 1.0 | metrica val = 0.776129445888859\n",
      "Metrica = Accuracy\n",
      "run = 4 | metrica treino = 1.0 | metrica val = 0.8568796068796068\n",
      "Metrica = Precision\n",
      "run = 4 | metrica treino = 1.0 | metrica val = 0.7246376811594203\n",
      "Metrica = Recall\n",
      "run = 4 | metrica treino = 1.0 | metrica val = 0.6245890861275477\n"
     ]
    }
   ],
   "source": [
    "rndmf,encoding,scaler,rslt=fit_cv(rndmForest,train,target,encoding,cat_feat,scaler,numeric_feat,cv,metrics_)"
   ]
  },
  {
   "cell_type": "code",
   "execution_count": 38,
   "metadata": {
    "id": "kEO73f3RvSe7"
   },
   "outputs": [
    {
     "data": {
      "text/plain": [
       "ROC_AUC_train     1.00\n",
       "ROC_AUC_val       0.78\n",
       "Accuracy_train    1.00\n",
       "Accuracy_val      0.85\n",
       "Precision_train   1.00\n",
       "Precision_val     0.73\n",
       "Recall_train      1.00\n",
       "Recall_val        0.62\n",
       "dtype: float64"
      ]
     },
     "execution_count": 38,
     "metadata": {},
     "output_type": "execute_result"
    }
   ],
   "source": [
    "rslt.mean()"
   ]
  },
  {
   "cell_type": "code",
   "execution_count": 39,
   "metadata": {
    "id": "aPmwyAqavSe7"
   },
   "outputs": [
    {
     "name": "stderr",
     "output_type": "stream",
     "text": [
      "C:\\Users\\99823827\\Anaconda3\\envs\\GFAF_model\\lib\\site-packages\\category_encoders\\utils.py:21: FutureWarning: is_categorical is deprecated and will be removed in a future version.  Use is_categorical_dtype instead\n",
      "  elif pd.api.types.is_categorical(cols):\n",
      "C:\\Users\\99823827\\Anaconda3\\envs\\GFAF_model\\lib\\site-packages\\category_encoders\\utils.py:21: FutureWarning: is_categorical is deprecated and will be removed in a future version.  Use is_categorical_dtype instead\n",
      "  elif pd.api.types.is_categorical(cols):\n"
     ]
    },
    {
     "name": "stdout",
     "output_type": "stream",
     "text": [
      "================== Test Performance =================\n",
      "metric ROC_AUC = 0.5489820388955485\n",
      "================== Test Performance =================\n",
      "metric Accuracy = 0.7726183895338125\n",
      "================== Test Performance =================\n",
      "metric Precision = 0.5880195599022005\n",
      "================== Test Performance =================\n",
      "metric Recall = 0.125065002600104\n"
     ]
    }
   ],
   "source": [
    "X_train=encoding.fit_transform(train[cat_feat])\n",
    "X_train[numeric_feat]=scaler.fit_transform(train[numeric_feat])\n",
    "\n",
    "X_test=encoding.fit_transform(test[cat_feat])\n",
    "X_test[numeric_feat]=scaler.fit_transform(test[numeric_feat])\n",
    "\n",
    "missing_cols=list(set(X_train.columns)-set(X_test.columns))\n",
    "X_test[missing_cols]=0\n",
    "\n",
    "y_hat_test=rndmf.predict(X_test)\n",
    "for name,metric in metrics_.items():\n",
    "  metric_test=metric(test[target],y_hat_test)\n",
    "  print(\"================== Test Performance =================\")\n",
    "  print(\"metric {} = {}\".format(name,metric_test))"
   ]
  },
  {
   "cell_type": "code",
   "execution_count": 40,
   "metadata": {
    "id": "i8D3xKDIBVoB"
   },
   "outputs": [
    {
     "name": "stderr",
     "output_type": "stream",
     "text": [
      "C:\\Users\\99823827\\Anaconda3\\envs\\GFAF_model\\lib\\site-packages\\seaborn\\_decorators.py:36: FutureWarning: Pass the following variables as keyword args: x, y. From version 0.12, the only valid positional argument will be `data`, and passing other arguments without an explicit keyword will result in an error or misinterpretation.\n",
      "  warnings.warn(\n",
      "C:\\Users\\99823827\\Anaconda3\\envs\\GFAF_model\\lib\\site-packages\\seaborn\\_decorators.py:36: FutureWarning: Pass the following variables as keyword args: x, y. From version 0.12, the only valid positional argument will be `data`, and passing other arguments without an explicit keyword will result in an error or misinterpretation.\n",
      "  warnings.warn(\n"
     ]
    },
    {
     "data": {
      "image/png": "[encoded data removed]",
      "text/plain": [
       "<Figure size 1440x360 with 1 Axes>"
      ]
     },
     "metadata": {},
     "output_type": "display_data"
    }
   ],
   "source": [
    "param_test={\"param_range\":list(range(5,200,10)),\n",
    "            \"param_name\":\"n_estimators\"}\n",
    "\n",
    "plot_validation_curve(rndmf,\n",
    "                      X_train,\n",
    "                      train[[target]].fillna(0),\n",
    "                      scoring=\"roc_auc\",\n",
    "                      **param_test)"
   ]
  },
  {
   "cell_type": "code",
   "execution_count": 41,
   "metadata": {
    "id": "RabC2_QROt6o"
   },
   "outputs": [
    {
     "name": "stderr",
     "output_type": "stream",
     "text": [
      "C:\\Users\\99823827\\Anaconda3\\envs\\GFAF_model\\lib\\site-packages\\seaborn\\_decorators.py:36: FutureWarning: Pass the following variables as keyword args: x, y. From version 0.12, the only valid positional argument will be `data`, and passing other arguments without an explicit keyword will result in an error or misinterpretation.\n",
      "  warnings.warn(\n",
      "C:\\Users\\99823827\\Anaconda3\\envs\\GFAF_model\\lib\\site-packages\\seaborn\\_decorators.py:36: FutureWarning: Pass the following variables as keyword args: x, y. From version 0.12, the only valid positional argument will be `data`, and passing other arguments without an explicit keyword will result in an error or misinterpretation.\n",
      "  warnings.warn(\n"
     ]
    },
    {
     "data": {
      "image/png": "[encoded data removed]",
      "text/plain": [
       "<Figure size 1440x360 with 1 Axes>"
      ]
     },
     "metadata": {},
     "output_type": "display_data"
    }
   ],
   "source": [
    "rndmf.n_estimators=50\n",
    "param_test={\"param_range\":list(range(1,20,1)),\n",
    "            \"param_name\":\"max_depth\"}\n",
    "\n",
    "plot_validation_curve(rndmf,\n",
    "                      X_train,\n",
    "                      train[[target]].fillna(0),\n",
    "                      scoring=\"roc_auc\",\n",
    "                      **param_test)"
   ]
  },
  {
   "cell_type": "code",
   "execution_count": 42,
   "metadata": {
    "id": "DoMihzVSQd3m"
   },
   "outputs": [
    {
     "name": "stderr",
     "output_type": "stream",
     "text": [
      "C:\\Users\\99823827\\Anaconda3\\envs\\GFAF_model\\lib\\site-packages\\seaborn\\_decorators.py:36: FutureWarning: Pass the following variables as keyword args: x, y. From version 0.12, the only valid positional argument will be `data`, and passing other arguments without an explicit keyword will result in an error or misinterpretation.\n",
      "  warnings.warn(\n",
      "C:\\Users\\99823827\\Anaconda3\\envs\\GFAF_model\\lib\\site-packages\\seaborn\\_decorators.py:36: FutureWarning: Pass the following variables as keyword args: x, y. From version 0.12, the only valid positional argument will be `data`, and passing other arguments without an explicit keyword will result in an error or misinterpretation.\n",
      "  warnings.warn(\n"
     ]
    },
    {
     "data": {
      "image/png": "[encoded data removed]",
      "text/plain": [
       "<Figure size 1440x360 with 1 Axes>"
      ]
     },
     "metadata": {},
     "output_type": "display_data"
    }
   ],
   "source": [
    "rndmf.max_depth=None #8\n",
    "param_test={\"param_range\":np.linspace(0,1,20),\n",
    "            \"param_name\":\"ccp_alpha\"}\n",
    "\n",
    "plot_validation_curve(rndmf,\n",
    "                      X_train,\n",
    "                      train[[target]].fillna(0),\n",
    "                      scoring=\"roc_auc\",\n",
    "                      **param_test)"
   ]
  },
  {
   "cell_type": "code",
   "execution_count": 43,
   "metadata": {
    "id": "JU-5jTCls3Py"
   },
   "outputs": [
    {
     "name": "stderr",
     "output_type": "stream",
     "text": [
      "C:\\Users\\99823827\\Anaconda3\\envs\\GFAF_model\\lib\\site-packages\\seaborn\\_decorators.py:36: FutureWarning: Pass the following variables as keyword args: x, y. From version 0.12, the only valid positional argument will be `data`, and passing other arguments without an explicit keyword will result in an error or misinterpretation.\n",
      "  warnings.warn(\n",
      "C:\\Users\\99823827\\Anaconda3\\envs\\GFAF_model\\lib\\site-packages\\seaborn\\_decorators.py:36: FutureWarning: Pass the following variables as keyword args: x, y. From version 0.12, the only valid positional argument will be `data`, and passing other arguments without an explicit keyword will result in an error or misinterpretation.\n",
      "  warnings.warn(\n"
     ]
    },
    {
     "data": {
      "image/png": "[encoded data removed]",
      "text/plain": [
       "<Figure size 1440x360 with 1 Axes>"
      ]
     },
     "metadata": {},
     "output_type": "display_data"
    }
   ],
   "source": [
    "rndmf.max_depth=8\n",
    "param_test={\"param_range\":list(range(2,500,50)),\n",
    "            \"param_name\":\"min_samples_split\"}\n",
    "\n",
    "plot_validation_curve(rndmf,\n",
    "                      X_train,\n",
    "                      train[[target]].fillna(0),\n",
    "                      scoring=\"roc_auc\",\n",
    "                      **param_test)"
   ]
  },
  {
   "cell_type": "code",
   "execution_count": 44,
   "metadata": {
    "id": "YTWkwPuatLps"
   },
   "outputs": [
    {
     "name": "stderr",
     "output_type": "stream",
     "text": [
      "C:\\Users\\99823827\\Anaconda3\\envs\\GFAF_model\\lib\\site-packages\\seaborn\\_decorators.py:36: FutureWarning: Pass the following variables as keyword args: x, y. From version 0.12, the only valid positional argument will be `data`, and passing other arguments without an explicit keyword will result in an error or misinterpretation.\n",
      "  warnings.warn(\n",
      "C:\\Users\\99823827\\Anaconda3\\envs\\GFAF_model\\lib\\site-packages\\seaborn\\_decorators.py:36: FutureWarning: Pass the following variables as keyword args: x, y. From version 0.12, the only valid positional argument will be `data`, and passing other arguments without an explicit keyword will result in an error or misinterpretation.\n",
      "  warnings.warn(\n"
     ]
    },
    {
     "data": {
      "image/png": "[encoded data removed]",
      "text/plain": [
       "<Figure size 1440x360 with 1 Axes>"
      ]
     },
     "metadata": {},
     "output_type": "display_data"
    }
   ],
   "source": [
    "rndmf.min_samples_split=50\n",
    "param_test={\"param_range\":list(range(1,500,50)),\n",
    "            \"param_name\":\"min_samples_leaf\"}\n",
    "\n",
    "plot_validation_curve(rndmf,\n",
    "                      X_train,\n",
    "                      train[[target]].fillna(0),\n",
    "                      scoring=\"roc_auc\",\n",
    "                      **param_test)"
   ]
  },
  {
   "cell_type": "code",
   "execution_count": 45,
   "metadata": {
    "id": "KMQnDMlmtTQw"
   },
   "outputs": [
    {
     "name": "stderr",
     "output_type": "stream",
     "text": [
      "C:\\Users\\99823827\\Anaconda3\\envs\\GFAF_model\\lib\\site-packages\\seaborn\\_decorators.py:36: FutureWarning: Pass the following variables as keyword args: x, y. From version 0.12, the only valid positional argument will be `data`, and passing other arguments without an explicit keyword will result in an error or misinterpretation.\n",
      "  warnings.warn(\n",
      "C:\\Users\\99823827\\Anaconda3\\envs\\GFAF_model\\lib\\site-packages\\seaborn\\_decorators.py:36: FutureWarning: Pass the following variables as keyword args: x, y. From version 0.12, the only valid positional argument will be `data`, and passing other arguments without an explicit keyword will result in an error or misinterpretation.\n",
      "  warnings.warn(\n"
     ]
    },
    {
     "data": {
      "image/png": "[encoded data removed]",
      "text/plain": [
       "<Figure size 1440x360 with 1 Axes>"
      ]
     },
     "metadata": {},
     "output_type": "display_data"
    }
   ],
   "source": [
    "param_test={\"param_range\":np.linspace(0,1,10),\n",
    "            \"param_name\":\"min_weight_fraction_leaf\"}\n",
    "\n",
    "plot_validation_curve(rndmf,\n",
    "                      X_train,\n",
    "                      train[[target]].fillna(0),\n",
    "                      scoring=\"roc_auc\",\n",
    "                      **param_test)"
   ]
  },
  {
   "cell_type": "code",
   "execution_count": 46,
   "metadata": {
    "id": "RwOWsQwptx4o"
   },
   "outputs": [
    {
     "name": "stderr",
     "output_type": "stream",
     "text": [
      "C:\\Users\\99823827\\Anaconda3\\envs\\GFAF_model\\lib\\site-packages\\seaborn\\_decorators.py:36: FutureWarning: Pass the following variables as keyword args: x, y. From version 0.12, the only valid positional argument will be `data`, and passing other arguments without an explicit keyword will result in an error or misinterpretation.\n",
      "  warnings.warn(\n",
      "C:\\Users\\99823827\\Anaconda3\\envs\\GFAF_model\\lib\\site-packages\\seaborn\\_decorators.py:36: FutureWarning: Pass the following variables as keyword args: x, y. From version 0.12, the only valid positional argument will be `data`, and passing other arguments without an explicit keyword will result in an error or misinterpretation.\n",
      "  warnings.warn(\n"
     ]
    },
    {
     "data": {
      "image/png": "[encoded data removed]",
      "text/plain": [
       "<Figure size 1440x360 with 1 Axes>"
      ]
     },
     "metadata": {},
     "output_type": "display_data"
    }
   ],
   "source": [
    "param_test={\"param_range\":list(range(1,100,10)),\n",
    "            \"param_name\":\"max_leaf_nodes\"}\n",
    "\n",
    "plot_validation_curve(rndmf,\n",
    "                      X_train,\n",
    "                      train[[target]].fillna(0),\n",
    "                      scoring=\"roc_auc\",\n",
    "                      **param_test)"
   ]
  },
  {
   "cell_type": "code",
   "execution_count": 47,
   "metadata": {
    "id": "wnif0A4luOQn"
   },
   "outputs": [
    {
     "name": "stderr",
     "output_type": "stream",
     "text": [
      "C:\\Users\\99823827\\Anaconda3\\envs\\GFAF_model\\lib\\site-packages\\seaborn\\_decorators.py:36: FutureWarning: Pass the following variables as keyword args: x, y. From version 0.12, the only valid positional argument will be `data`, and passing other arguments without an explicit keyword will result in an error or misinterpretation.\n",
      "  warnings.warn(\n",
      "C:\\Users\\99823827\\Anaconda3\\envs\\GFAF_model\\lib\\site-packages\\seaborn\\_decorators.py:36: FutureWarning: Pass the following variables as keyword args: x, y. From version 0.12, the only valid positional argument will be `data`, and passing other arguments without an explicit keyword will result in an error or misinterpretation.\n",
      "  warnings.warn(\n"
     ]
    },
    {
     "data": {
      "image/png": "[encoded data removed]",
      "text/plain": [
       "<Figure size 1440x360 with 1 Axes>"
      ]
     },
     "metadata": {},
     "output_type": "display_data"
    }
   ],
   "source": [
    "rndmf.max_leaf_nodes=72\n",
    "param_test={\"param_range\":np.linspace(0,0.1,10),\n",
    "            \"param_name\":\"min_impurity_decrease\"}\n",
    "\n",
    "plot_validation_curve(rndmf,\n",
    "                      X_train,\n",
    "                      train[[target]].fillna(0),\n",
    "                      scoring=\"roc_auc\",\n",
    "                      **param_test)"
   ]
  },
  {
   "cell_type": "code",
   "execution_count": 48,
   "metadata": {
    "id": "6Xjei917vSe8"
   },
   "outputs": [
    {
     "data": {
      "text/plain": [
       "RandomForestClassifier(max_depth=8, max_leaf_nodes=72, min_samples_split=200,\n",
       "                       n_estimators=50)"
      ]
     },
     "execution_count": 48,
     "metadata": {},
     "output_type": "execute_result"
    }
   ],
   "source": [
    "rndmf"
   ]
  },
  {
   "cell_type": "code",
   "execution_count": 49,
   "metadata": {
    "id": "nj_G6Sk4LveN"
   },
   "outputs": [
    {
     "name": "stderr",
     "output_type": "stream",
     "text": [
      "C:\\Users\\99823827\\Anaconda3\\envs\\GFAF_model\\lib\\site-packages\\category_encoders\\utils.py:21: FutureWarning: is_categorical is deprecated and will be removed in a future version.  Use is_categorical_dtype instead\n",
      "  elif pd.api.types.is_categorical(cols):\n"
     ]
    },
    {
     "name": "stdout",
     "output_type": "stream",
     "text": [
      "(32561, 108)\n",
      "Metrica = ROC_AUC\n",
      "run = 0 | metrica treino = 0.7351123949708582 | metrica val = 0.7270443422600874\n",
      "Metrica = Accuracy\n",
      "run = 0 | metrica treino = 0.8523878992628993 | metrica val = 0.8440042990941194\n",
      "Metrica = Precision\n",
      "run = 0 | metrica treino = 0.8026216284345853 | metrica val = 0.7869177403369673\n",
      "Metrica = Recall\n",
      "run = 0 | metrica treino = 0.5097662504002561 | metrica val = 0.49780564263322885\n",
      "Metrica = ROC_AUC\n",
      "run = 1 | metrica treino = 0.7359403328060793 | metrica val = 0.7435120969910959\n",
      "Metrica = Accuracy\n",
      "run = 1 | metrica treino = 0.8505508848708204 | metrica val = 0.8573402948402948\n",
      "Metrica = Precision\n",
      "run = 1 | metrica treino = 0.7933742331288344 | metrica val = 0.8115079365079365\n",
      "Metrica = Recall\n",
      "run = 1 | metrica treino = 0.5144812221514958 | metrica val = 0.525369299935774\n",
      "Metrica = ROC_AUC\n",
      "run = 2 | metrica treino = 0.7358995011677278 | metrica val = 0.7273536187686385\n",
      "Metrica = Accuracy\n",
      "run = 2 | metrica treino = 0.8529694038158855 | metrica val = 0.847051597051597\n",
      "Metrica = Precision\n",
      "run = 2 | metrica treino = 0.8032745591939546 | metrica val = 0.8132094943240454\n",
      "Metrica = Recall\n",
      "run = 2 | metrica treino = 0.5112215453671048 | metrica val = 0.49157829070492826\n",
      "Metrica = ROC_AUC\n",
      "run = 3 | metrica treino = 0.7347870727595687 | metrica val = 0.7314709725001954\n",
      "Metrica = Accuracy\n",
      "run = 3 | metrica treino = 0.8507428308188414 | metrica val = 0.8472051597051597\n",
      "Metrica = Precision\n",
      "run = 3 | metrica treino = 0.7965722801788375 | metrica val = 0.7788649706457925\n",
      "Metrica = Recall\n",
      "run = 3 | metrica treino = 0.5109942638623327 | metrica val = 0.5086261980830671\n",
      "Metrica = ROC_AUC\n",
      "run = 4 | metrica treino = 0.7399364674568247 | metrica val = 0.7301816511008441\n",
      "Metrica = Accuracy\n",
      "run = 4 | metrica treino = 0.8521248416445929 | metrica val = 0.8495085995085995\n",
      "Metrica = Precision\n",
      "run = 4 | metrica treino = 0.7987893462469734 | metrica val = 0.7707707707707707\n",
      "Metrica = Recall\n",
      "run = 4 | metrica treino = 0.521993670886076 | metrica val = 0.5062458908612755\n"
     ]
    }
   ],
   "source": [
    "rndmf,encoding,scaler,rslt=fit_cv(rndmForest,train,target,encoding,cat_feat,scaler,numeric_feat,cv,metrics_)"
   ]
  },
  {
   "cell_type": "code",
   "execution_count": 50,
   "metadata": {
    "id": "3gmK1P9pLveU"
   },
   "outputs": [
    {
     "data": {
      "text/plain": [
       "ROC_AUC_train     0.74\n",
       "ROC_AUC_val       0.73\n",
       "Accuracy_train    0.85\n",
       "Accuracy_val      0.85\n",
       "Precision_train   0.80\n",
       "Precision_val     0.79\n",
       "Recall_train      0.51\n",
       "Recall_val        0.51\n",
       "dtype: float64"
      ]
     },
     "execution_count": 50,
     "metadata": {},
     "output_type": "execute_result"
    }
   ],
   "source": [
    "rslt.mean()"
   ]
  },
  {
   "cell_type": "code",
   "execution_count": 51,
   "metadata": {
    "id": "hN8p_xegLveV"
   },
   "outputs": [
    {
     "name": "stderr",
     "output_type": "stream",
     "text": [
      "C:\\Users\\99823827\\Anaconda3\\envs\\GFAF_model\\lib\\site-packages\\category_encoders\\utils.py:21: FutureWarning: is_categorical is deprecated and will be removed in a future version.  Use is_categorical_dtype instead\n",
      "  elif pd.api.types.is_categorical(cols):\n",
      "C:\\Users\\99823827\\Anaconda3\\envs\\GFAF_model\\lib\\site-packages\\category_encoders\\utils.py:21: FutureWarning: is_categorical is deprecated and will be removed in a future version.  Use is_categorical_dtype instead\n",
      "  elif pd.api.types.is_categorical(cols):\n"
     ]
    },
    {
     "name": "stdout",
     "output_type": "stream",
     "text": [
      "================== Test Performance =================\n",
      "metric ROC_AUC = 0.5154584180954693\n",
      "================== Test Performance =================\n",
      "metric Accuracy = 0.7665376819605675\n",
      "================== Test Performance =================\n",
      "metric Precision = 0.5868725868725869\n",
      "================== Test Performance =================\n",
      "metric Recall = 0.039521580863234526\n"
     ]
    }
   ],
   "source": [
    "X_train=encoding.fit_transform(train[cat_feat])\n",
    "X_train[numeric_feat]=scaler.fit_transform(train[numeric_feat])\n",
    "\n",
    "X_test=encoding.fit_transform(test[cat_feat])\n",
    "X_test[numeric_feat]=scaler.fit_transform(test[numeric_feat])\n",
    "\n",
    "missing_cols=list(set(X_train.columns)-set(X_test.columns))\n",
    "X_test[missing_cols]=0\n",
    "\n",
    "y_hat_test=rndmf.predict(X_test)\n",
    "for name,metric in metrics_.items():\n",
    "  metric_test=metric(test[target],y_hat_test)\n",
    "  print(\"================== Test Performance =================\")\n",
    "  print(\"metric {} = {}\".format(name,metric_test))"
   ]
  },
  {
   "cell_type": "code",
   "execution_count": 64,
   "metadata": {
    "id": "3mKt2C-yn7rz"
   },
   "outputs": [
    {
     "data": {
      "image/png": "[encoded data removed]",
      "text/plain": [
       "<Figure size 360x360 with 2 Axes>"
      ]
     },
     "metadata": {},
     "output_type": "display_data"
    }
   ],
   "source": [
    "import matplotlib.pyplot as plt\n",
    "import seaborn as sns\n",
    "from sklearn import metrics\n",
    "\n",
    "fig,ax=plt.subplots(nrows=1,ncols=1,figsize=(5,5))\n",
    "sns.heatmap(metrics.confusion_matrix(test[target], y_hat_test),annot=True,fmt=\"\")\n",
    "plt.show()"
   ]
  },
  {
   "cell_type": "markdown",
   "metadata": {
    "id": "OSIFwm86v7vU"
   },
   "source": [
    "## Neural Networks"
   ]
  },
  {
   "cell_type": "code",
   "execution_count": null,
   "metadata": {
    "id": "JFto5PV_v6_H"
   },
   "outputs": [],
   "source": [
    "# import the necessary packages\n",
    "import tensorflow as tf\n",
    "from tensorflow.keras.models import Sequential\n",
    "from tensorflow.keras.layers.normalization import BatchNormalization\n",
    "from tensorflow.keras.layers.convolutional import Conv2D\n",
    "from tensorflow.keras.layers.convolutional import MaxPooling2D\n",
    "from tensorflow.keras.layers.core import Activation\n",
    "from tensorflow.keras.layers.core import Dropout\n",
    "from tensorflow.keras.layers.core import Dense\n",
    "from tensorflow.keras.layers import Flatten\n",
    "from tensorflow.keras.layers import Input\n",
    "from tensorflow.keras.models import Model\n",
    " \n",
    "def create_mlp(dim, regress=True):\n",
    "    # define our MLP (Multilayer Perceptron) network\n",
    "    model = Sequential()\n",
    "    # hidden layer 1\n",
    "    model.add(Dense(40, input_dim=dim, activation=\"relu\"))\n",
    "    # hidden layer 2\n",
    "    model.add(Dense(20, activation=\"relu\"))\n",
    "    \n",
    "    # check to see if the regression node should be added\n",
    "    if regress:\n",
    "        # output layer\n",
    "        model.add(Dense(1, activation=\"linear\"))\n",
    "    \n",
    "    # return our model\n",
    "    return model"
   ]
  },
  {
   "cell_type": "code",
   "execution_count": null,
   "metadata": {
    "id": "uaZO-aLuI5F8"
   },
   "outputs": [],
   "source": [
    "from tensorflow.keras.optimizers import Adam\n",
    "\n",
    "model = create_mlp(trainX.shape[1], regress=True)\n",
    "opt = Adam(lr=0.001)\n",
    "model.compile(loss=\"mean_absolute_error\", optimizer=opt, metrics=['mae', 'mse'])\n",
    " \n",
    "# train the model\n",
    "print(\"[INFO] training model...\")\n",
    "history = model.fit(trainX, trainY, validation_data=(testX, testY), epochs=50, batch_size=64)"
   ]
  },
  {
   "cell_type": "code",
   "execution_count": null,
   "metadata": {
    "id": "yCpLPWo6TPDH"
   },
   "outputs": [],
   "source": [
    "# evaluate the model\n",
    "train_mse = model.evaluate(trainX, trainY, verbose=0)\n",
    "test_mse = model.evaluate(testX, testY, verbose=0)\n",
    "print('Train: {}, Test: {}'.format(train_mse, test_mse))"
   ]
  },
  {
   "cell_type": "code",
   "execution_count": null,
   "metadata": {
    "id": "jXy6N58ITRSq"
   },
   "outputs": [],
   "source": [
    "from matplotlib import pyplot\n",
    "plt.rcParams.update({'figure.figsize': (15, 8), 'figure.dpi': 190})\n",
    "\n",
    "def plot_history(history):\n",
    "    hist = pd.DataFrame(history.history)\n",
    "    hist['epoch'] = history.epoch\n",
    "\n",
    "    plt.figure()\n",
    "    plt.xlabel('Epoch')\n",
    "    plt.ylabel('Mean Abs Error [MPG]')\n",
    "    plt.plot(hist['epoch'], hist['mean_absolute_error'],\n",
    "             label='Train Error')\n",
    "    plt.plot(hist['epoch'], hist['val_mean_absolute_error'],\n",
    "             label = 'Val Error')\n",
    "    #plt.ylim([0,5])\n",
    "    plt.legend()\n",
    "\n",
    "    plt.figure()\n",
    "    plt.xlabel('Epoch')\n",
    "    plt.ylabel('Mean Square Error [$MPG^2$]')\n",
    "    plt.plot(hist['epoch'], hist['mean_squared_error'],\n",
    "             label='Train Error')\n",
    "    plt.plot(hist['epoch'], hist['val_mean_squared_error'],\n",
    "             label = 'Val Error')\n",
    "    #plt.ylim([0,20])\n",
    "    plt.legend()\n",
    "    plt.show()\n",
    "\n",
    "\n",
    "# plot loss while training the data\n",
    "plot_history(history)\n"
   ]
  }
 ],
 "metadata": {
  "colab": {
   "authorship_tag": "ABX9TyOat7GIhXVdPo8+KwRZOuz0",
   "collapsed_sections": [],
   "mount_file_id": "1QRv8eSxl5iIBdGRzdpZRl3rur87Bgi5L",
   "name": "AdultSet_model.ipynb",
   "provenance": []
  },
  "kernelspec": {
   "display_name": "Python 3",
   "language": "python",
   "name": "python3"
  },
  "language_info": {
   "codemirror_mode": {
    "name": "ipython",
    "version": 3
   },
   "file_extension": ".py",
   "mimetype": "text/x-python",
   "name": "python",
   "nbconvert_exporter": "python",
   "pygments_lexer": "ipython3",
   "version": "3.9.4"
  },
  "widgets": {
   "application/vnd.jupyter.widget-state+json": {
    "01ed83aed43e401aa95eca7498aa4120": {
     "model_module": "@jupyter-widgets/base",
     "model_name": "LayoutModel",
     "state": {
      "_model_module": "@jupyter-widgets/base",
      "_model_module_version": "1.2.0",
      "_model_name": "LayoutModel",
      "_view_count": null,
      "_view_module": "@jupyter-widgets/base",
      "_view_module_version": "1.2.0",
      "_view_name": "LayoutView",
      "align_content": null,
      "align_items": null,
      "align_self": null,
      "border": null,
      "bottom": null,
      "display": null,
      "flex": null,
      "flex_flow": null,
      "grid_area": null,
      "grid_auto_columns": null,
      "grid_auto_flow": null,
      "grid_auto_rows": null,
      "grid_column": null,
      "grid_gap": null,
      "grid_row": null,
      "grid_template_areas": null,
      "grid_template_columns": null,
      "grid_template_rows": null,
      "height": null,
      "justify_content": null,
      "justify_items": null,
      "left": null,
      "margin": null,
      "max_height": null,
      "max_width": null,
      "min_height": null,
      "min_width": null,
      "object_fit": null,
      "object_position": null,
      "order": null,
      "overflow": null,
      "overflow_x": null,
      "overflow_y": null,
      "padding": null,
      "right": null,
      "top": null,
      "visibility": null,
      "width": null
     }
    },
    "04d2d83ea9da431cb995f533e78d74d8": {
     "model_module": "@jupyter-widgets/controls",
     "model_name": "ProgressStyleModel",
     "state": {
      "_model_module": "@jupyter-widgets/controls",
      "_model_module_version": "1.5.0",
      "_model_name": "ProgressStyleModel",
      "_view_count": null,
      "_view_module": "@jupyter-widgets/base",
      "_view_module_version": "1.2.0",
      "_view_name": "StyleView",
      "bar_color": null,
      "description_width": ""
     }
    },
    "08e50926f65847cf8f69b95953c5d7e8": {
     "model_module": "@jupyter-widgets/controls",
     "model_name": "HTMLModel",
     "state": {
      "_dom_classes": [],
      "_model_module": "@jupyter-widgets/controls",
      "_model_module_version": "1.5.0",
      "_model_name": "HTMLModel",
      "_view_count": null,
      "_view_module": "@jupyter-widgets/controls",
      "_view_module_version": "1.5.0",
      "_view_name": "HTMLView",
      "description": "",
      "description_tooltip": null,
      "layout": "IPY_MODEL_a870cbd6402c4a9da97d7879a27a1f90",
      "placeholder": "​",
      "style": "IPY_MODEL_2257e53962c84815a285b177d9afedad",
      "value": " 1/1 [00:09&lt;00:00,  9.58s/it]"
     }
    },
    "0a0c526a11834f69b67eed4f50ae09f7": {
     "model_module": "@jupyter-widgets/base",
     "model_name": "LayoutModel",
     "state": {
      "_model_module": "@jupyter-widgets/base",
      "_model_module_version": "1.2.0",
      "_model_name": "LayoutModel",
      "_view_count": null,
      "_view_module": "@jupyter-widgets/base",
      "_view_module_version": "1.2.0",
      "_view_name": "LayoutView",
      "align_content": null,
      "align_items": null,
      "align_self": null,
      "border": null,
      "bottom": null,
      "display": null,
      "flex": null,
      "flex_flow": null,
      "grid_area": null,
      "grid_auto_columns": null,
      "grid_auto_flow": null,
      "grid_auto_rows": null,
      "grid_column": null,
      "grid_gap": null,
      "grid_row": null,
      "grid_template_areas": null,
      "grid_template_columns": null,
      "grid_template_rows": null,
      "height": null,
      "justify_content": null,
      "justify_items": null,
      "left": null,
      "margin": null,
      "max_height": null,
      "max_width": null,
      "min_height": null,
      "min_width": null,
      "object_fit": null,
      "object_position": null,
      "order": null,
      "overflow": null,
      "overflow_x": null,
      "overflow_y": null,
      "padding": null,
      "right": null,
      "top": null,
      "visibility": null,
      "width": null
     }
    },
    "0aac062d2f0b443daf30b5f10e2e75a0": {
     "model_module": "@jupyter-widgets/controls",
     "model_name": "ProgressStyleModel",
     "state": {
      "_model_module": "@jupyter-widgets/controls",
      "_model_module_version": "1.5.0",
      "_model_name": "ProgressStyleModel",
      "_view_count": null,
      "_view_module": "@jupyter-widgets/base",
      "_view_module_version": "1.2.0",
      "_view_name": "StyleView",
      "bar_color": null,
      "description_width": ""
     }
    },
    "0e464246b9524edd82033651eaf4220b": {
     "model_module": "@jupyter-widgets/base",
     "model_name": "LayoutModel",
     "state": {
      "_model_module": "@jupyter-widgets/base",
      "_model_module_version": "1.2.0",
      "_model_name": "LayoutModel",
      "_view_count": null,
      "_view_module": "@jupyter-widgets/base",
      "_view_module_version": "1.2.0",
      "_view_name": "LayoutView",
      "align_content": null,
      "align_items": null,
      "align_self": null,
      "border": null,
      "bottom": null,
      "display": null,
      "flex": null,
      "flex_flow": null,
      "grid_area": null,
      "grid_auto_columns": null,
      "grid_auto_flow": null,
      "grid_auto_rows": null,
      "grid_column": null,
      "grid_gap": null,
      "grid_row": null,
      "grid_template_areas": null,
      "grid_template_columns": null,
      "grid_template_rows": null,
      "height": null,
      "justify_content": null,
      "justify_items": null,
      "left": null,
      "margin": null,
      "max_height": null,
      "max_width": null,
      "min_height": null,
      "min_width": null,
      "object_fit": null,
      "object_position": null,
      "order": null,
      "overflow": null,
      "overflow_x": null,
      "overflow_y": null,
      "padding": null,
      "right": null,
      "top": null,
      "visibility": null,
      "width": null
     }
    },
    "12f4f197a9f24833a9989fbf1b616cb9": {
     "model_module": "@jupyter-widgets/controls",
     "model_name": "HTMLModel",
     "state": {
      "_dom_classes": [],
      "_model_module": "@jupyter-widgets/controls",
      "_model_module_version": "1.5.0",
      "_model_name": "HTMLModel",
      "_view_count": null,
      "_view_module": "@jupyter-widgets/controls",
      "_view_module_version": "1.5.0",
      "_view_name": "HTMLView",
      "description": "",
      "description_tooltip": null,
      "layout": "IPY_MODEL_7f1cebe83cb1407ba38db7a04daef813",
      "placeholder": "​",
      "style": "IPY_MODEL_be33105c388f440bbac26b44db17d342",
      "value": "Export report to file: 100%"
     }
    },
    "18ec62a0ac944cff89df5c3e55d85026": {
     "model_module": "@jupyter-widgets/controls",
     "model_name": "HBoxModel",
     "state": {
      "_dom_classes": [],
      "_model_module": "@jupyter-widgets/controls",
      "_model_module_version": "1.5.0",
      "_model_name": "HBoxModel",
      "_view_count": null,
      "_view_module": "@jupyter-widgets/controls",
      "_view_module_version": "1.5.0",
      "_view_name": "HBoxView",
      "box_style": "",
      "children": [
       "IPY_MODEL_b708548052404c9c89792646e3d303d7",
       "IPY_MODEL_6468a7c719684003b2a7cdc098495ac3",
       "IPY_MODEL_659370d2c47b48d5a75f182b82fa1b14"
      ],
      "layout": "IPY_MODEL_48658815432b462da88c2950bc06c1bd"
     }
    },
    "1c8f6817fc36496195d9e7c506eea6e8": {
     "model_module": "@jupyter-widgets/controls",
     "model_name": "ProgressStyleModel",
     "state": {
      "_model_module": "@jupyter-widgets/controls",
      "_model_module_version": "1.5.0",
      "_model_name": "ProgressStyleModel",
      "_view_count": null,
      "_view_module": "@jupyter-widgets/base",
      "_view_module_version": "1.2.0",
      "_view_name": "StyleView",
      "bar_color": null,
      "description_width": ""
     }
    },
    "1ca60689ad364ebcbda65f32c342a55c": {
     "model_module": "@jupyter-widgets/controls",
     "model_name": "DescriptionStyleModel",
     "state": {
      "_model_module": "@jupyter-widgets/controls",
      "_model_module_version": "1.5.0",
      "_model_name": "DescriptionStyleModel",
      "_view_count": null,
      "_view_module": "@jupyter-widgets/base",
      "_view_module_version": "1.2.0",
      "_view_name": "StyleView",
      "description_width": ""
     }
    },
    "1ea5bd749ca04f139c5b8e402ce107f3": {
     "model_module": "@jupyter-widgets/controls",
     "model_name": "HBoxModel",
     "state": {
      "_dom_classes": [],
      "_model_module": "@jupyter-widgets/controls",
      "_model_module_version": "1.5.0",
      "_model_name": "HBoxModel",
      "_view_count": null,
      "_view_module": "@jupyter-widgets/controls",
      "_view_module_version": "1.5.0",
      "_view_name": "HBoxView",
      "box_style": "",
      "children": [
       "IPY_MODEL_53e46d0e96724df3b2eb264ded46f7d3",
       "IPY_MODEL_66773440477b4d7d805e1f859f1374a3",
       "IPY_MODEL_08e50926f65847cf8f69b95953c5d7e8"
      ],
      "layout": "IPY_MODEL_4cfc2e0623434b68957f4e6c07c5574c"
     }
    },
    "1fc65bfda4ba4c3ebca9104c7663ace5": {
     "model_module": "@jupyter-widgets/base",
     "model_name": "LayoutModel",
     "state": {
      "_model_module": "@jupyter-widgets/base",
      "_model_module_version": "1.2.0",
      "_model_name": "LayoutModel",
      "_view_count": null,
      "_view_module": "@jupyter-widgets/base",
      "_view_module_version": "1.2.0",
      "_view_name": "LayoutView",
      "align_content": null,
      "align_items": null,
      "align_self": null,
      "border": null,
      "bottom": null,
      "display": null,
      "flex": null,
      "flex_flow": null,
      "grid_area": null,
      "grid_auto_columns": null,
      "grid_auto_flow": null,
      "grid_auto_rows": null,
      "grid_column": null,
      "grid_gap": null,
      "grid_row": null,
      "grid_template_areas": null,
      "grid_template_columns": null,
      "grid_template_rows": null,
      "height": null,
      "justify_content": null,
      "justify_items": null,
      "left": null,
      "margin": null,
      "max_height": null,
      "max_width": null,
      "min_height": null,
      "min_width": null,
      "object_fit": null,
      "object_position": null,
      "order": null,
      "overflow": null,
      "overflow_x": null,
      "overflow_y": null,
      "padding": null,
      "right": null,
      "top": null,
      "visibility": null,
      "width": null
     }
    },
    "2257e53962c84815a285b177d9afedad": {
     "model_module": "@jupyter-widgets/controls",
     "model_name": "DescriptionStyleModel",
     "state": {
      "_model_module": "@jupyter-widgets/controls",
      "_model_module_version": "1.5.0",
      "_model_name": "DescriptionStyleModel",
      "_view_count": null,
      "_view_module": "@jupyter-widgets/base",
      "_view_module_version": "1.2.0",
      "_view_name": "StyleView",
      "description_width": ""
     }
    },
    "246636dc0f094e299af7690282cbbd00": {
     "model_module": "@jupyter-widgets/controls",
     "model_name": "HTMLModel",
     "state": {
      "_dom_classes": [],
      "_model_module": "@jupyter-widgets/controls",
      "_model_module_version": "1.5.0",
      "_model_name": "HTMLModel",
      "_view_count": null,
      "_view_module": "@jupyter-widgets/controls",
      "_view_module_version": "1.5.0",
      "_view_name": "HTMLView",
      "description": "",
      "description_tooltip": null,
      "layout": "IPY_MODEL_7a124253917c46c7a9eec0650c5e06b0",
      "placeholder": "​",
      "style": "IPY_MODEL_39bd2c8679fb49e39d4ca467da6b6c2f",
      "value": "Generate report structure: 100%"
     }
    },
    "2b5af668b90c4ad48d54f39e559ddebb": {
     "model_module": "@jupyter-widgets/base",
     "model_name": "LayoutModel",
     "state": {
      "_model_module": "@jupyter-widgets/base",
      "_model_module_version": "1.2.0",
      "_model_name": "LayoutModel",
      "_view_count": null,
      "_view_module": "@jupyter-widgets/base",
      "_view_module_version": "1.2.0",
      "_view_name": "LayoutView",
      "align_content": null,
      "align_items": null,
      "align_self": null,
      "border": null,
      "bottom": null,
      "display": null,
      "flex": null,
      "flex_flow": null,
      "grid_area": null,
      "grid_auto_columns": null,
      "grid_auto_flow": null,
      "grid_auto_rows": null,
      "grid_column": null,
      "grid_gap": null,
      "grid_row": null,
      "grid_template_areas": null,
      "grid_template_columns": null,
      "grid_template_rows": null,
      "height": null,
      "justify_content": null,
      "justify_items": null,
      "left": null,
      "margin": null,
      "max_height": null,
      "max_width": null,
      "min_height": null,
      "min_width": null,
      "object_fit": null,
      "object_position": null,
      "order": null,
      "overflow": null,
      "overflow_x": null,
      "overflow_y": null,
      "padding": null,
      "right": null,
      "top": null,
      "visibility": null,
      "width": null
     }
    },
    "2f22767f08aa4bc9b13818099ebfd26d": {
     "model_module": "@jupyter-widgets/controls",
     "model_name": "HTMLModel",
     "state": {
      "_dom_classes": [],
      "_model_module": "@jupyter-widgets/controls",
      "_model_module_version": "1.5.0",
      "_model_name": "HTMLModel",
      "_view_count": null,
      "_view_module": "@jupyter-widgets/controls",
      "_view_module_version": "1.5.0",
      "_view_name": "HTMLView",
      "description": "",
      "description_tooltip": null,
      "layout": "IPY_MODEL_624d9891b83142329c41ff73c7161660",
      "placeholder": "​",
      "style": "IPY_MODEL_bbf3dbe2ce9d4f1ca8498bdb6c43e8f1",
      "value": " 1/1 [00:02&lt;00:00,  2.61s/it]"
     }
    },
    "309af91ec8254593af008c44706f10b8": {
     "model_module": "@jupyter-widgets/controls",
     "model_name": "DescriptionStyleModel",
     "state": {
      "_model_module": "@jupyter-widgets/controls",
      "_model_module_version": "1.5.0",
      "_model_name": "DescriptionStyleModel",
      "_view_count": null,
      "_view_module": "@jupyter-widgets/base",
      "_view_module_version": "1.2.0",
      "_view_name": "StyleView",
      "description_width": ""
     }
    },
    "319d9fa13591441294d61256cd0af158": {
     "model_module": "@jupyter-widgets/base",
     "model_name": "LayoutModel",
     "state": {
      "_model_module": "@jupyter-widgets/base",
      "_model_module_version": "1.2.0",
      "_model_name": "LayoutModel",
      "_view_count": null,
      "_view_module": "@jupyter-widgets/base",
      "_view_module_version": "1.2.0",
      "_view_name": "LayoutView",
      "align_content": null,
      "align_items": null,
      "align_self": null,
      "border": null,
      "bottom": null,
      "display": null,
      "flex": null,
      "flex_flow": null,
      "grid_area": null,
      "grid_auto_columns": null,
      "grid_auto_flow": null,
      "grid_auto_rows": null,
      "grid_column": null,
      "grid_gap": null,
      "grid_row": null,
      "grid_template_areas": null,
      "grid_template_columns": null,
      "grid_template_rows": null,
      "height": null,
      "justify_content": null,
      "justify_items": null,
      "left": null,
      "margin": null,
      "max_height": null,
      "max_width": null,
      "min_height": null,
      "min_width": null,
      "object_fit": null,
      "object_position": null,
      "order": null,
      "overflow": null,
      "overflow_x": null,
      "overflow_y": null,
      "padding": null,
      "right": null,
      "top": null,
      "visibility": null,
      "width": null
     }
    },
    "39bd2c8679fb49e39d4ca467da6b6c2f": {
     "model_module": "@jupyter-widgets/controls",
     "model_name": "DescriptionStyleModel",
     "state": {
      "_model_module": "@jupyter-widgets/controls",
      "_model_module_version": "1.5.0",
      "_model_name": "DescriptionStyleModel",
      "_view_count": null,
      "_view_module": "@jupyter-widgets/base",
      "_view_module_version": "1.2.0",
      "_view_name": "StyleView",
      "description_width": ""
     }
    },
    "39da7a23ac584a72bab4792c529f4839": {
     "model_module": "@jupyter-widgets/controls",
     "model_name": "DescriptionStyleModel",
     "state": {
      "_model_module": "@jupyter-widgets/controls",
      "_model_module_version": "1.5.0",
      "_model_name": "DescriptionStyleModel",
      "_view_count": null,
      "_view_module": "@jupyter-widgets/base",
      "_view_module_version": "1.2.0",
      "_view_name": "StyleView",
      "description_width": ""
     }
    },
    "39de64e130ae44efa04f8bf649ec584b": {
     "model_module": "@jupyter-widgets/controls",
     "model_name": "HTMLModel",
     "state": {
      "_dom_classes": [],
      "_model_module": "@jupyter-widgets/controls",
      "_model_module_version": "1.5.0",
      "_model_name": "HTMLModel",
      "_view_count": null,
      "_view_module": "@jupyter-widgets/controls",
      "_view_module_version": "1.5.0",
      "_view_name": "HTMLView",
      "description": "",
      "description_tooltip": null,
      "layout": "IPY_MODEL_0a0c526a11834f69b67eed4f50ae09f7",
      "placeholder": "​",
      "style": "IPY_MODEL_46f758f7a341487095eb7726de429358",
      "value": " 1/1 [00:00&lt;00:00,  3.44it/s]"
     }
    },
    "3b026b6bbadc486aacc71ce4cd952cbd": {
     "model_module": "@jupyter-widgets/controls",
     "model_name": "ProgressStyleModel",
     "state": {
      "_model_module": "@jupyter-widgets/controls",
      "_model_module_version": "1.5.0",
      "_model_name": "ProgressStyleModel",
      "_view_count": null,
      "_view_module": "@jupyter-widgets/base",
      "_view_module_version": "1.2.0",
      "_view_name": "StyleView",
      "bar_color": null,
      "description_width": ""
     }
    },
    "3bcc37a00be14c858e8509e1334acbf9": {
     "model_module": "@jupyter-widgets/controls",
     "model_name": "DescriptionStyleModel",
     "state": {
      "_model_module": "@jupyter-widgets/controls",
      "_model_module_version": "1.5.0",
      "_model_name": "DescriptionStyleModel",
      "_view_count": null,
      "_view_module": "@jupyter-widgets/base",
      "_view_module_version": "1.2.0",
      "_view_name": "StyleView",
      "description_width": ""
     }
    },
    "3c31b45e638e4e679a58a0ce3605e2b5": {
     "model_module": "@jupyter-widgets/controls",
     "model_name": "FloatProgressModel",
     "state": {
      "_dom_classes": [],
      "_model_module": "@jupyter-widgets/controls",
      "_model_module_version": "1.5.0",
      "_model_name": "FloatProgressModel",
      "_view_count": null,
      "_view_module": "@jupyter-widgets/controls",
      "_view_module_version": "1.5.0",
      "_view_name": "ProgressView",
      "bar_style": "success",
      "description": "",
      "description_tooltip": null,
      "layout": "IPY_MODEL_a075dc90fc8643548e0ddaccc447a254",
      "max": 1,
      "min": 0,
      "orientation": "horizontal",
      "style": "IPY_MODEL_0aac062d2f0b443daf30b5f10e2e75a0",
      "value": 1
     }
    },
    "3ee988a51ebd4ef5958b62f911fab9fe": {
     "model_module": "@jupyter-widgets/controls",
     "model_name": "HTMLModel",
     "state": {
      "_dom_classes": [],
      "_model_module": "@jupyter-widgets/controls",
      "_model_module_version": "1.5.0",
      "_model_name": "HTMLModel",
      "_view_count": null,
      "_view_module": "@jupyter-widgets/controls",
      "_view_module_version": "1.5.0",
      "_view_name": "HTMLView",
      "description": "",
      "description_tooltip": null,
      "layout": "IPY_MODEL_b453f781d0ce4d73ade963aa8d4abff0",
      "placeholder": "​",
      "style": "IPY_MODEL_7d8095cabadc4fdeae4dde590e9e1609",
      "value": "Render HTML: 100%"
     }
    },
    "40ab8af00e624395aec7fa3a3f15fb6f": {
     "model_module": "@jupyter-widgets/base",
     "model_name": "LayoutModel",
     "state": {
      "_model_module": "@jupyter-widgets/base",
      "_model_module_version": "1.2.0",
      "_model_name": "LayoutModel",
      "_view_count": null,
      "_view_module": "@jupyter-widgets/base",
      "_view_module_version": "1.2.0",
      "_view_name": "LayoutView",
      "align_content": null,
      "align_items": null,
      "align_self": null,
      "border": null,
      "bottom": null,
      "display": null,
      "flex": null,
      "flex_flow": null,
      "grid_area": null,
      "grid_auto_columns": null,
      "grid_auto_flow": null,
      "grid_auto_rows": null,
      "grid_column": null,
      "grid_gap": null,
      "grid_row": null,
      "grid_template_areas": null,
      "grid_template_columns": null,
      "grid_template_rows": null,
      "height": null,
      "justify_content": null,
      "justify_items": null,
      "left": null,
      "margin": null,
      "max_height": null,
      "max_width": null,
      "min_height": null,
      "min_width": null,
      "object_fit": null,
      "object_position": null,
      "order": null,
      "overflow": null,
      "overflow_x": null,
      "overflow_y": null,
      "padding": null,
      "right": null,
      "top": null,
      "visibility": null,
      "width": null
     }
    },
    "41f66f67d5c8491e853089f59b0f3fb4": {
     "model_module": "@jupyter-widgets/controls",
     "model_name": "DescriptionStyleModel",
     "state": {
      "_model_module": "@jupyter-widgets/controls",
      "_model_module_version": "1.5.0",
      "_model_name": "DescriptionStyleModel",
      "_view_count": null,
      "_view_module": "@jupyter-widgets/base",
      "_view_module_version": "1.2.0",
      "_view_name": "StyleView",
      "description_width": ""
     }
    },
    "46f758f7a341487095eb7726de429358": {
     "model_module": "@jupyter-widgets/controls",
     "model_name": "DescriptionStyleModel",
     "state": {
      "_model_module": "@jupyter-widgets/controls",
      "_model_module_version": "1.5.0",
      "_model_name": "DescriptionStyleModel",
      "_view_count": null,
      "_view_module": "@jupyter-widgets/base",
      "_view_module_version": "1.2.0",
      "_view_name": "StyleView",
      "description_width": ""
     }
    },
    "48658815432b462da88c2950bc06c1bd": {
     "model_module": "@jupyter-widgets/base",
     "model_name": "LayoutModel",
     "state": {
      "_model_module": "@jupyter-widgets/base",
      "_model_module_version": "1.2.0",
      "_model_name": "LayoutModel",
      "_view_count": null,
      "_view_module": "@jupyter-widgets/base",
      "_view_module_version": "1.2.0",
      "_view_name": "LayoutView",
      "align_content": null,
      "align_items": null,
      "align_self": null,
      "border": null,
      "bottom": null,
      "display": null,
      "flex": null,
      "flex_flow": null,
      "grid_area": null,
      "grid_auto_columns": null,
      "grid_auto_flow": null,
      "grid_auto_rows": null,
      "grid_column": null,
      "grid_gap": null,
      "grid_row": null,
      "grid_template_areas": null,
      "grid_template_columns": null,
      "grid_template_rows": null,
      "height": null,
      "justify_content": null,
      "justify_items": null,
      "left": null,
      "margin": null,
      "max_height": null,
      "max_width": null,
      "min_height": null,
      "min_width": null,
      "object_fit": null,
      "object_position": null,
      "order": null,
      "overflow": null,
      "overflow_x": null,
      "overflow_y": null,
      "padding": null,
      "right": null,
      "top": null,
      "visibility": null,
      "width": null
     }
    },
    "48d50abe1b9b4ac88a43b2fe461079c0": {
     "model_module": "@jupyter-widgets/controls",
     "model_name": "ProgressStyleModel",
     "state": {
      "_model_module": "@jupyter-widgets/controls",
      "_model_module_version": "1.5.0",
      "_model_name": "ProgressStyleModel",
      "_view_count": null,
      "_view_module": "@jupyter-widgets/base",
      "_view_module_version": "1.2.0",
      "_view_name": "StyleView",
      "bar_color": null,
      "description_width": ""
     }
    },
    "4cfc2e0623434b68957f4e6c07c5574c": {
     "model_module": "@jupyter-widgets/base",
     "model_name": "LayoutModel",
     "state": {
      "_model_module": "@jupyter-widgets/base",
      "_model_module_version": "1.2.0",
      "_model_name": "LayoutModel",
      "_view_count": null,
      "_view_module": "@jupyter-widgets/base",
      "_view_module_version": "1.2.0",
      "_view_name": "LayoutView",
      "align_content": null,
      "align_items": null,
      "align_self": null,
      "border": null,
      "bottom": null,
      "display": null,
      "flex": null,
      "flex_flow": null,
      "grid_area": null,
      "grid_auto_columns": null,
      "grid_auto_flow": null,
      "grid_auto_rows": null,
      "grid_column": null,
      "grid_gap": null,
      "grid_row": null,
      "grid_template_areas": null,
      "grid_template_columns": null,
      "grid_template_rows": null,
      "height": null,
      "justify_content": null,
      "justify_items": null,
      "left": null,
      "margin": null,
      "max_height": null,
      "max_width": null,
      "min_height": null,
      "min_width": null,
      "object_fit": null,
      "object_position": null,
      "order": null,
      "overflow": null,
      "overflow_x": null,
      "overflow_y": null,
      "padding": null,
      "right": null,
      "top": null,
      "visibility": null,
      "width": null
     }
    },
    "51dfd972afcc48489b0470fe6a460874": {
     "model_module": "@jupyter-widgets/base",
     "model_name": "LayoutModel",
     "state": {
      "_model_module": "@jupyter-widgets/base",
      "_model_module_version": "1.2.0",
      "_model_name": "LayoutModel",
      "_view_count": null,
      "_view_module": "@jupyter-widgets/base",
      "_view_module_version": "1.2.0",
      "_view_name": "LayoutView",
      "align_content": null,
      "align_items": null,
      "align_self": null,
      "border": null,
      "bottom": null,
      "display": null,
      "flex": null,
      "flex_flow": null,
      "grid_area": null,
      "grid_auto_columns": null,
      "grid_auto_flow": null,
      "grid_auto_rows": null,
      "grid_column": null,
      "grid_gap": null,
      "grid_row": null,
      "grid_template_areas": null,
      "grid_template_columns": null,
      "grid_template_rows": null,
      "height": null,
      "justify_content": null,
      "justify_items": null,
      "left": null,
      "margin": null,
      "max_height": null,
      "max_width": null,
      "min_height": null,
      "min_width": null,
      "object_fit": null,
      "object_position": null,
      "order": null,
      "overflow": null,
      "overflow_x": null,
      "overflow_y": null,
      "padding": null,
      "right": null,
      "top": null,
      "visibility": null,
      "width": null
     }
    },
    "53e46d0e96724df3b2eb264ded46f7d3": {
     "model_module": "@jupyter-widgets/controls",
     "model_name": "HTMLModel",
     "state": {
      "_dom_classes": [],
      "_model_module": "@jupyter-widgets/controls",
      "_model_module_version": "1.5.0",
      "_model_name": "HTMLModel",
      "_view_count": null,
      "_view_module": "@jupyter-widgets/controls",
      "_view_module_version": "1.5.0",
      "_view_name": "HTMLView",
      "description": "",
      "description_tooltip": null,
      "layout": "IPY_MODEL_a11d92d104184abb855786a45238c732",
      "placeholder": "​",
      "style": "IPY_MODEL_3bcc37a00be14c858e8509e1334acbf9",
      "value": "Generate report structure: 100%"
     }
    },
    "5692970492214da68fdde24660392e91": {
     "model_module": "@jupyter-widgets/controls",
     "model_name": "HTMLModel",
     "state": {
      "_dom_classes": [],
      "_model_module": "@jupyter-widgets/controls",
      "_model_module_version": "1.5.0",
      "_model_name": "HTMLModel",
      "_view_count": null,
      "_view_module": "@jupyter-widgets/controls",
      "_view_module_version": "1.5.0",
      "_view_name": "HTMLView",
      "description": "",
      "description_tooltip": null,
      "layout": "IPY_MODEL_7c525a9f699e460589818f65bea3afa7",
      "placeholder": "​",
      "style": "IPY_MODEL_41f66f67d5c8491e853089f59b0f3fb4",
      "value": "Export report to file: 100%"
     }
    },
    "56debe9bb3594fd8b412a7e804a7bb84": {
     "model_module": "@jupyter-widgets/base",
     "model_name": "LayoutModel",
     "state": {
      "_model_module": "@jupyter-widgets/base",
      "_model_module_version": "1.2.0",
      "_model_name": "LayoutModel",
      "_view_count": null,
      "_view_module": "@jupyter-widgets/base",
      "_view_module_version": "1.2.0",
      "_view_name": "LayoutView",
      "align_content": null,
      "align_items": null,
      "align_self": null,
      "border": null,
      "bottom": null,
      "display": null,
      "flex": null,
      "flex_flow": null,
      "grid_area": null,
      "grid_auto_columns": null,
      "grid_auto_flow": null,
      "grid_auto_rows": null,
      "grid_column": null,
      "grid_gap": null,
      "grid_row": null,
      "grid_template_areas": null,
      "grid_template_columns": null,
      "grid_template_rows": null,
      "height": null,
      "justify_content": null,
      "justify_items": null,
      "left": null,
      "margin": null,
      "max_height": null,
      "max_width": null,
      "min_height": null,
      "min_width": null,
      "object_fit": null,
      "object_position": null,
      "order": null,
      "overflow": null,
      "overflow_x": null,
      "overflow_y": null,
      "padding": null,
      "right": null,
      "top": null,
      "visibility": null,
      "width": null
     }
    },
    "58240d0c0d9b48978a9e35c4453a3e43": {
     "model_module": "@jupyter-widgets/controls",
     "model_name": "HBoxModel",
     "state": {
      "_dom_classes": [],
      "_model_module": "@jupyter-widgets/controls",
      "_model_module_version": "1.5.0",
      "_model_name": "HBoxModel",
      "_view_count": null,
      "_view_module": "@jupyter-widgets/controls",
      "_view_module_version": "1.5.0",
      "_view_name": "HBoxView",
      "box_style": "",
      "children": [
       "IPY_MODEL_246636dc0f094e299af7690282cbbd00",
       "IPY_MODEL_da0beaab858d4b669991eb0cc6d10534",
       "IPY_MODEL_fe83ce05fa3349ab987179628fe85842"
      ],
      "layout": "IPY_MODEL_975b359610f7481b8708595b7add5987"
     }
    },
    "5eb77d979a1945bfacfe304abb7fe7b8": {
     "model_module": "@jupyter-widgets/base",
     "model_name": "LayoutModel",
     "state": {
      "_model_module": "@jupyter-widgets/base",
      "_model_module_version": "1.2.0",
      "_model_name": "LayoutModel",
      "_view_count": null,
      "_view_module": "@jupyter-widgets/base",
      "_view_module_version": "1.2.0",
      "_view_name": "LayoutView",
      "align_content": null,
      "align_items": null,
      "align_self": null,
      "border": null,
      "bottom": null,
      "display": null,
      "flex": null,
      "flex_flow": null,
      "grid_area": null,
      "grid_auto_columns": null,
      "grid_auto_flow": null,
      "grid_auto_rows": null,
      "grid_column": null,
      "grid_gap": null,
      "grid_row": null,
      "grid_template_areas": null,
      "grid_template_columns": null,
      "grid_template_rows": null,
      "height": null,
      "justify_content": null,
      "justify_items": null,
      "left": null,
      "margin": null,
      "max_height": null,
      "max_width": null,
      "min_height": null,
      "min_width": null,
      "object_fit": null,
      "object_position": null,
      "order": null,
      "overflow": null,
      "overflow_x": null,
      "overflow_y": null,
      "padding": null,
      "right": null,
      "top": null,
      "visibility": null,
      "width": null
     }
    },
    "624d9891b83142329c41ff73c7161660": {
     "model_module": "@jupyter-widgets/base",
     "model_name": "LayoutModel",
     "state": {
      "_model_module": "@jupyter-widgets/base",
      "_model_module_version": "1.2.0",
      "_model_name": "LayoutModel",
      "_view_count": null,
      "_view_module": "@jupyter-widgets/base",
      "_view_module_version": "1.2.0",
      "_view_name": "LayoutView",
      "align_content": null,
      "align_items": null,
      "align_self": null,
      "border": null,
      "bottom": null,
      "display": null,
      "flex": null,
      "flex_flow": null,
      "grid_area": null,
      "grid_auto_columns": null,
      "grid_auto_flow": null,
      "grid_auto_rows": null,
      "grid_column": null,
      "grid_gap": null,
      "grid_row": null,
      "grid_template_areas": null,
      "grid_template_columns": null,
      "grid_template_rows": null,
      "height": null,
      "justify_content": null,
      "justify_items": null,
      "left": null,
      "margin": null,
      "max_height": null,
      "max_width": null,
      "min_height": null,
      "min_width": null,
      "object_fit": null,
      "object_position": null,
      "order": null,
      "overflow": null,
      "overflow_x": null,
      "overflow_y": null,
      "padding": null,
      "right": null,
      "top": null,
      "visibility": null,
      "width": null
     }
    },
    "6468a7c719684003b2a7cdc098495ac3": {
     "model_module": "@jupyter-widgets/controls",
     "model_name": "FloatProgressModel",
     "state": {
      "_dom_classes": [],
      "_model_module": "@jupyter-widgets/controls",
      "_model_module_version": "1.5.0",
      "_model_name": "FloatProgressModel",
      "_view_count": null,
      "_view_module": "@jupyter-widgets/controls",
      "_view_module_version": "1.5.0",
      "_view_name": "ProgressView",
      "bar_style": "success",
      "description": "",
      "description_tooltip": null,
      "layout": "IPY_MODEL_0e464246b9524edd82033651eaf4220b",
      "max": 29,
      "min": 0,
      "orientation": "horizontal",
      "style": "IPY_MODEL_04d2d83ea9da431cb995f533e78d74d8",
      "value": 29
     }
    },
    "659370d2c47b48d5a75f182b82fa1b14": {
     "model_module": "@jupyter-widgets/controls",
     "model_name": "HTMLModel",
     "state": {
      "_dom_classes": [],
      "_model_module": "@jupyter-widgets/controls",
      "_model_module_version": "1.5.0",
      "_model_name": "HTMLModel",
      "_view_count": null,
      "_view_module": "@jupyter-widgets/controls",
      "_view_module_version": "1.5.0",
      "_view_name": "HTMLView",
      "description": "",
      "description_tooltip": null,
      "layout": "IPY_MODEL_2b5af668b90c4ad48d54f39e559ddebb",
      "placeholder": "​",
      "style": "IPY_MODEL_f9195d1b73eb43d4b71e6790de0943a7",
      "value": " 29/29 [00:20&lt;00:00,  1.83s/it, Completed]"
     }
    },
    "6654d16500f94a68b915cc3eaf7b0705": {
     "model_module": "@jupyter-widgets/controls",
     "model_name": "HTMLModel",
     "state": {
      "_dom_classes": [],
      "_model_module": "@jupyter-widgets/controls",
      "_model_module_version": "1.5.0",
      "_model_name": "HTMLModel",
      "_view_count": null,
      "_view_module": "@jupyter-widgets/controls",
      "_view_module_version": "1.5.0",
      "_view_name": "HTMLView",
      "description": "",
      "description_tooltip": null,
      "layout": "IPY_MODEL_e16dd9e1a40d4e2c956852ccfe98514c",
      "placeholder": "​",
      "style": "IPY_MODEL_a585221650134f229f3ec9412453d751",
      "value": " 1/1 [00:02&lt;00:00,  2.19s/it]"
     }
    },
    "66773440477b4d7d805e1f859f1374a3": {
     "model_module": "@jupyter-widgets/controls",
     "model_name": "FloatProgressModel",
     "state": {
      "_dom_classes": [],
      "_model_module": "@jupyter-widgets/controls",
      "_model_module_version": "1.5.0",
      "_model_name": "FloatProgressModel",
      "_view_count": null,
      "_view_module": "@jupyter-widgets/controls",
      "_view_module_version": "1.5.0",
      "_view_name": "ProgressView",
      "bar_style": "success",
      "description": "",
      "description_tooltip": null,
      "layout": "IPY_MODEL_97ad607109a547859a9a05244f25f810",
      "max": 1,
      "min": 0,
      "orientation": "horizontal",
      "style": "IPY_MODEL_1c8f6817fc36496195d9e7c506eea6e8",
      "value": 1
     }
    },
    "69f2a47895fb4c1abaaafe72e7a13d1f": {
     "model_module": "@jupyter-widgets/controls",
     "model_name": "HBoxModel",
     "state": {
      "_dom_classes": [],
      "_model_module": "@jupyter-widgets/controls",
      "_model_module_version": "1.5.0",
      "_model_name": "HBoxModel",
      "_view_count": null,
      "_view_module": "@jupyter-widgets/controls",
      "_view_module_version": "1.5.0",
      "_view_name": "HBoxView",
      "box_style": "",
      "children": [
       "IPY_MODEL_12f4f197a9f24833a9989fbf1b616cb9",
       "IPY_MODEL_aa06b5635d334ba7866e12d1d15c7416",
       "IPY_MODEL_f98f9692888e4896b74f36c590eebf57"
      ],
      "layout": "IPY_MODEL_40ab8af00e624395aec7fa3a3f15fb6f"
     }
    },
    "6b624cef841b44d885b6d7625f823858": {
     "model_module": "@jupyter-widgets/base",
     "model_name": "LayoutModel",
     "state": {
      "_model_module": "@jupyter-widgets/base",
      "_model_module_version": "1.2.0",
      "_model_name": "LayoutModel",
      "_view_count": null,
      "_view_module": "@jupyter-widgets/base",
      "_view_module_version": "1.2.0",
      "_view_name": "LayoutView",
      "align_content": null,
      "align_items": null,
      "align_self": null,
      "border": null,
      "bottom": null,
      "display": null,
      "flex": null,
      "flex_flow": null,
      "grid_area": null,
      "grid_auto_columns": null,
      "grid_auto_flow": null,
      "grid_auto_rows": null,
      "grid_column": null,
      "grid_gap": null,
      "grid_row": null,
      "grid_template_areas": null,
      "grid_template_columns": null,
      "grid_template_rows": null,
      "height": null,
      "justify_content": null,
      "justify_items": null,
      "left": null,
      "margin": null,
      "max_height": null,
      "max_width": null,
      "min_height": null,
      "min_width": null,
      "object_fit": null,
      "object_position": null,
      "order": null,
      "overflow": null,
      "overflow_x": null,
      "overflow_y": null,
      "padding": null,
      "right": null,
      "top": null,
      "visibility": null,
      "width": null
     }
    },
    "6d42419b29b54e8a90ba77e6f17f64f4": {
     "model_module": "@jupyter-widgets/controls",
     "model_name": "ProgressStyleModel",
     "state": {
      "_model_module": "@jupyter-widgets/controls",
      "_model_module_version": "1.5.0",
      "_model_name": "ProgressStyleModel",
      "_view_count": null,
      "_view_module": "@jupyter-widgets/base",
      "_view_module_version": "1.2.0",
      "_view_name": "StyleView",
      "bar_color": null,
      "description_width": ""
     }
    },
    "705656966a584a7b80cb77df73365376": {
     "model_module": "@jupyter-widgets/controls",
     "model_name": "ProgressStyleModel",
     "state": {
      "_model_module": "@jupyter-widgets/controls",
      "_model_module_version": "1.5.0",
      "_model_name": "ProgressStyleModel",
      "_view_count": null,
      "_view_module": "@jupyter-widgets/base",
      "_view_module_version": "1.2.0",
      "_view_name": "StyleView",
      "bar_color": null,
      "description_width": ""
     }
    },
    "72ba661e434b4a9e809658f19f4b59d9": {
     "model_module": "@jupyter-widgets/controls",
     "model_name": "ProgressStyleModel",
     "state": {
      "_model_module": "@jupyter-widgets/controls",
      "_model_module_version": "1.5.0",
      "_model_name": "ProgressStyleModel",
      "_view_count": null,
      "_view_module": "@jupyter-widgets/base",
      "_view_module_version": "1.2.0",
      "_view_name": "StyleView",
      "bar_color": null,
      "description_width": ""
     }
    },
    "74981665a69844c3a4f377c61cdbe44f": {
     "model_module": "@jupyter-widgets/controls",
     "model_name": "DescriptionStyleModel",
     "state": {
      "_model_module": "@jupyter-widgets/controls",
      "_model_module_version": "1.5.0",
      "_model_name": "DescriptionStyleModel",
      "_view_count": null,
      "_view_module": "@jupyter-widgets/base",
      "_view_module_version": "1.2.0",
      "_view_name": "StyleView",
      "description_width": ""
     }
    },
    "7a124253917c46c7a9eec0650c5e06b0": {
     "model_module": "@jupyter-widgets/base",
     "model_name": "LayoutModel",
     "state": {
      "_model_module": "@jupyter-widgets/base",
      "_model_module_version": "1.2.0",
      "_model_name": "LayoutModel",
      "_view_count": null,
      "_view_module": "@jupyter-widgets/base",
      "_view_module_version": "1.2.0",
      "_view_name": "LayoutView",
      "align_content": null,
      "align_items": null,
      "align_self": null,
      "border": null,
      "bottom": null,
      "display": null,
      "flex": null,
      "flex_flow": null,
      "grid_area": null,
      "grid_auto_columns": null,
      "grid_auto_flow": null,
      "grid_auto_rows": null,
      "grid_column": null,
      "grid_gap": null,
      "grid_row": null,
      "grid_template_areas": null,
      "grid_template_columns": null,
      "grid_template_rows": null,
      "height": null,
      "justify_content": null,
      "justify_items": null,
      "left": null,
      "margin": null,
      "max_height": null,
      "max_width": null,
      "min_height": null,
      "min_width": null,
      "object_fit": null,
      "object_position": null,
      "order": null,
      "overflow": null,
      "overflow_x": null,
      "overflow_y": null,
      "padding": null,
      "right": null,
      "top": null,
      "visibility": null,
      "width": null
     }
    },
    "7c525a9f699e460589818f65bea3afa7": {
     "model_module": "@jupyter-widgets/base",
     "model_name": "LayoutModel",
     "state": {
      "_model_module": "@jupyter-widgets/base",
      "_model_module_version": "1.2.0",
      "_model_name": "LayoutModel",
      "_view_count": null,
      "_view_module": "@jupyter-widgets/base",
      "_view_module_version": "1.2.0",
      "_view_name": "LayoutView",
      "align_content": null,
      "align_items": null,
      "align_self": null,
      "border": null,
      "bottom": null,
      "display": null,
      "flex": null,
      "flex_flow": null,
      "grid_area": null,
      "grid_auto_columns": null,
      "grid_auto_flow": null,
      "grid_auto_rows": null,
      "grid_column": null,
      "grid_gap": null,
      "grid_row": null,
      "grid_template_areas": null,
      "grid_template_columns": null,
      "grid_template_rows": null,
      "height": null,
      "justify_content": null,
      "justify_items": null,
      "left": null,
      "margin": null,
      "max_height": null,
      "max_width": null,
      "min_height": null,
      "min_width": null,
      "object_fit": null,
      "object_position": null,
      "order": null,
      "overflow": null,
      "overflow_x": null,
      "overflow_y": null,
      "padding": null,
      "right": null,
      "top": null,
      "visibility": null,
      "width": null
     }
    },
    "7d8095cabadc4fdeae4dde590e9e1609": {
     "model_module": "@jupyter-widgets/controls",
     "model_name": "DescriptionStyleModel",
     "state": {
      "_model_module": "@jupyter-widgets/controls",
      "_model_module_version": "1.5.0",
      "_model_name": "DescriptionStyleModel",
      "_view_count": null,
      "_view_module": "@jupyter-widgets/base",
      "_view_module_version": "1.2.0",
      "_view_name": "StyleView",
      "description_width": ""
     }
    },
    "7f1cebe83cb1407ba38db7a04daef813": {
     "model_module": "@jupyter-widgets/base",
     "model_name": "LayoutModel",
     "state": {
      "_model_module": "@jupyter-widgets/base",
      "_model_module_version": "1.2.0",
      "_model_name": "LayoutModel",
      "_view_count": null,
      "_view_module": "@jupyter-widgets/base",
      "_view_module_version": "1.2.0",
      "_view_name": "LayoutView",
      "align_content": null,
      "align_items": null,
      "align_self": null,
      "border": null,
      "bottom": null,
      "display": null,
      "flex": null,
      "flex_flow": null,
      "grid_area": null,
      "grid_auto_columns": null,
      "grid_auto_flow": null,
      "grid_auto_rows": null,
      "grid_column": null,
      "grid_gap": null,
      "grid_row": null,
      "grid_template_areas": null,
      "grid_template_columns": null,
      "grid_template_rows": null,
      "height": null,
      "justify_content": null,
      "justify_items": null,
      "left": null,
      "margin": null,
      "max_height": null,
      "max_width": null,
      "min_height": null,
      "min_width": null,
      "object_fit": null,
      "object_position": null,
      "order": null,
      "overflow": null,
      "overflow_x": null,
      "overflow_y": null,
      "padding": null,
      "right": null,
      "top": null,
      "visibility": null,
      "width": null
     }
    },
    "849bf205dd204e68a5d2da513d474545": {
     "model_module": "@jupyter-widgets/base",
     "model_name": "LayoutModel",
     "state": {
      "_model_module": "@jupyter-widgets/base",
      "_model_module_version": "1.2.0",
      "_model_name": "LayoutModel",
      "_view_count": null,
      "_view_module": "@jupyter-widgets/base",
      "_view_module_version": "1.2.0",
      "_view_name": "LayoutView",
      "align_content": null,
      "align_items": null,
      "align_self": null,
      "border": null,
      "bottom": null,
      "display": null,
      "flex": null,
      "flex_flow": null,
      "grid_area": null,
      "grid_auto_columns": null,
      "grid_auto_flow": null,
      "grid_auto_rows": null,
      "grid_column": null,
      "grid_gap": null,
      "grid_row": null,
      "grid_template_areas": null,
      "grid_template_columns": null,
      "grid_template_rows": null,
      "height": null,
      "justify_content": null,
      "justify_items": null,
      "left": null,
      "margin": null,
      "max_height": null,
      "max_width": null,
      "min_height": null,
      "min_width": null,
      "object_fit": null,
      "object_position": null,
      "order": null,
      "overflow": null,
      "overflow_x": null,
      "overflow_y": null,
      "padding": null,
      "right": null,
      "top": null,
      "visibility": null,
      "width": null
     }
    },
    "8509c46c61ea4124a3a2eea4c3880126": {
     "model_module": "@jupyter-widgets/controls",
     "model_name": "HBoxModel",
     "state": {
      "_dom_classes": [],
      "_model_module": "@jupyter-widgets/controls",
      "_model_module_version": "1.5.0",
      "_model_name": "HBoxModel",
      "_view_count": null,
      "_view_module": "@jupyter-widgets/controls",
      "_view_module_version": "1.5.0",
      "_view_name": "HBoxView",
      "box_style": "",
      "children": [
       "IPY_MODEL_5692970492214da68fdde24660392e91",
       "IPY_MODEL_8c85abb991744e8590b3fd45ce7a73bd",
       "IPY_MODEL_39de64e130ae44efa04f8bf649ec584b"
      ],
      "layout": "IPY_MODEL_9163fb949cb64a268500125ce956ea92"
     }
    },
    "8c125133926e445b9dd7151efc1cc559": {
     "model_module": "@jupyter-widgets/base",
     "model_name": "LayoutModel",
     "state": {
      "_model_module": "@jupyter-widgets/base",
      "_model_module_version": "1.2.0",
      "_model_name": "LayoutModel",
      "_view_count": null,
      "_view_module": "@jupyter-widgets/base",
      "_view_module_version": "1.2.0",
      "_view_name": "LayoutView",
      "align_content": null,
      "align_items": null,
      "align_self": null,
      "border": null,
      "bottom": null,
      "display": null,
      "flex": null,
      "flex_flow": null,
      "grid_area": null,
      "grid_auto_columns": null,
      "grid_auto_flow": null,
      "grid_auto_rows": null,
      "grid_column": null,
      "grid_gap": null,
      "grid_row": null,
      "grid_template_areas": null,
      "grid_template_columns": null,
      "grid_template_rows": null,
      "height": null,
      "justify_content": null,
      "justify_items": null,
      "left": null,
      "margin": null,
      "max_height": null,
      "max_width": null,
      "min_height": null,
      "min_width": null,
      "object_fit": null,
      "object_position": null,
      "order": null,
      "overflow": null,
      "overflow_x": null,
      "overflow_y": null,
      "padding": null,
      "right": null,
      "top": null,
      "visibility": null,
      "width": null
     }
    },
    "8c758363f39b40748acc81048641fd86": {
     "model_module": "@jupyter-widgets/controls",
     "model_name": "HTMLModel",
     "state": {
      "_dom_classes": [],
      "_model_module": "@jupyter-widgets/controls",
      "_model_module_version": "1.5.0",
      "_model_name": "HTMLModel",
      "_view_count": null,
      "_view_module": "@jupyter-widgets/controls",
      "_view_module_version": "1.5.0",
      "_view_name": "HTMLView",
      "description": "",
      "description_tooltip": null,
      "layout": "IPY_MODEL_e466b616e3ba43fbb03dc357755d243c",
      "placeholder": "​",
      "style": "IPY_MODEL_b0b21341f99246fc9f071d29afedb166",
      "value": "Render HTML: 100%"
     }
    },
    "8c85abb991744e8590b3fd45ce7a73bd": {
     "model_module": "@jupyter-widgets/controls",
     "model_name": "FloatProgressModel",
     "state": {
      "_dom_classes": [],
      "_model_module": "@jupyter-widgets/controls",
      "_model_module_version": "1.5.0",
      "_model_name": "FloatProgressModel",
      "_view_count": null,
      "_view_module": "@jupyter-widgets/controls",
      "_view_module_version": "1.5.0",
      "_view_name": "ProgressView",
      "bar_style": "success",
      "description": "",
      "description_tooltip": null,
      "layout": "IPY_MODEL_9aad827f343e4dd0822d03e615aefd96",
      "max": 1,
      "min": 0,
      "orientation": "horizontal",
      "style": "IPY_MODEL_6d42419b29b54e8a90ba77e6f17f64f4",
      "value": 1
     }
    },
    "9163fb949cb64a268500125ce956ea92": {
     "model_module": "@jupyter-widgets/base",
     "model_name": "LayoutModel",
     "state": {
      "_model_module": "@jupyter-widgets/base",
      "_model_module_version": "1.2.0",
      "_model_name": "LayoutModel",
      "_view_count": null,
      "_view_module": "@jupyter-widgets/base",
      "_view_module_version": "1.2.0",
      "_view_name": "LayoutView",
      "align_content": null,
      "align_items": null,
      "align_self": null,
      "border": null,
      "bottom": null,
      "display": null,
      "flex": null,
      "flex_flow": null,
      "grid_area": null,
      "grid_auto_columns": null,
      "grid_auto_flow": null,
      "grid_auto_rows": null,
      "grid_column": null,
      "grid_gap": null,
      "grid_row": null,
      "grid_template_areas": null,
      "grid_template_columns": null,
      "grid_template_rows": null,
      "height": null,
      "justify_content": null,
      "justify_items": null,
      "left": null,
      "margin": null,
      "max_height": null,
      "max_width": null,
      "min_height": null,
      "min_width": null,
      "object_fit": null,
      "object_position": null,
      "order": null,
      "overflow": null,
      "overflow_x": null,
      "overflow_y": null,
      "padding": null,
      "right": null,
      "top": null,
      "visibility": null,
      "width": null
     }
    },
    "92c5af86634f470a80bca386a9359d84": {
     "model_module": "@jupyter-widgets/controls",
     "model_name": "FloatProgressModel",
     "state": {
      "_dom_classes": [],
      "_model_module": "@jupyter-widgets/controls",
      "_model_module_version": "1.5.0",
      "_model_name": "FloatProgressModel",
      "_view_count": null,
      "_view_module": "@jupyter-widgets/controls",
      "_view_module_version": "1.5.0",
      "_view_name": "ProgressView",
      "bar_style": "success",
      "description": "",
      "description_tooltip": null,
      "layout": "IPY_MODEL_f8ee7a1fe75c41708dd656ca5a058177",
      "max": 28,
      "min": 0,
      "orientation": "horizontal",
      "style": "IPY_MODEL_48d50abe1b9b4ac88a43b2fe461079c0",
      "value": 28
     }
    },
    "975b359610f7481b8708595b7add5987": {
     "model_module": "@jupyter-widgets/base",
     "model_name": "LayoutModel",
     "state": {
      "_model_module": "@jupyter-widgets/base",
      "_model_module_version": "1.2.0",
      "_model_name": "LayoutModel",
      "_view_count": null,
      "_view_module": "@jupyter-widgets/base",
      "_view_module_version": "1.2.0",
      "_view_name": "LayoutView",
      "align_content": null,
      "align_items": null,
      "align_self": null,
      "border": null,
      "bottom": null,
      "display": null,
      "flex": null,
      "flex_flow": null,
      "grid_area": null,
      "grid_auto_columns": null,
      "grid_auto_flow": null,
      "grid_auto_rows": null,
      "grid_column": null,
      "grid_gap": null,
      "grid_row": null,
      "grid_template_areas": null,
      "grid_template_columns": null,
      "grid_template_rows": null,
      "height": null,
      "justify_content": null,
      "justify_items": null,
      "left": null,
      "margin": null,
      "max_height": null,
      "max_width": null,
      "min_height": null,
      "min_width": null,
      "object_fit": null,
      "object_position": null,
      "order": null,
      "overflow": null,
      "overflow_x": null,
      "overflow_y": null,
      "padding": null,
      "right": null,
      "top": null,
      "visibility": null,
      "width": null
     }
    },
    "97ad607109a547859a9a05244f25f810": {
     "model_module": "@jupyter-widgets/base",
     "model_name": "LayoutModel",
     "state": {
      "_model_module": "@jupyter-widgets/base",
      "_model_module_version": "1.2.0",
      "_model_name": "LayoutModel",
      "_view_count": null,
      "_view_module": "@jupyter-widgets/base",
      "_view_module_version": "1.2.0",
      "_view_name": "LayoutView",
      "align_content": null,
      "align_items": null,
      "align_self": null,
      "border": null,
      "bottom": null,
      "display": null,
      "flex": null,
      "flex_flow": null,
      "grid_area": null,
      "grid_auto_columns": null,
      "grid_auto_flow": null,
      "grid_auto_rows": null,
      "grid_column": null,
      "grid_gap": null,
      "grid_row": null,
      "grid_template_areas": null,
      "grid_template_columns": null,
      "grid_template_rows": null,
      "height": null,
      "justify_content": null,
      "justify_items": null,
      "left": null,
      "margin": null,
      "max_height": null,
      "max_width": null,
      "min_height": null,
      "min_width": null,
      "object_fit": null,
      "object_position": null,
      "order": null,
      "overflow": null,
      "overflow_x": null,
      "overflow_y": null,
      "padding": null,
      "right": null,
      "top": null,
      "visibility": null,
      "width": null
     }
    },
    "9aad827f343e4dd0822d03e615aefd96": {
     "model_module": "@jupyter-widgets/base",
     "model_name": "LayoutModel",
     "state": {
      "_model_module": "@jupyter-widgets/base",
      "_model_module_version": "1.2.0",
      "_model_name": "LayoutModel",
      "_view_count": null,
      "_view_module": "@jupyter-widgets/base",
      "_view_module_version": "1.2.0",
      "_view_name": "LayoutView",
      "align_content": null,
      "align_items": null,
      "align_self": null,
      "border": null,
      "bottom": null,
      "display": null,
      "flex": null,
      "flex_flow": null,
      "grid_area": null,
      "grid_auto_columns": null,
      "grid_auto_flow": null,
      "grid_auto_rows": null,
      "grid_column": null,
      "grid_gap": null,
      "grid_row": null,
      "grid_template_areas": null,
      "grid_template_columns": null,
      "grid_template_rows": null,
      "height": null,
      "justify_content": null,
      "justify_items": null,
      "left": null,
      "margin": null,
      "max_height": null,
      "max_width": null,
      "min_height": null,
      "min_width": null,
      "object_fit": null,
      "object_position": null,
      "order": null,
      "overflow": null,
      "overflow_x": null,
      "overflow_y": null,
      "padding": null,
      "right": null,
      "top": null,
      "visibility": null,
      "width": null
     }
    },
    "a075dc90fc8643548e0ddaccc447a254": {
     "model_module": "@jupyter-widgets/base",
     "model_name": "LayoutModel",
     "state": {
      "_model_module": "@jupyter-widgets/base",
      "_model_module_version": "1.2.0",
      "_model_name": "LayoutModel",
      "_view_count": null,
      "_view_module": "@jupyter-widgets/base",
      "_view_module_version": "1.2.0",
      "_view_name": "LayoutView",
      "align_content": null,
      "align_items": null,
      "align_self": null,
      "border": null,
      "bottom": null,
      "display": null,
      "flex": null,
      "flex_flow": null,
      "grid_area": null,
      "grid_auto_columns": null,
      "grid_auto_flow": null,
      "grid_auto_rows": null,
      "grid_column": null,
      "grid_gap": null,
      "grid_row": null,
      "grid_template_areas": null,
      "grid_template_columns": null,
      "grid_template_rows": null,
      "height": null,
      "justify_content": null,
      "justify_items": null,
      "left": null,
      "margin": null,
      "max_height": null,
      "max_width": null,
      "min_height": null,
      "min_width": null,
      "object_fit": null,
      "object_position": null,
      "order": null,
      "overflow": null,
      "overflow_x": null,
      "overflow_y": null,
      "padding": null,
      "right": null,
      "top": null,
      "visibility": null,
      "width": null
     }
    },
    "a11d92d104184abb855786a45238c732": {
     "model_module": "@jupyter-widgets/base",
     "model_name": "LayoutModel",
     "state": {
      "_model_module": "@jupyter-widgets/base",
      "_model_module_version": "1.2.0",
      "_model_name": "LayoutModel",
      "_view_count": null,
      "_view_module": "@jupyter-widgets/base",
      "_view_module_version": "1.2.0",
      "_view_name": "LayoutView",
      "align_content": null,
      "align_items": null,
      "align_self": null,
      "border": null,
      "bottom": null,
      "display": null,
      "flex": null,
      "flex_flow": null,
      "grid_area": null,
      "grid_auto_columns": null,
      "grid_auto_flow": null,
      "grid_auto_rows": null,
      "grid_column": null,
      "grid_gap": null,
      "grid_row": null,
      "grid_template_areas": null,
      "grid_template_columns": null,
      "grid_template_rows": null,
      "height": null,
      "justify_content": null,
      "justify_items": null,
      "left": null,
      "margin": null,
      "max_height": null,
      "max_width": null,
      "min_height": null,
      "min_width": null,
      "object_fit": null,
      "object_position": null,
      "order": null,
      "overflow": null,
      "overflow_x": null,
      "overflow_y": null,
      "padding": null,
      "right": null,
      "top": null,
      "visibility": null,
      "width": null
     }
    },
    "a585221650134f229f3ec9412453d751": {
     "model_module": "@jupyter-widgets/controls",
     "model_name": "DescriptionStyleModel",
     "state": {
      "_model_module": "@jupyter-widgets/controls",
      "_model_module_version": "1.5.0",
      "_model_name": "DescriptionStyleModel",
      "_view_count": null,
      "_view_module": "@jupyter-widgets/base",
      "_view_module_version": "1.2.0",
      "_view_name": "StyleView",
      "description_width": ""
     }
    },
    "a870cbd6402c4a9da97d7879a27a1f90": {
     "model_module": "@jupyter-widgets/base",
     "model_name": "LayoutModel",
     "state": {
      "_model_module": "@jupyter-widgets/base",
      "_model_module_version": "1.2.0",
      "_model_name": "LayoutModel",
      "_view_count": null,
      "_view_module": "@jupyter-widgets/base",
      "_view_module_version": "1.2.0",
      "_view_name": "LayoutView",
      "align_content": null,
      "align_items": null,
      "align_self": null,
      "border": null,
      "bottom": null,
      "display": null,
      "flex": null,
      "flex_flow": null,
      "grid_area": null,
      "grid_auto_columns": null,
      "grid_auto_flow": null,
      "grid_auto_rows": null,
      "grid_column": null,
      "grid_gap": null,
      "grid_row": null,
      "grid_template_areas": null,
      "grid_template_columns": null,
      "grid_template_rows": null,
      "height": null,
      "justify_content": null,
      "justify_items": null,
      "left": null,
      "margin": null,
      "max_height": null,
      "max_width": null,
      "min_height": null,
      "min_width": null,
      "object_fit": null,
      "object_position": null,
      "order": null,
      "overflow": null,
      "overflow_x": null,
      "overflow_y": null,
      "padding": null,
      "right": null,
      "top": null,
      "visibility": null,
      "width": null
     }
    },
    "aa06b5635d334ba7866e12d1d15c7416": {
     "model_module": "@jupyter-widgets/controls",
     "model_name": "FloatProgressModel",
     "state": {
      "_dom_classes": [],
      "_model_module": "@jupyter-widgets/controls",
      "_model_module_version": "1.5.0",
      "_model_name": "FloatProgressModel",
      "_view_count": null,
      "_view_module": "@jupyter-widgets/controls",
      "_view_module_version": "1.5.0",
      "_view_name": "ProgressView",
      "bar_style": "success",
      "description": "",
      "description_tooltip": null,
      "layout": "IPY_MODEL_56debe9bb3594fd8b412a7e804a7bb84",
      "max": 1,
      "min": 0,
      "orientation": "horizontal",
      "style": "IPY_MODEL_3b026b6bbadc486aacc71ce4cd952cbd",
      "value": 1
     }
    },
    "b0b21341f99246fc9f071d29afedb166": {
     "model_module": "@jupyter-widgets/controls",
     "model_name": "DescriptionStyleModel",
     "state": {
      "_model_module": "@jupyter-widgets/controls",
      "_model_module_version": "1.5.0",
      "_model_name": "DescriptionStyleModel",
      "_view_count": null,
      "_view_module": "@jupyter-widgets/base",
      "_view_module_version": "1.2.0",
      "_view_name": "StyleView",
      "description_width": ""
     }
    },
    "b453f781d0ce4d73ade963aa8d4abff0": {
     "model_module": "@jupyter-widgets/base",
     "model_name": "LayoutModel",
     "state": {
      "_model_module": "@jupyter-widgets/base",
      "_model_module_version": "1.2.0",
      "_model_name": "LayoutModel",
      "_view_count": null,
      "_view_module": "@jupyter-widgets/base",
      "_view_module_version": "1.2.0",
      "_view_name": "LayoutView",
      "align_content": null,
      "align_items": null,
      "align_self": null,
      "border": null,
      "bottom": null,
      "display": null,
      "flex": null,
      "flex_flow": null,
      "grid_area": null,
      "grid_auto_columns": null,
      "grid_auto_flow": null,
      "grid_auto_rows": null,
      "grid_column": null,
      "grid_gap": null,
      "grid_row": null,
      "grid_template_areas": null,
      "grid_template_columns": null,
      "grid_template_rows": null,
      "height": null,
      "justify_content": null,
      "justify_items": null,
      "left": null,
      "margin": null,
      "max_height": null,
      "max_width": null,
      "min_height": null,
      "min_width": null,
      "object_fit": null,
      "object_position": null,
      "order": null,
      "overflow": null,
      "overflow_x": null,
      "overflow_y": null,
      "padding": null,
      "right": null,
      "top": null,
      "visibility": null,
      "width": null
     }
    },
    "b708548052404c9c89792646e3d303d7": {
     "model_module": "@jupyter-widgets/controls",
     "model_name": "HTMLModel",
     "state": {
      "_dom_classes": [],
      "_model_module": "@jupyter-widgets/controls",
      "_model_module_version": "1.5.0",
      "_model_name": "HTMLModel",
      "_view_count": null,
      "_view_module": "@jupyter-widgets/controls",
      "_view_module_version": "1.5.0",
      "_view_name": "HTMLView",
      "description": "",
      "description_tooltip": null,
      "layout": "IPY_MODEL_51dfd972afcc48489b0470fe6a460874",
      "placeholder": "​",
      "style": "IPY_MODEL_e8745fd44d374a31847798daaaa0a03a",
      "value": "Summarize dataset: 100%"
     }
    },
    "b99e2eaa53974a28bb0f7dc39581e6ca": {
     "model_module": "@jupyter-widgets/controls",
     "model_name": "HTMLModel",
     "state": {
      "_dom_classes": [],
      "_model_module": "@jupyter-widgets/controls",
      "_model_module_version": "1.5.0",
      "_model_name": "HTMLModel",
      "_view_count": null,
      "_view_module": "@jupyter-widgets/controls",
      "_view_module_version": "1.5.0",
      "_view_name": "HTMLView",
      "description": "",
      "description_tooltip": null,
      "layout": "IPY_MODEL_e2b63f875eab4fd18912f46dfd5f4e92",
      "placeholder": "​",
      "style": "IPY_MODEL_309af91ec8254593af008c44706f10b8",
      "value": "Summarize dataset: 100%"
     }
    },
    "bbf3dbe2ce9d4f1ca8498bdb6c43e8f1": {
     "model_module": "@jupyter-widgets/controls",
     "model_name": "DescriptionStyleModel",
     "state": {
      "_model_module": "@jupyter-widgets/controls",
      "_model_module_version": "1.5.0",
      "_model_name": "DescriptionStyleModel",
      "_view_count": null,
      "_view_module": "@jupyter-widgets/base",
      "_view_module_version": "1.2.0",
      "_view_name": "StyleView",
      "description_width": ""
     }
    },
    "be33105c388f440bbac26b44db17d342": {
     "model_module": "@jupyter-widgets/controls",
     "model_name": "DescriptionStyleModel",
     "state": {
      "_model_module": "@jupyter-widgets/controls",
      "_model_module_version": "1.5.0",
      "_model_name": "DescriptionStyleModel",
      "_view_count": null,
      "_view_module": "@jupyter-widgets/base",
      "_view_module_version": "1.2.0",
      "_view_name": "StyleView",
      "description_width": ""
     }
    },
    "c20415002b284cc3900aa524d74b29a8": {
     "model_module": "@jupyter-widgets/base",
     "model_name": "LayoutModel",
     "state": {
      "_model_module": "@jupyter-widgets/base",
      "_model_module_version": "1.2.0",
      "_model_name": "LayoutModel",
      "_view_count": null,
      "_view_module": "@jupyter-widgets/base",
      "_view_module_version": "1.2.0",
      "_view_name": "LayoutView",
      "align_content": null,
      "align_items": null,
      "align_self": null,
      "border": null,
      "bottom": null,
      "display": null,
      "flex": null,
      "flex_flow": null,
      "grid_area": null,
      "grid_auto_columns": null,
      "grid_auto_flow": null,
      "grid_auto_rows": null,
      "grid_column": null,
      "grid_gap": null,
      "grid_row": null,
      "grid_template_areas": null,
      "grid_template_columns": null,
      "grid_template_rows": null,
      "height": null,
      "justify_content": null,
      "justify_items": null,
      "left": null,
      "margin": null,
      "max_height": null,
      "max_width": null,
      "min_height": null,
      "min_width": null,
      "object_fit": null,
      "object_position": null,
      "order": null,
      "overflow": null,
      "overflow_x": null,
      "overflow_y": null,
      "padding": null,
      "right": null,
      "top": null,
      "visibility": null,
      "width": null
     }
    },
    "c28b5ad9404a4fe882664285cb33dff0": {
     "model_module": "@jupyter-widgets/controls",
     "model_name": "HTMLModel",
     "state": {
      "_dom_classes": [],
      "_model_module": "@jupyter-widgets/controls",
      "_model_module_version": "1.5.0",
      "_model_name": "HTMLModel",
      "_view_count": null,
      "_view_module": "@jupyter-widgets/controls",
      "_view_module_version": "1.5.0",
      "_view_name": "HTMLView",
      "description": "",
      "description_tooltip": null,
      "layout": "IPY_MODEL_319d9fa13591441294d61256cd0af158",
      "placeholder": "​",
      "style": "IPY_MODEL_39da7a23ac584a72bab4792c529f4839",
      "value": " 28/28 [00:18&lt;00:00,  1.61s/it, Completed]"
     }
    },
    "cc424da47cac419a8de01a6e3b1353c8": {
     "model_module": "@jupyter-widgets/controls",
     "model_name": "HBoxModel",
     "state": {
      "_dom_classes": [],
      "_model_module": "@jupyter-widgets/controls",
      "_model_module_version": "1.5.0",
      "_model_name": "HBoxModel",
      "_view_count": null,
      "_view_module": "@jupyter-widgets/controls",
      "_view_module_version": "1.5.0",
      "_view_name": "HBoxView",
      "box_style": "",
      "children": [
       "IPY_MODEL_3ee988a51ebd4ef5958b62f911fab9fe",
       "IPY_MODEL_e6971a2a46594f6cb8a3b7aaabccb715",
       "IPY_MODEL_2f22767f08aa4bc9b13818099ebfd26d"
      ],
      "layout": "IPY_MODEL_01ed83aed43e401aa95eca7498aa4120"
     }
    },
    "da0beaab858d4b669991eb0cc6d10534": {
     "model_module": "@jupyter-widgets/controls",
     "model_name": "FloatProgressModel",
     "state": {
      "_dom_classes": [],
      "_model_module": "@jupyter-widgets/controls",
      "_model_module_version": "1.5.0",
      "_model_name": "FloatProgressModel",
      "_view_count": null,
      "_view_module": "@jupyter-widgets/controls",
      "_view_module_version": "1.5.0",
      "_view_name": "ProgressView",
      "bar_style": "success",
      "description": "",
      "description_tooltip": null,
      "layout": "IPY_MODEL_6b624cef841b44d885b6d7625f823858",
      "max": 1,
      "min": 0,
      "orientation": "horizontal",
      "style": "IPY_MODEL_705656966a584a7b80cb77df73365376",
      "value": 1
     }
    },
    "e16dd9e1a40d4e2c956852ccfe98514c": {
     "model_module": "@jupyter-widgets/base",
     "model_name": "LayoutModel",
     "state": {
      "_model_module": "@jupyter-widgets/base",
      "_model_module_version": "1.2.0",
      "_model_name": "LayoutModel",
      "_view_count": null,
      "_view_module": "@jupyter-widgets/base",
      "_view_module_version": "1.2.0",
      "_view_name": "LayoutView",
      "align_content": null,
      "align_items": null,
      "align_self": null,
      "border": null,
      "bottom": null,
      "display": null,
      "flex": null,
      "flex_flow": null,
      "grid_area": null,
      "grid_auto_columns": null,
      "grid_auto_flow": null,
      "grid_auto_rows": null,
      "grid_column": null,
      "grid_gap": null,
      "grid_row": null,
      "grid_template_areas": null,
      "grid_template_columns": null,
      "grid_template_rows": null,
      "height": null,
      "justify_content": null,
      "justify_items": null,
      "left": null,
      "margin": null,
      "max_height": null,
      "max_width": null,
      "min_height": null,
      "min_width": null,
      "object_fit": null,
      "object_position": null,
      "order": null,
      "overflow": null,
      "overflow_x": null,
      "overflow_y": null,
      "padding": null,
      "right": null,
      "top": null,
      "visibility": null,
      "width": null
     }
    },
    "e2b63f875eab4fd18912f46dfd5f4e92": {
     "model_module": "@jupyter-widgets/base",
     "model_name": "LayoutModel",
     "state": {
      "_model_module": "@jupyter-widgets/base",
      "_model_module_version": "1.2.0",
      "_model_name": "LayoutModel",
      "_view_count": null,
      "_view_module": "@jupyter-widgets/base",
      "_view_module_version": "1.2.0",
      "_view_name": "LayoutView",
      "align_content": null,
      "align_items": null,
      "align_self": null,
      "border": null,
      "bottom": null,
      "display": null,
      "flex": null,
      "flex_flow": null,
      "grid_area": null,
      "grid_auto_columns": null,
      "grid_auto_flow": null,
      "grid_auto_rows": null,
      "grid_column": null,
      "grid_gap": null,
      "grid_row": null,
      "grid_template_areas": null,
      "grid_template_columns": null,
      "grid_template_rows": null,
      "height": null,
      "justify_content": null,
      "justify_items": null,
      "left": null,
      "margin": null,
      "max_height": null,
      "max_width": null,
      "min_height": null,
      "min_width": null,
      "object_fit": null,
      "object_position": null,
      "order": null,
      "overflow": null,
      "overflow_x": null,
      "overflow_y": null,
      "padding": null,
      "right": null,
      "top": null,
      "visibility": null,
      "width": null
     }
    },
    "e466b616e3ba43fbb03dc357755d243c": {
     "model_module": "@jupyter-widgets/base",
     "model_name": "LayoutModel",
     "state": {
      "_model_module": "@jupyter-widgets/base",
      "_model_module_version": "1.2.0",
      "_model_name": "LayoutModel",
      "_view_count": null,
      "_view_module": "@jupyter-widgets/base",
      "_view_module_version": "1.2.0",
      "_view_name": "LayoutView",
      "align_content": null,
      "align_items": null,
      "align_self": null,
      "border": null,
      "bottom": null,
      "display": null,
      "flex": null,
      "flex_flow": null,
      "grid_area": null,
      "grid_auto_columns": null,
      "grid_auto_flow": null,
      "grid_auto_rows": null,
      "grid_column": null,
      "grid_gap": null,
      "grid_row": null,
      "grid_template_areas": null,
      "grid_template_columns": null,
      "grid_template_rows": null,
      "height": null,
      "justify_content": null,
      "justify_items": null,
      "left": null,
      "margin": null,
      "max_height": null,
      "max_width": null,
      "min_height": null,
      "min_width": null,
      "object_fit": null,
      "object_position": null,
      "order": null,
      "overflow": null,
      "overflow_x": null,
      "overflow_y": null,
      "padding": null,
      "right": null,
      "top": null,
      "visibility": null,
      "width": null
     }
    },
    "e6971a2a46594f6cb8a3b7aaabccb715": {
     "model_module": "@jupyter-widgets/controls",
     "model_name": "FloatProgressModel",
     "state": {
      "_dom_classes": [],
      "_model_module": "@jupyter-widgets/controls",
      "_model_module_version": "1.5.0",
      "_model_name": "FloatProgressModel",
      "_view_count": null,
      "_view_module": "@jupyter-widgets/controls",
      "_view_module_version": "1.5.0",
      "_view_name": "ProgressView",
      "bar_style": "success",
      "description": "",
      "description_tooltip": null,
      "layout": "IPY_MODEL_c20415002b284cc3900aa524d74b29a8",
      "max": 1,
      "min": 0,
      "orientation": "horizontal",
      "style": "IPY_MODEL_72ba661e434b4a9e809658f19f4b59d9",
      "value": 1
     }
    },
    "e8745fd44d374a31847798daaaa0a03a": {
     "model_module": "@jupyter-widgets/controls",
     "model_name": "DescriptionStyleModel",
     "state": {
      "_model_module": "@jupyter-widgets/controls",
      "_model_module_version": "1.5.0",
      "_model_name": "DescriptionStyleModel",
      "_view_count": null,
      "_view_module": "@jupyter-widgets/base",
      "_view_module_version": "1.2.0",
      "_view_name": "StyleView",
      "description_width": ""
     }
    },
    "f04f5d11cbd945fe8ad151a0b01f73fa": {
     "model_module": "@jupyter-widgets/controls",
     "model_name": "HBoxModel",
     "state": {
      "_dom_classes": [],
      "_model_module": "@jupyter-widgets/controls",
      "_model_module_version": "1.5.0",
      "_model_name": "HBoxModel",
      "_view_count": null,
      "_view_module": "@jupyter-widgets/controls",
      "_view_module_version": "1.5.0",
      "_view_name": "HBoxView",
      "box_style": "",
      "children": [
       "IPY_MODEL_b99e2eaa53974a28bb0f7dc39581e6ca",
       "IPY_MODEL_92c5af86634f470a80bca386a9359d84",
       "IPY_MODEL_c28b5ad9404a4fe882664285cb33dff0"
      ],
      "layout": "IPY_MODEL_5eb77d979a1945bfacfe304abb7fe7b8"
     }
    },
    "f8ee7a1fe75c41708dd656ca5a058177": {
     "model_module": "@jupyter-widgets/base",
     "model_name": "LayoutModel",
     "state": {
      "_model_module": "@jupyter-widgets/base",
      "_model_module_version": "1.2.0",
      "_model_name": "LayoutModel",
      "_view_count": null,
      "_view_module": "@jupyter-widgets/base",
      "_view_module_version": "1.2.0",
      "_view_name": "LayoutView",
      "align_content": null,
      "align_items": null,
      "align_self": null,
      "border": null,
      "bottom": null,
      "display": null,
      "flex": null,
      "flex_flow": null,
      "grid_area": null,
      "grid_auto_columns": null,
      "grid_auto_flow": null,
      "grid_auto_rows": null,
      "grid_column": null,
      "grid_gap": null,
      "grid_row": null,
      "grid_template_areas": null,
      "grid_template_columns": null,
      "grid_template_rows": null,
      "height": null,
      "justify_content": null,
      "justify_items": null,
      "left": null,
      "margin": null,
      "max_height": null,
      "max_width": null,
      "min_height": null,
      "min_width": null,
      "object_fit": null,
      "object_position": null,
      "order": null,
      "overflow": null,
      "overflow_x": null,
      "overflow_y": null,
      "padding": null,
      "right": null,
      "top": null,
      "visibility": null,
      "width": null
     }
    },
    "f9195d1b73eb43d4b71e6790de0943a7": {
     "model_module": "@jupyter-widgets/controls",
     "model_name": "DescriptionStyleModel",
     "state": {
      "_model_module": "@jupyter-widgets/controls",
      "_model_module_version": "1.5.0",
      "_model_name": "DescriptionStyleModel",
      "_view_count": null,
      "_view_module": "@jupyter-widgets/base",
      "_view_module_version": "1.2.0",
      "_view_name": "StyleView",
      "description_width": ""
     }
    },
    "f98f9692888e4896b74f36c590eebf57": {
     "model_module": "@jupyter-widgets/controls",
     "model_name": "HTMLModel",
     "state": {
      "_dom_classes": [],
      "_model_module": "@jupyter-widgets/controls",
      "_model_module_version": "1.5.0",
      "_model_name": "HTMLModel",
      "_view_count": null,
      "_view_module": "@jupyter-widgets/controls",
      "_view_module_version": "1.5.0",
      "_view_name": "HTMLView",
      "description": "",
      "description_tooltip": null,
      "layout": "IPY_MODEL_849bf205dd204e68a5d2da513d474545",
      "placeholder": "​",
      "style": "IPY_MODEL_1ca60689ad364ebcbda65f32c342a55c",
      "value": " 1/1 [00:00&lt;00:00,  3.45it/s]"
     }
    },
    "fd13d802f0334aa99f5317778455709c": {
     "model_module": "@jupyter-widgets/controls",
     "model_name": "HBoxModel",
     "state": {
      "_dom_classes": [],
      "_model_module": "@jupyter-widgets/controls",
      "_model_module_version": "1.5.0",
      "_model_name": "HBoxModel",
      "_view_count": null,
      "_view_module": "@jupyter-widgets/controls",
      "_view_module_version": "1.5.0",
      "_view_name": "HBoxView",
      "box_style": "",
      "children": [
       "IPY_MODEL_8c758363f39b40748acc81048641fd86",
       "IPY_MODEL_3c31b45e638e4e679a58a0ce3605e2b5",
       "IPY_MODEL_6654d16500f94a68b915cc3eaf7b0705"
      ],
      "layout": "IPY_MODEL_1fc65bfda4ba4c3ebca9104c7663ace5"
     }
    },
    "fe83ce05fa3349ab987179628fe85842": {
     "model_module": "@jupyter-widgets/controls",
     "model_name": "HTMLModel",
     "state": {
      "_dom_classes": [],
      "_model_module": "@jupyter-widgets/controls",
      "_model_module_version": "1.5.0",
      "_model_name": "HTMLModel",
      "_view_count": null,
      "_view_module": "@jupyter-widgets/controls",
      "_view_module_version": "1.5.0",
      "_view_name": "HTMLView",
      "description": "",
      "description_tooltip": null,
      "layout": "IPY_MODEL_8c125133926e445b9dd7151efc1cc559",
      "placeholder": "​",
      "style": "IPY_MODEL_74981665a69844c3a4f377c61cdbe44f",
      "value": " 1/1 [00:10&lt;00:00, 10.10s/it]"
     }
    }
   }
  }
 },
 "nbformat": 4,
 "nbformat_minor": 1
}
